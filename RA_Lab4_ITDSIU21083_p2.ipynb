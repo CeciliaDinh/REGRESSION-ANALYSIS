{
 "cells": [
  {
   "cell_type": "markdown",
   "id": "ed8e4f08",
   "metadata": {},
   "source": [
    "### Problem 2:"
   ]
  },
  {
   "cell_type": "code",
   "execution_count": 7,
   "id": "8c245408",
   "metadata": {},
   "outputs": [],
   "source": [
    "# importing libraries\n",
    "import numpy as np\n",
    "import pandas as pd\n",
    "import seaborn as sns\n",
    "import scipy.stats as stats\n",
    "import matplotlib.pyplot as plt"
   ]
  },
  {
   "cell_type": "code",
   "execution_count": 11,
   "id": "cf1192a8",
   "metadata": {},
   "outputs": [
    {
     "data": {
      "text/html": [
       "<div>\n",
       "<style scoped>\n",
       "    .dataframe tbody tr th:only-of-type {\n",
       "        vertical-align: middle;\n",
       "    }\n",
       "\n",
       "    .dataframe tbody tr th {\n",
       "        vertical-align: top;\n",
       "    }\n",
       "\n",
       "    .dataframe thead th {\n",
       "        text-align: right;\n",
       "    }\n",
       "</style>\n",
       "<table border=\"1\" class=\"dataframe\">\n",
       "  <thead>\n",
       "    <tr style=\"text-align: right;\">\n",
       "      <th></th>\n",
       "      <th>0</th>\n",
       "      <th>1</th>\n",
       "      <th>2</th>\n",
       "      <th>3</th>\n",
       "      <th>4</th>\n",
       "      <th>5</th>\n",
       "      <th>6</th>\n",
       "      <th>7</th>\n",
       "      <th>8</th>\n",
       "      <th>9</th>\n",
       "      <th>10</th>\n",
       "      <th>11</th>\n",
       "    </tr>\n",
       "  </thead>\n",
       "  <tbody>\n",
       "    <tr>\n",
       "      <th>0</th>\n",
       "      <td>1</td>\n",
       "      <td>7.13</td>\n",
       "      <td>55.7</td>\n",
       "      <td>4.1</td>\n",
       "      <td>9.0</td>\n",
       "      <td>39.6</td>\n",
       "      <td>279</td>\n",
       "      <td>2</td>\n",
       "      <td>4</td>\n",
       "      <td>207</td>\n",
       "      <td>241</td>\n",
       "      <td>60.0</td>\n",
       "    </tr>\n",
       "    <tr>\n",
       "      <th>1</th>\n",
       "      <td>2</td>\n",
       "      <td>8.82</td>\n",
       "      <td>58.2</td>\n",
       "      <td>1.6</td>\n",
       "      <td>3.8</td>\n",
       "      <td>51.7</td>\n",
       "      <td>80</td>\n",
       "      <td>2</td>\n",
       "      <td>2</td>\n",
       "      <td>51</td>\n",
       "      <td>52</td>\n",
       "      <td>40.0</td>\n",
       "    </tr>\n",
       "    <tr>\n",
       "      <th>2</th>\n",
       "      <td>3</td>\n",
       "      <td>8.34</td>\n",
       "      <td>56.9</td>\n",
       "      <td>2.7</td>\n",
       "      <td>8.1</td>\n",
       "      <td>74.0</td>\n",
       "      <td>107</td>\n",
       "      <td>2</td>\n",
       "      <td>3</td>\n",
       "      <td>82</td>\n",
       "      <td>54</td>\n",
       "      <td>20.0</td>\n",
       "    </tr>\n",
       "    <tr>\n",
       "      <th>3</th>\n",
       "      <td>4</td>\n",
       "      <td>8.95</td>\n",
       "      <td>53.7</td>\n",
       "      <td>5.6</td>\n",
       "      <td>18.9</td>\n",
       "      <td>122.8</td>\n",
       "      <td>147</td>\n",
       "      <td>2</td>\n",
       "      <td>4</td>\n",
       "      <td>53</td>\n",
       "      <td>148</td>\n",
       "      <td>40.0</td>\n",
       "    </tr>\n",
       "    <tr>\n",
       "      <th>4</th>\n",
       "      <td>5</td>\n",
       "      <td>11.20</td>\n",
       "      <td>56.5</td>\n",
       "      <td>5.7</td>\n",
       "      <td>34.5</td>\n",
       "      <td>88.9</td>\n",
       "      <td>180</td>\n",
       "      <td>2</td>\n",
       "      <td>1</td>\n",
       "      <td>134</td>\n",
       "      <td>151</td>\n",
       "      <td>40.0</td>\n",
       "    </tr>\n",
       "  </tbody>\n",
       "</table>\n",
       "</div>"
      ],
      "text/plain": [
       "   0      1     2    3     4      5    6   7   8    9    10    11\n",
       "0   1   7.13  55.7  4.1   9.0   39.6  279   2   4  207  241  60.0\n",
       "1   2   8.82  58.2  1.6   3.8   51.7   80   2   2   51   52  40.0\n",
       "2   3   8.34  56.9  2.7   8.1   74.0  107   2   3   82   54  20.0\n",
       "3   4   8.95  53.7  5.6  18.9  122.8  147   2   4   53  148  40.0\n",
       "4   5  11.20  56.5  5.7  34.5   88.9  180   2   1  134  151  40.0"
      ]
     },
     "execution_count": 11,
     "metadata": {},
     "output_type": "execute_result"
    }
   ],
   "source": [
    "# importing data set\n",
    "df = pd.read_csv('APPENC01.txt', sep = '\\s+', header=None)\n",
    "df.head()"
   ]
  },
  {
   "cell_type": "code",
   "execution_count": 13,
   "id": "29ea85cc",
   "metadata": {},
   "outputs": [],
   "source": [
    "X1=df[2]\n",
    "X2=df[3]\n",
    "X3= df[11]\n",
    "X4= df[6]\n",
    "Y=df[1]"
   ]
  },
  {
   "cell_type": "code",
   "execution_count": 14,
   "id": "ebc7290a",
   "metadata": {},
   "outputs": [
    {
     "name": "stdout",
     "output_type": "stream",
     "text": [
      "         Y    X1   X2    X3\n",
      "0     7.13  55.7  4.1  60.0\n",
      "1     8.82  58.2  1.6  40.0\n",
      "2     8.34  56.9  2.7  20.0\n",
      "3     8.95  53.7  5.6  40.0\n",
      "4    11.20  56.5  5.7  40.0\n",
      "..     ...   ...  ...   ...\n",
      "108  11.80  53.8  5.7  62.9\n",
      "109   9.50  49.3  5.8  22.9\n",
      "110   7.70  56.9  4.4  62.9\n",
      "111  17.94  56.2  5.9  62.9\n",
      "112   9.41  59.5  3.1  22.9\n",
      "\n",
      "[113 rows x 4 columns]\n"
     ]
    }
   ],
   "source": [
    "# MODEL 1\n",
    "df1=pd.DataFrame({\"Y\":Y, \"X1\":X1, \"X2\":X2, \"X3\":X3})"
   ]
  },
  {
   "cell_type": "code",
   "execution_count": 21,
   "id": "d3ad989d",
   "metadata": {
    "scrolled": true
   },
   "outputs": [],
   "source": [
    "import matplotlib.pyplot as plt\n",
    "import seaborn as sns"
   ]
  },
  {
   "cell_type": "code",
   "execution_count": 41,
   "id": "3d4e3297",
   "metadata": {},
   "outputs": [
    {
     "name": "stdout",
     "output_type": "stream",
     "text": [
      "AxesSubplot(0.125,0.125;0.775x0.755)\n"
     ]
    },
    {
     "data": {
      "image/png": "[encoded data removed]",
      "text/plain": [
       "<Figure size 432x288 with 1 Axes>"
      ]
     },
     "metadata": {
      "needs_background": "light"
     },
     "output_type": "display_data"
    }
   ],
   "source": [
    "dot_plot1= sns.stripplot(x=X1, data=df1,color='red')\n",
    "print(dot_plot1)"
   ]
  },
  {
   "cell_type": "code",
   "execution_count": 40,
   "id": "3ad1add9",
   "metadata": {},
   "outputs": [
    {
     "name": "stdout",
     "output_type": "stream",
     "text": [
      "AxesSubplot(0.125,0.125;0.775x0.755)\n"
     ]
    },
    {
     "data": {
      "image/png": "[encoded data removed]",
      "text/plain": [
       "<Figure size 432x288 with 1 Axes>"
      ]
     },
     "metadata": {
      "needs_background": "light"
     },
     "output_type": "display_data"
    }
   ],
   "source": [
    "dot_plot2= sns.stripplot(x=X2, data=df1,color='red')\n",
    "print(dot_plot2)"
   ]
  },
  {
   "cell_type": "code",
   "execution_count": 39,
   "id": "277a23a6",
   "metadata": {},
   "outputs": [
    {
     "name": "stdout",
     "output_type": "stream",
     "text": [
      "AxesSubplot(0.125,0.125;0.775x0.755)\n"
     ]
    },
    {
     "data": {
      "image/png": "[encoded data removed]",
      "text/plain": [
       "<Figure size 432x288 with 1 Axes>"
      ]
     },
     "metadata": {
      "needs_background": "light"
     },
     "output_type": "display_data"
    }
   ],
   "source": [
    "dot_plot3= sns.stripplot(x=X3, data=df1,color='red')\n",
    "print(dot_plot3)"
   ]
  },
  {
   "cell_type": "code",
   "execution_count": 26,
   "id": "526a6f15",
   "metadata": {},
   "outputs": [],
   "source": [
    "# MODEL 2\n",
    "df2=pd.DataFrame({\"Y\":Y, \"X2\":X2, \"X3\":X3, \"X4\":X4})"
   ]
  },
  {
   "cell_type": "code",
   "execution_count": 38,
   "id": "2ebdbd94",
   "metadata": {},
   "outputs": [
    {
     "name": "stdout",
     "output_type": "stream",
     "text": [
      "AxesSubplot(0.125,0.125;0.775x0.755)\n"
     ]
    },
    {
     "data": {
      "image/png": "[encoded data removed]",
      "text/plain": [
       "<Figure size 432x288 with 1 Axes>"
      ]
     },
     "metadata": {
      "needs_background": "light"
     },
     "output_type": "display_data"
    }
   ],
   "source": [
    "dot_plott= sns.stripplot(x=X2, data=df2,color='red')\n",
    "print(dot_plott)"
   ]
  },
  {
   "cell_type": "code",
   "execution_count": 37,
   "id": "0aaf9c03",
   "metadata": {},
   "outputs": [
    {
     "name": "stdout",
     "output_type": "stream",
     "text": [
      "AxesSubplot(0.125,0.125;0.775x0.755)\n"
     ]
    },
    {
     "data": {
      "image/png": "[encoded data removed]",
      "text/plain": [
       "<Figure size 432x288 with 1 Axes>"
      ]
     },
     "metadata": {
      "needs_background": "light"
     },
     "output_type": "display_data"
    }
   ],
   "source": [
    "dot_plottt= sns.stripplot(x=X3, data=df2,color='red')\n",
    "print(dot_plottt)"
   ]
  },
  {
   "cell_type": "code",
   "execution_count": 36,
   "id": "5960fcaf",
   "metadata": {},
   "outputs": [
    {
     "name": "stdout",
     "output_type": "stream",
     "text": [
      "AxesSubplot(0.125,0.125;0.775x0.755)\n"
     ]
    },
    {
     "data": {
      "image/png": "[encoded data removed]",
      "text/plain": [
       "<Figure size 432x288 with 1 Axes>"
      ]
     },
     "metadata": {
      "needs_background": "light"
     },
     "output_type": "display_data"
    }
   ],
   "source": [
    "dot_plotttt= sns.stripplot(x=X4, data=df2,color='red')\n",
    "print(dot_plotttt)"
   ]
  },
  {
   "cell_type": "markdown",
   "id": "7c3d7263",
   "metadata": {},
   "source": [
    "### CONCLUSION: From the given dotplots, we can claim that while the variables are distributed equally, the dots in the right and left corners are quite far from the other dots. These dots are likely to be outliers. \n"
   ]
  },
  {
   "cell_type": "markdown",
   "id": "1a4b566c",
   "metadata": {},
   "source": [
    "### b. Obtain the scatter plot matrix and the correlation matrix for each proposed model. Interpret these and state your principal findings."
   ]
  },
  {
   "cell_type": "code",
   "execution_count": 43,
   "id": "7812cd06",
   "metadata": {},
   "outputs": [
    {
     "data": {
      "application/vnd.plotly.v1+json": {
       "config": {
        "plotlyServerURL": "https://plot.ly"
       },
       "data": [
        {
         "dimensions": [
          {
           "axis": {
            "matches": true
           },
           "label": "Y",
           "values": [
            7.13,
            8.82,
            8.34,
            8.95,
            11.2,
            9.76,
            9.68,
            11.18,
            8.67,
            8.84,
            11.07,
            8.3,
            12.78,
            7.58,
            9,
            11.08,
            8.28,
            11.62,
            9.06,
            9.35,
            7.53,
            10.24,
            9.78,
            9.84,
            9.2,
            8.28,
            9.31,
            8.19,
            11.65,
            9.89,
            11.03,
            9.84,
            11.77,
            13.59,
            9.74,
            10.33,
            9.97,
            7.84,
            10.47,
            8.16,
            8.48,
            10.72,
            11.2,
            10.12,
            8.37,
            10.16,
            19.56,
            10.9,
            7.67,
            8.88,
            11.48,
            9.23,
            11.41,
            12.07,
            8.63,
            11.15,
            7.14,
            7.65,
            10.73,
            11.46,
            10.42,
            11.18,
            7.93,
            9.66,
            7.78,
            9.42,
            10.02,
            8.58,
            9.61,
            8.03,
            7.39,
            7.08,
            9.53,
            10.05,
            8.45,
            6.7,
            8.9,
            10.23,
            8.88,
            10.3,
            10.79,
            7.94,
            7.63,
            8.77,
            8.09,
            9.05,
            7.91,
            10.39,
            9.36,
            11.41,
            8.86,
            8.93,
            8.92,
            8.15,
            9.77,
            8.54,
            8.66,
            12.01,
            7.95,
            10.15,
            9.76,
            9.89,
            7.14,
            13.95,
            9.44,
            10.8,
            7.14,
            8.02,
            11.8,
            9.5,
            7.7,
            17.94,
            9.41
           ]
          },
          {
           "axis": {
            "matches": true
           },
           "label": "X1",
           "values": [
            55.7,
            58.2,
            56.9,
            53.7,
            56.5,
            50.9,
            57.8,
            45.7,
            48.2,
            56.3,
            53.2,
            57.2,
            56.8,
            56.7,
            56.3,
            50.2,
            48.1,
            53.9,
            52.8,
            53.8,
            42,
            49,
            52.3,
            62.2,
            52.2,
            49.5,
            47.2,
            52.1,
            54.5,
            50.5,
            49.9,
            53,
            54.1,
            54,
            54.4,
            55.8,
            58.2,
            49.1,
            53.2,
            60.9,
            51.1,
            53.8,
            45,
            51.7,
            50.7,
            54.2,
            59.9,
            57.2,
            51.7,
            51.5,
            57.6,
            51.6,
            61.1,
            43.7,
            54,
            56.5,
            59,
            47.1,
            50.6,
            56.9,
            58,
            51,
            64.1,
            52.1,
            45.5,
            50.6,
            49.5,
            55,
            52.4,
            54.2,
            51,
            52,
            51.5,
            52,
            38.8,
            48.6,
            49.7,
            53.2,
            55.8,
            59.6,
            44.2,
            49.5,
            52.1,
            54.5,
            56.9,
            51.2,
            52.8,
            54.6,
            54.1,
            50.4,
            51.3,
            56,
            53.9,
            54.9,
            50.2,
            56.1,
            52.8,
            52.8,
            51.8,
            51.9,
            53.2,
            45.2,
            57.6,
            65.9,
            52.5,
            63.9,
            51.7,
            55,
            53.8,
            49.3,
            56.9,
            56.2,
            59.5
           ]
          },
          {
           "axis": {
            "matches": true
           },
           "label": "X2",
           "values": [
            4.1,
            1.6,
            2.7,
            5.6,
            5.7,
            5.1,
            4.6,
            5.4,
            4.3,
            6.3,
            4.9,
            4.3,
            7.7,
            3.7,
            4.2,
            5.5,
            4.5,
            6.4,
            4.2,
            4.1,
            4.2,
            4.8,
            5,
            4.8,
            4,
            3.9,
            4.5,
            3.2,
            4.4,
            4.9,
            5,
            5.2,
            5.3,
            6.1,
            6.3,
            5,
            2.8,
            4.6,
            4.1,
            1.3,
            3.7,
            4.7,
            3,
            5.6,
            5.5,
            4.6,
            6.5,
            5.5,
            1.8,
            4.2,
            5.6,
            4.3,
            7.6,
            7.8,
            3.1,
            3.9,
            3.7,
            4.3,
            3.9,
            4.5,
            3.4,
            5.7,
            5.4,
            4.4,
            5,
            4.3,
            4.4,
            3.7,
            4.5,
            3.5,
            4.2,
            2,
            5.2,
            4.5,
            3.4,
            4.5,
            2.9,
            4.9,
            4.4,
            5.1,
            2.9,
            3.5,
            5.5,
            4.7,
            1.7,
            4.1,
            2.9,
            4.3,
            4.8,
            5.8,
            2.9,
            2,
            1.3,
            5.3,
            5.3,
            2.5,
            3.8,
            4.8,
            2.3,
            6.2,
            2.6,
            4.3,
            2.7,
            6.6,
            4.5,
            2.9,
            1.4,
            2.1,
            5.7,
            5.8,
            4.4,
            5.9,
            3.1
           ]
          },
          {
           "axis": {
            "matches": true
           },
           "label": "X3",
           "values": [
            60,
            40,
            20,
            40,
            40,
            40,
            40,
            60,
            40,
            40,
            80,
            40,
            57.1,
            37.1,
            17.1,
            57.1,
            37.1,
            37.1,
            37.1,
            77.1,
            17.1,
            37.1,
            57.1,
            57.1,
            57.1,
            57.1,
            37.1,
            37.1,
            37.1,
            37.1,
            57.1,
            54.3,
            34.3,
            54.3,
            54.3,
            54.3,
            34.3,
            34.3,
            54.3,
            14.3,
            34.3,
            34.3,
            34.3,
            54.3,
            34.3,
            74.3,
            51.4,
            51.4,
            11.4,
            51.4,
            51.4,
            71.4,
            51.4,
            31.4,
            31.4,
            51.4,
            31.4,
            51.4,
            51.4,
            31.4,
            31.4,
            68.6,
            28.6,
            28.6,
            48.6,
            48.6,
            48.6,
            48.6,
            48.6,
            28.6,
            28.6,
            28.6,
            48.6,
            68.6,
            48.6,
            28.6,
            28.6,
            68.6,
            48.6,
            45.7,
            65.7,
            45.7,
            45.7,
            25.7,
            45.7,
            45.7,
            65.7,
            65.7,
            45.7,
            45.7,
            25.7,
            25.7,
            5.7,
            25.7,
            25.7,
            45.7,
            45.7,
            45.7,
            42.9,
            62.9,
            22.9,
            42.9,
            22.9,
            62.9,
            42.9,
            22.9,
            22.9,
            22.9,
            62.9,
            22.9,
            62.9,
            62.9,
            22.9
           ]
          }
         ],
         "hovertemplate": "%{xaxis.title.text}=%{x}<br>%{yaxis.title.text}=%{y}<extra></extra>",
         "legendgroup": "",
         "marker": {
          "color": "#636efa",
          "symbol": "circle"
         },
         "name": "",
         "showlegend": false,
         "type": "splom"
        }
       ],
       "layout": {
        "dragmode": "select",
        "legend": {
         "tracegroupgap": 0
        },
        "margin": {
         "t": 60
        },
        "template": {
         "data": {
          "bar": [
           {
            "error_x": {
             "color": "#2a3f5f"
            },
            "error_y": {
             "color": "#2a3f5f"
            },
            "marker": {
             "line": {
              "color": "#E5ECF6",
              "width": 0.5
             },
             "pattern": {
              "fillmode": "overlay",
              "size": 10,
              "solidity": 0.2
             }
            },
            "type": "bar"
           }
          ],
          "barpolar": [
           {
            "marker": {
             "line": {
              "color": "#E5ECF6",
              "width": 0.5
             },
             "pattern": {
              "fillmode": "overlay",
              "size": 10,
              "solidity": 0.2
             }
            },
            "type": "barpolar"
           }
          ],
          "carpet": [
           {
            "aaxis": {
             "endlinecolor": "#2a3f5f",
             "gridcolor": "white",
             "linecolor": "white",
             "minorgridcolor": "white",
             "startlinecolor": "#2a3f5f"
            },
            "baxis": {
             "endlinecolor": "#2a3f5f",
             "gridcolor": "white",
             "linecolor": "white",
             "minorgridcolor": "white",
             "startlinecolor": "#2a3f5f"
            },
            "type": "carpet"
           }
          ],
          "choropleth": [
           {
            "colorbar": {
             "outlinewidth": 0,
             "ticks": ""
            },
            "type": "choropleth"
           }
          ],
          "contour": [
           {
            "colorbar": {
             "outlinewidth": 0,
             "ticks": ""
            },
            "colorscale": [
             [
              0,
              "#0d0887"
             ],
             [
              0.1111111111111111,
              "#46039f"
             ],
             [
              0.2222222222222222,
              "#7201a8"
             ],
             [
              0.3333333333333333,
              "#9c179e"
             ],
             [
              0.4444444444444444,
              "#bd3786"
             ],
             [
              0.5555555555555556,
              "#d8576b"
             ],
             [
              0.6666666666666666,
              "#ed7953"
             ],
             [
              0.7777777777777778,
              "#fb9f3a"
             ],
             [
              0.8888888888888888,
              "#fdca26"
             ],
             [
              1,
              "#f0f921"
             ]
            ],
            "type": "contour"
           }
          ],
          "contourcarpet": [
           {
            "colorbar": {
             "outlinewidth": 0,
             "ticks": ""
            },
            "type": "contourcarpet"
           }
          ],
          "heatmap": [
           {
            "colorbar": {
             "outlinewidth": 0,
             "ticks": ""
            },
            "colorscale": [
             [
              0,
              "#0d0887"
             ],
             [
              0.1111111111111111,
              "#46039f"
             ],
             [
              0.2222222222222222,
              "#7201a8"
             ],
             [
              0.3333333333333333,
              "#9c179e"
             ],
             [
              0.4444444444444444,
              "#bd3786"
             ],
             [
              0.5555555555555556,
              "#d8576b"
             ],
             [
              0.6666666666666666,
              "#ed7953"
             ],
             [
              0.7777777777777778,
              "#fb9f3a"
             ],
             [
              0.8888888888888888,
              "#fdca26"
             ],
             [
              1,
              "#f0f921"
             ]
            ],
            "type": "heatmap"
           }
          ],
          "heatmapgl": [
           {
            "colorbar": {
             "outlinewidth": 0,
             "ticks": ""
            },
            "colorscale": [
             [
              0,
              "#0d0887"
             ],
             [
              0.1111111111111111,
              "#46039f"
             ],
             [
              0.2222222222222222,
              "#7201a8"
             ],
             [
              0.3333333333333333,
              "#9c179e"
             ],
             [
              0.4444444444444444,
              "#bd3786"
             ],
             [
              0.5555555555555556,
              "#d8576b"
             ],
             [
              0.6666666666666666,
              "#ed7953"
             ],
             [
              0.7777777777777778,
              "#fb9f3a"
             ],
             [
              0.8888888888888888,
              "#fdca26"
             ],
             [
              1,
              "#f0f921"
             ]
            ],
            "type": "heatmapgl"
           }
          ],
          "histogram": [
           {
            "marker": {
             "pattern": {
              "fillmode": "overlay",
              "size": 10,
              "solidity": 0.2
             }
            },
            "type": "histogram"
           }
          ],
          "histogram2d": [
           {
            "colorbar": {
             "outlinewidth": 0,
             "ticks": ""
            },
            "colorscale": [
             [
              0,
              "#0d0887"
             ],
             [
              0.1111111111111111,
              "#46039f"
             ],
             [
              0.2222222222222222,
              "#7201a8"
             ],
             [
              0.3333333333333333,
              "#9c179e"
             ],
             [
              0.4444444444444444,
              "#bd3786"
             ],
             [
              0.5555555555555556,
              "#d8576b"
             ],
             [
              0.6666666666666666,
              "#ed7953"
             ],
             [
              0.7777777777777778,
              "#fb9f3a"
             ],
             [
              0.8888888888888888,
              "#fdca26"
             ],
             [
              1,
              "#f0f921"
             ]
            ],
            "type": "histogram2d"
           }
          ],
          "histogram2dcontour": [
           {
            "colorbar": {
             "outlinewidth": 0,
             "ticks": ""
            },
            "colorscale": [
             [
              0,
              "#0d0887"
             ],
             [
              0.1111111111111111,
              "#46039f"
             ],
             [
              0.2222222222222222,
              "#7201a8"
             ],
             [
              0.3333333333333333,
              "#9c179e"
             ],
             [
              0.4444444444444444,
              "#bd3786"
             ],
             [
              0.5555555555555556,
              "#d8576b"
             ],
             [
              0.6666666666666666,
              "#ed7953"
             ],
             [
              0.7777777777777778,
              "#fb9f3a"
             ],
             [
              0.8888888888888888,
              "#fdca26"
             ],
             [
              1,
              "#f0f921"
             ]
            ],
            "type": "histogram2dcontour"
           }
          ],
          "mesh3d": [
           {
            "colorbar": {
             "outlinewidth": 0,
             "ticks": ""
            },
            "type": "mesh3d"
           }
          ],
          "parcoords": [
           {
            "line": {
             "colorbar": {
              "outlinewidth": 0,
              "ticks": ""
             }
            },
            "type": "parcoords"
           }
          ],
          "pie": [
           {
            "automargin": true,
            "type": "pie"
           }
          ],
          "scatter": [
           {
            "marker": {
             "colorbar": {
              "outlinewidth": 0,
              "ticks": ""
             }
            },
            "type": "scatter"
           }
          ],
          "scatter3d": [
           {
            "line": {
             "colorbar": {
              "outlinewidth": 0,
              "ticks": ""
             }
            },
            "marker": {
             "colorbar": {
              "outlinewidth": 0,
              "ticks": ""
             }
            },
            "type": "scatter3d"
           }
          ],
          "scattercarpet": [
           {
            "marker": {
             "colorbar": {
              "outlinewidth": 0,
              "ticks": ""
             }
            },
            "type": "scattercarpet"
           }
          ],
          "scattergeo": [
           {
            "marker": {
             "colorbar": {
              "outlinewidth": 0,
              "ticks": ""
             }
            },
            "type": "scattergeo"
           }
          ],
          "scattergl": [
           {
            "marker": {
             "colorbar": {
              "outlinewidth": 0,
              "ticks": ""
             }
            },
            "type": "scattergl"
           }
          ],
          "scattermapbox": [
           {
            "marker": {
             "colorbar": {
              "outlinewidth": 0,
              "ticks": ""
             }
            },
            "type": "scattermapbox"
           }
          ],
          "scatterpolar": [
           {
            "marker": {
             "colorbar": {
              "outlinewidth": 0,
              "ticks": ""
             }
            },
            "type": "scatterpolar"
           }
          ],
          "scatterpolargl": [
           {
            "marker": {
             "colorbar": {
              "outlinewidth": 0,
              "ticks": ""
             }
            },
            "type": "scatterpolargl"
           }
          ],
          "scatterternary": [
           {
            "marker": {
             "colorbar": {
              "outlinewidth": 0,
              "ticks": ""
             }
            },
            "type": "scatterternary"
           }
          ],
          "surface": [
           {
            "colorbar": {
             "outlinewidth": 0,
             "ticks": ""
            },
            "colorscale": [
             [
              0,
              "#0d0887"
             ],
             [
              0.1111111111111111,
              "#46039f"
             ],
             [
              0.2222222222222222,
              "#7201a8"
             ],
             [
              0.3333333333333333,
              "#9c179e"
             ],
             [
              0.4444444444444444,
              "#bd3786"
             ],
             [
              0.5555555555555556,
              "#d8576b"
             ],
             [
              0.6666666666666666,
              "#ed7953"
             ],
             [
              0.7777777777777778,
              "#fb9f3a"
             ],
             [
              0.8888888888888888,
              "#fdca26"
             ],
             [
              1,
              "#f0f921"
             ]
            ],
            "type": "surface"
           }
          ],
          "table": [
           {
            "cells": {
             "fill": {
              "color": "#EBF0F8"
             },
             "line": {
              "color": "white"
             }
            },
            "header": {
             "fill": {
              "color": "#C8D4E3"
             },
             "line": {
              "color": "white"
             }
            },
            "type": "table"
           }
          ]
         },
         "layout": {
          "annotationdefaults": {
           "arrowcolor": "#2a3f5f",
           "arrowhead": 0,
           "arrowwidth": 1
          },
          "autotypenumbers": "strict",
          "coloraxis": {
           "colorbar": {
            "outlinewidth": 0,
            "ticks": ""
           }
          },
          "colorscale": {
           "diverging": [
            [
             0,
             "#8e0152"
            ],
            [
             0.1,
             "#c51b7d"
            ],
            [
             0.2,
             "#de77ae"
            ],
            [
             0.3,
             "#f1b6da"
            ],
            [
             0.4,
             "#fde0ef"
            ],
            [
             0.5,
             "#f7f7f7"
            ],
            [
             0.6,
             "#e6f5d0"
            ],
            [
             0.7,
             "#b8e186"
            ],
            [
             0.8,
             "#7fbc41"
            ],
            [
             0.9,
             "#4d9221"
            ],
            [
             1,
             "#276419"
            ]
           ],
           "sequential": [
            [
             0,
             "#0d0887"
            ],
            [
             0.1111111111111111,
             "#46039f"
            ],
            [
             0.2222222222222222,
             "#7201a8"
            ],
            [
             0.3333333333333333,
             "#9c179e"
            ],
            [
             0.4444444444444444,
             "#bd3786"
            ],
            [
             0.5555555555555556,
             "#d8576b"
            ],
            [
             0.6666666666666666,
             "#ed7953"
            ],
            [
             0.7777777777777778,
             "#fb9f3a"
            ],
            [
             0.8888888888888888,
             "#fdca26"
            ],
            [
             1,
             "#f0f921"
            ]
           ],
           "sequentialminus": [
            [
             0,
             "#0d0887"
            ],
            [
             0.1111111111111111,
             "#46039f"
            ],
            [
             0.2222222222222222,
             "#7201a8"
            ],
            [
             0.3333333333333333,
             "#9c179e"
            ],
            [
             0.4444444444444444,
             "#bd3786"
            ],
            [
             0.5555555555555556,
             "#d8576b"
            ],
            [
             0.6666666666666666,
             "#ed7953"
            ],
            [
             0.7777777777777778,
             "#fb9f3a"
            ],
            [
             0.8888888888888888,
             "#fdca26"
            ],
            [
             1,
             "#f0f921"
            ]
           ]
          },
          "colorway": [
           "#636efa",
           "#EF553B",
           "#00cc96",
           "#ab63fa",
           "#FFA15A",
           "#19d3f3",
           "#FF6692",
           "#B6E880",
           "#FF97FF",
           "#FECB52"
          ],
          "font": {
           "color": "#2a3f5f"
          },
          "geo": {
           "bgcolor": "white",
           "lakecolor": "white",
           "landcolor": "#E5ECF6",
           "showlakes": true,
           "showland": true,
           "subunitcolor": "white"
          },
          "hoverlabel": {
           "align": "left"
          },
          "hovermode": "closest",
          "mapbox": {
           "style": "light"
          },
          "paper_bgcolor": "white",
          "plot_bgcolor": "#E5ECF6",
          "polar": {
           "angularaxis": {
            "gridcolor": "white",
            "linecolor": "white",
            "ticks": ""
           },
           "bgcolor": "#E5ECF6",
           "radialaxis": {
            "gridcolor": "white",
            "linecolor": "white",
            "ticks": ""
           }
          },
          "scene": {
           "xaxis": {
            "backgroundcolor": "#E5ECF6",
            "gridcolor": "white",
            "gridwidth": 2,
            "linecolor": "white",
            "showbackground": true,
            "ticks": "",
            "zerolinecolor": "white"
           },
           "yaxis": {
            "backgroundcolor": "#E5ECF6",
            "gridcolor": "white",
            "gridwidth": 2,
            "linecolor": "white",
            "showbackground": true,
            "ticks": "",
            "zerolinecolor": "white"
           },
           "zaxis": {
            "backgroundcolor": "#E5ECF6",
            "gridcolor": "white",
            "gridwidth": 2,
            "linecolor": "white",
            "showbackground": true,
            "ticks": "",
            "zerolinecolor": "white"
           }
          },
          "shapedefaults": {
           "line": {
            "color": "#2a3f5f"
           }
          },
          "ternary": {
           "aaxis": {
            "gridcolor": "white",
            "linecolor": "white",
            "ticks": ""
           },
           "baxis": {
            "gridcolor": "white",
            "linecolor": "white",
            "ticks": ""
           },
           "bgcolor": "#E5ECF6",
           "caxis": {
            "gridcolor": "white",
            "linecolor": "white",
            "ticks": ""
           }
          },
          "title": {
           "x": 0.05
          },
          "xaxis": {
           "automargin": true,
           "gridcolor": "white",
           "linecolor": "white",
           "ticks": "",
           "title": {
            "standoff": 15
           },
           "zerolinecolor": "white",
           "zerolinewidth": 2
          },
          "yaxis": {
           "automargin": true,
           "gridcolor": "white",
           "linecolor": "white",
           "ticks": "",
           "title": {
            "standoff": 15
           },
           "zerolinecolor": "white",
           "zerolinewidth": 2
          }
         }
        }
       }
      },
      "text/html": [
       "<div>                            <div id=\"2ab85845-588a-4452-9070-961fa7b5bf8e\" class=\"plotly-graph-div\" style=\"height:525px; width:100%;\"></div>            <script type=\"text/javascript\">                require([\"plotly\"], function(Plotly) {                    window.PLOTLYENV=window.PLOTLYENV || {};                                    if (document.getElementById(\"2ab85845-588a-4452-9070-961fa7b5bf8e\")) {                    Plotly.newPlot(                        \"2ab85845-588a-4452-9070-961fa7b5bf8e\",                        [{\"dimensions\":[{\"axis\":{\"matches\":true},\"label\":\"Y\",\"values\":[7.13,8.82,8.34,8.95,11.2,9.76,9.68,11.18,8.67,8.84,11.07,8.3,12.78,7.58,9.0,11.08,8.28,11.62,9.06,9.35,7.53,10.24,9.78,9.84,9.2,8.28,9.31,8.19,11.65,9.89,11.03,9.84,11.77,13.59,9.74,10.33,9.97,7.84,10.47,8.16,8.48,10.72,11.2,10.12,8.37,10.16,19.56,10.9,7.67,8.88,11.48,9.23,11.41,12.07,8.63,11.15,7.14,7.65,10.73,11.46,10.42,11.18,7.93,9.66,7.78,9.42,10.02,8.58,9.61,8.03,7.39,7.08,9.53,10.05,8.45,6.7,8.9,10.23,8.88,10.3,10.79,7.94,7.63,8.77,8.09,9.05,7.91,10.39,9.36,11.41,8.86,8.93,8.92,8.15,9.77,8.54,8.66,12.01,7.95,10.15,9.76,9.89,7.14,13.95,9.44,10.8,7.14,8.02,11.8,9.5,7.7,17.94,9.41]},{\"axis\":{\"matches\":true},\"label\":\"X1\",\"values\":[55.7,58.2,56.9,53.7,56.5,50.9,57.8,45.7,48.2,56.3,53.2,57.2,56.8,56.7,56.3,50.2,48.1,53.9,52.8,53.8,42.0,49.0,52.3,62.2,52.2,49.5,47.2,52.1,54.5,50.5,49.9,53.0,54.1,54.0,54.4,55.8,58.2,49.1,53.2,60.9,51.1,53.8,45.0,51.7,50.7,54.2,59.9,57.2,51.7,51.5,57.6,51.6,61.1,43.7,54.0,56.5,59.0,47.1,50.6,56.9,58.0,51.0,64.1,52.1,45.5,50.6,49.5,55.0,52.4,54.2,51.0,52.0,51.5,52.0,38.8,48.6,49.7,53.2,55.8,59.6,44.2,49.5,52.1,54.5,56.9,51.2,52.8,54.6,54.1,50.4,51.3,56.0,53.9,54.9,50.2,56.1,52.8,52.8,51.8,51.9,53.2,45.2,57.6,65.9,52.5,63.9,51.7,55.0,53.8,49.3,56.9,56.2,59.5]},{\"axis\":{\"matches\":true},\"label\":\"X2\",\"values\":[4.1,1.6,2.7,5.6,5.7,5.1,4.6,5.4,4.3,6.3,4.9,4.3,7.7,3.7,4.2,5.5,4.5,6.4,4.2,4.1,4.2,4.8,5.0,4.8,4.0,3.9,4.5,3.2,4.4,4.9,5.0,5.2,5.3,6.1,6.3,5.0,2.8,4.6,4.1,1.3,3.7,4.7,3.0,5.6,5.5,4.6,6.5,5.5,1.8,4.2,5.6,4.3,7.6,7.8,3.1,3.9,3.7,4.3,3.9,4.5,3.4,5.7,5.4,4.4,5.0,4.3,4.4,3.7,4.5,3.5,4.2,2.0,5.2,4.5,3.4,4.5,2.9,4.9,4.4,5.1,2.9,3.5,5.5,4.7,1.7,4.1,2.9,4.3,4.8,5.8,2.9,2.0,1.3,5.3,5.3,2.5,3.8,4.8,2.3,6.2,2.6,4.3,2.7,6.6,4.5,2.9,1.4,2.1,5.7,5.8,4.4,5.9,3.1]},{\"axis\":{\"matches\":true},\"label\":\"X3\",\"values\":[60.0,40.0,20.0,40.0,40.0,40.0,40.0,60.0,40.0,40.0,80.0,40.0,57.1,37.1,17.1,57.1,37.1,37.1,37.1,77.1,17.1,37.1,57.1,57.1,57.1,57.1,37.1,37.1,37.1,37.1,57.1,54.3,34.3,54.3,54.3,54.3,34.3,34.3,54.3,14.3,34.3,34.3,34.3,54.3,34.3,74.3,51.4,51.4,11.4,51.4,51.4,71.4,51.4,31.4,31.4,51.4,31.4,51.4,51.4,31.4,31.4,68.6,28.6,28.6,48.6,48.6,48.6,48.6,48.6,28.6,28.6,28.6,48.6,68.6,48.6,28.6,28.6,68.6,48.6,45.7,65.7,45.7,45.7,25.7,45.7,45.7,65.7,65.7,45.7,45.7,25.7,25.7,5.7,25.7,25.7,45.7,45.7,45.7,42.9,62.9,22.9,42.9,22.9,62.9,42.9,22.9,22.9,22.9,62.9,22.9,62.9,62.9,22.9]}],\"hovertemplate\":\"%{xaxis.title.text}=%{x}<br>%{yaxis.title.text}=%{y}<extra></extra>\",\"legendgroup\":\"\",\"marker\":{\"color\":\"#636efa\",\"symbol\":\"circle\"},\"name\":\"\",\"showlegend\":false,\"type\":\"splom\"}],                        {\"template\":{\"data\":{\"bar\":[{\"error_x\":{\"color\":\"#2a3f5f\"},\"error_y\":{\"color\":\"#2a3f5f\"},\"marker\":{\"line\":{\"color\":\"#E5ECF6\",\"width\":0.5},\"pattern\":{\"fillmode\":\"overlay\",\"size\":10,\"solidity\":0.2}},\"type\":\"bar\"}],\"barpolar\":[{\"marker\":{\"line\":{\"color\":\"#E5ECF6\",\"width\":0.5},\"pattern\":{\"fillmode\":\"overlay\",\"size\":10,\"solidity\":0.2}},\"type\":\"barpolar\"}],\"carpet\":[{\"aaxis\":{\"endlinecolor\":\"#2a3f5f\",\"gridcolor\":\"white\",\"linecolor\":\"white\",\"minorgridcolor\":\"white\",\"startlinecolor\":\"#2a3f5f\"},\"baxis\":{\"endlinecolor\":\"#2a3f5f\",\"gridcolor\":\"white\",\"linecolor\":\"white\",\"minorgridcolor\":\"white\",\"startlinecolor\":\"#2a3f5f\"},\"type\":\"carpet\"}],\"choropleth\":[{\"colorbar\":{\"outlinewidth\":0,\"ticks\":\"\"},\"type\":\"choropleth\"}],\"contour\":[{\"colorbar\":{\"outlinewidth\":0,\"ticks\":\"\"},\"colorscale\":[[0.0,\"#0d0887\"],[0.1111111111111111,\"#46039f\"],[0.2222222222222222,\"#7201a8\"],[0.3333333333333333,\"#9c179e\"],[0.4444444444444444,\"#bd3786\"],[0.5555555555555556,\"#d8576b\"],[0.6666666666666666,\"#ed7953\"],[0.7777777777777778,\"#fb9f3a\"],[0.8888888888888888,\"#fdca26\"],[1.0,\"#f0f921\"]],\"type\":\"contour\"}],\"contourcarpet\":[{\"colorbar\":{\"outlinewidth\":0,\"ticks\":\"\"},\"type\":\"contourcarpet\"}],\"heatmap\":[{\"colorbar\":{\"outlinewidth\":0,\"ticks\":\"\"},\"colorscale\":[[0.0,\"#0d0887\"],[0.1111111111111111,\"#46039f\"],[0.2222222222222222,\"#7201a8\"],[0.3333333333333333,\"#9c179e\"],[0.4444444444444444,\"#bd3786\"],[0.5555555555555556,\"#d8576b\"],[0.6666666666666666,\"#ed7953\"],[0.7777777777777778,\"#fb9f3a\"],[0.8888888888888888,\"#fdca26\"],[1.0,\"#f0f921\"]],\"type\":\"heatmap\"}],\"heatmapgl\":[{\"colorbar\":{\"outlinewidth\":0,\"ticks\":\"\"},\"colorscale\":[[0.0,\"#0d0887\"],[0.1111111111111111,\"#46039f\"],[0.2222222222222222,\"#7201a8\"],[0.3333333333333333,\"#9c179e\"],[0.4444444444444444,\"#bd3786\"],[0.5555555555555556,\"#d8576b\"],[0.6666666666666666,\"#ed7953\"],[0.7777777777777778,\"#fb9f3a\"],[0.8888888888888888,\"#fdca26\"],[1.0,\"#f0f921\"]],\"type\":\"heatmapgl\"}],\"histogram\":[{\"marker\":{\"pattern\":{\"fillmode\":\"overlay\",\"size\":10,\"solidity\":0.2}},\"type\":\"histogram\"}],\"histogram2d\":[{\"colorbar\":{\"outlinewidth\":0,\"ticks\":\"\"},\"colorscale\":[[0.0,\"#0d0887\"],[0.1111111111111111,\"#46039f\"],[0.2222222222222222,\"#7201a8\"],[0.3333333333333333,\"#9c179e\"],[0.4444444444444444,\"#bd3786\"],[0.5555555555555556,\"#d8576b\"],[0.6666666666666666,\"#ed7953\"],[0.7777777777777778,\"#fb9f3a\"],[0.8888888888888888,\"#fdca26\"],[1.0,\"#f0f921\"]],\"type\":\"histogram2d\"}],\"histogram2dcontour\":[{\"colorbar\":{\"outlinewidth\":0,\"ticks\":\"\"},\"colorscale\":[[0.0,\"#0d0887\"],[0.1111111111111111,\"#46039f\"],[0.2222222222222222,\"#7201a8\"],[0.3333333333333333,\"#9c179e\"],[0.4444444444444444,\"#bd3786\"],[0.5555555555555556,\"#d8576b\"],[0.6666666666666666,\"#ed7953\"],[0.7777777777777778,\"#fb9f3a\"],[0.8888888888888888,\"#fdca26\"],[1.0,\"#f0f921\"]],\"type\":\"histogram2dcontour\"}],\"mesh3d\":[{\"colorbar\":{\"outlinewidth\":0,\"ticks\":\"\"},\"type\":\"mesh3d\"}],\"parcoords\":[{\"line\":{\"colorbar\":{\"outlinewidth\":0,\"ticks\":\"\"}},\"type\":\"parcoords\"}],\"pie\":[{\"automargin\":true,\"type\":\"pie\"}],\"scatter\":[{\"marker\":{\"colorbar\":{\"outlinewidth\":0,\"ticks\":\"\"}},\"type\":\"scatter\"}],\"scatter3d\":[{\"line\":{\"colorbar\":{\"outlinewidth\":0,\"ticks\":\"\"}},\"marker\":{\"colorbar\":{\"outlinewidth\":0,\"ticks\":\"\"}},\"type\":\"scatter3d\"}],\"scattercarpet\":[{\"marker\":{\"colorbar\":{\"outlinewidth\":0,\"ticks\":\"\"}},\"type\":\"scattercarpet\"}],\"scattergeo\":[{\"marker\":{\"colorbar\":{\"outlinewidth\":0,\"ticks\":\"\"}},\"type\":\"scattergeo\"}],\"scattergl\":[{\"marker\":{\"colorbar\":{\"outlinewidth\":0,\"ticks\":\"\"}},\"type\":\"scattergl\"}],\"scattermapbox\":[{\"marker\":{\"colorbar\":{\"outlinewidth\":0,\"ticks\":\"\"}},\"type\":\"scattermapbox\"}],\"scatterpolar\":[{\"marker\":{\"colorbar\":{\"outlinewidth\":0,\"ticks\":\"\"}},\"type\":\"scatterpolar\"}],\"scatterpolargl\":[{\"marker\":{\"colorbar\":{\"outlinewidth\":0,\"ticks\":\"\"}},\"type\":\"scatterpolargl\"}],\"scatterternary\":[{\"marker\":{\"colorbar\":{\"outlinewidth\":0,\"ticks\":\"\"}},\"type\":\"scatterternary\"}],\"surface\":[{\"colorbar\":{\"outlinewidth\":0,\"ticks\":\"\"},\"colorscale\":[[0.0,\"#0d0887\"],[0.1111111111111111,\"#46039f\"],[0.2222222222222222,\"#7201a8\"],[0.3333333333333333,\"#9c179e\"],[0.4444444444444444,\"#bd3786\"],[0.5555555555555556,\"#d8576b\"],[0.6666666666666666,\"#ed7953\"],[0.7777777777777778,\"#fb9f3a\"],[0.8888888888888888,\"#fdca26\"],[1.0,\"#f0f921\"]],\"type\":\"surface\"}],\"table\":[{\"cells\":{\"fill\":{\"color\":\"#EBF0F8\"},\"line\":{\"color\":\"white\"}},\"header\":{\"fill\":{\"color\":\"#C8D4E3\"},\"line\":{\"color\":\"white\"}},\"type\":\"table\"}]},\"layout\":{\"annotationdefaults\":{\"arrowcolor\":\"#2a3f5f\",\"arrowhead\":0,\"arrowwidth\":1},\"autotypenumbers\":\"strict\",\"coloraxis\":{\"colorbar\":{\"outlinewidth\":0,\"ticks\":\"\"}},\"colorscale\":{\"diverging\":[[0,\"#8e0152\"],[0.1,\"#c51b7d\"],[0.2,\"#de77ae\"],[0.3,\"#f1b6da\"],[0.4,\"#fde0ef\"],[0.5,\"#f7f7f7\"],[0.6,\"#e6f5d0\"],[0.7,\"#b8e186\"],[0.8,\"#7fbc41\"],[0.9,\"#4d9221\"],[1,\"#276419\"]],\"sequential\":[[0.0,\"#0d0887\"],[0.1111111111111111,\"#46039f\"],[0.2222222222222222,\"#7201a8\"],[0.3333333333333333,\"#9c179e\"],[0.4444444444444444,\"#bd3786\"],[0.5555555555555556,\"#d8576b\"],[0.6666666666666666,\"#ed7953\"],[0.7777777777777778,\"#fb9f3a\"],[0.8888888888888888,\"#fdca26\"],[1.0,\"#f0f921\"]],\"sequentialminus\":[[0.0,\"#0d0887\"],[0.1111111111111111,\"#46039f\"],[0.2222222222222222,\"#7201a8\"],[0.3333333333333333,\"#9c179e\"],[0.4444444444444444,\"#bd3786\"],[0.5555555555555556,\"#d8576b\"],[0.6666666666666666,\"#ed7953\"],[0.7777777777777778,\"#fb9f3a\"],[0.8888888888888888,\"#fdca26\"],[1.0,\"#f0f921\"]]},\"colorway\":[\"#636efa\",\"#EF553B\",\"#00cc96\",\"#ab63fa\",\"#FFA15A\",\"#19d3f3\",\"#FF6692\",\"#B6E880\",\"#FF97FF\",\"#FECB52\"],\"font\":{\"color\":\"#2a3f5f\"},\"geo\":{\"bgcolor\":\"white\",\"lakecolor\":\"white\",\"landcolor\":\"#E5ECF6\",\"showlakes\":true,\"showland\":true,\"subunitcolor\":\"white\"},\"hoverlabel\":{\"align\":\"left\"},\"hovermode\":\"closest\",\"mapbox\":{\"style\":\"light\"},\"paper_bgcolor\":\"white\",\"plot_bgcolor\":\"#E5ECF6\",\"polar\":{\"angularaxis\":{\"gridcolor\":\"white\",\"linecolor\":\"white\",\"ticks\":\"\"},\"bgcolor\":\"#E5ECF6\",\"radialaxis\":{\"gridcolor\":\"white\",\"linecolor\":\"white\",\"ticks\":\"\"}},\"scene\":{\"xaxis\":{\"backgroundcolor\":\"#E5ECF6\",\"gridcolor\":\"white\",\"gridwidth\":2,\"linecolor\":\"white\",\"showbackground\":true,\"ticks\":\"\",\"zerolinecolor\":\"white\"},\"yaxis\":{\"backgroundcolor\":\"#E5ECF6\",\"gridcolor\":\"white\",\"gridwidth\":2,\"linecolor\":\"white\",\"showbackground\":true,\"ticks\":\"\",\"zerolinecolor\":\"white\"},\"zaxis\":{\"backgroundcolor\":\"#E5ECF6\",\"gridcolor\":\"white\",\"gridwidth\":2,\"linecolor\":\"white\",\"showbackground\":true,\"ticks\":\"\",\"zerolinecolor\":\"white\"}},\"shapedefaults\":{\"line\":{\"color\":\"#2a3f5f\"}},\"ternary\":{\"aaxis\":{\"gridcolor\":\"white\",\"linecolor\":\"white\",\"ticks\":\"\"},\"baxis\":{\"gridcolor\":\"white\",\"linecolor\":\"white\",\"ticks\":\"\"},\"bgcolor\":\"#E5ECF6\",\"caxis\":{\"gridcolor\":\"white\",\"linecolor\":\"white\",\"ticks\":\"\"}},\"title\":{\"x\":0.05},\"xaxis\":{\"automargin\":true,\"gridcolor\":\"white\",\"linecolor\":\"white\",\"ticks\":\"\",\"title\":{\"standoff\":15},\"zerolinecolor\":\"white\",\"zerolinewidth\":2},\"yaxis\":{\"automargin\":true,\"gridcolor\":\"white\",\"linecolor\":\"white\",\"ticks\":\"\",\"title\":{\"standoff\":15},\"zerolinecolor\":\"white\",\"zerolinewidth\":2}}},\"legend\":{\"tracegroupgap\":0},\"margin\":{\"t\":60},\"dragmode\":\"select\"},                        {\"responsive\": true}                    ).then(function(){\n",
       "                            \n",
       "var gd = document.getElementById('2ab85845-588a-4452-9070-961fa7b5bf8e');\n",
       "var x = new MutationObserver(function (mutations, observer) {{\n",
       "        var display = window.getComputedStyle(gd).display;\n",
       "        if (!display || display === 'none') {{\n",
       "            console.log([gd, 'removed!']);\n",
       "            Plotly.purge(gd);\n",
       "            observer.disconnect();\n",
       "        }}\n",
       "}});\n",
       "\n",
       "// Listen for the removal of the full notebook cells\n",
       "var notebookContainer = gd.closest('#notebook-container');\n",
       "if (notebookContainer) {{\n",
       "    x.observe(notebookContainer, {childList: true});\n",
       "}}\n",
       "\n",
       "// Listen for the clearing of the current output cell\n",
       "var outputEl = gd.closest('.output');\n",
       "if (outputEl) {{\n",
       "    x.observe(outputEl, {childList: true});\n",
       "}}\n",
       "\n",
       "                        })                };                });            </script>        </div>"
      ]
     },
     "metadata": {},
     "output_type": "display_data"
    }
   ],
   "source": [
    "import plotly.express as px\n",
    "fig = px.scatter_matrix(df1)\n",
    "fig.show()"
   ]
  },
  {
   "cell_type": "markdown",
   "id": "d933605d",
   "metadata": {},
   "source": [
    "import plotly.express as px\n",
    "fig = px.scatter_matrix(df2)\n",
    "fig.show()"
   ]
  },
  {
   "cell_type": "code",
   "execution_count": 34,
   "id": "8d4cb256",
   "metadata": {},
   "outputs": [
    {
     "name": "stdout",
     "output_type": "stream",
     "text": [
      "           Y        X1        X2        X3\n",
      "Y   1.000000  0.188914  0.533444  0.355538\n",
      "X1  0.188914  1.000000  0.001093 -0.040451\n",
      "X2  0.533444  0.001093  1.000000  0.412601\n",
      "X3  0.355538 -0.040451  0.412601  1.000000\n"
     ]
    }
   ],
   "source": [
    "matrix = df1.corr()\n",
    "print(matrix)"
   ]
  },
  {
   "cell_type": "code",
   "execution_count": 35,
   "id": "f5c8fd9f",
   "metadata": {},
   "outputs": [
    {
     "name": "stdout",
     "output_type": "stream",
     "text": [
      "           Y        X2        X3        X4\n",
      "Y   1.000000  0.533444  0.355538  0.409265\n",
      "X2  0.533444  1.000000  0.412601  0.359770\n",
      "X3  0.355538  0.412601  1.000000  0.794524\n",
      "X4  0.409265  0.359770  0.794524  1.000000\n"
     ]
    }
   ],
   "source": [
    "matrix = df2.corr()\n",
    "print(matrix)"
   ]
  },
  {
   "cell_type": "markdown",
   "id": "0747e284",
   "metadata": {},
   "source": [
    "### Conclusion: From the above correlation matrix and scatter matrix of model 1, we can see that while X1, X2, X3 have a positive correlation with Y, X3 has a positive correlation with X1. Besides that, X2 seems to have the strongest correlation with Y, while X1 has the weakest correlation with Y. From the correation matrix and scatter matrix of model 2, we can see that X2, X3 and X4 have a positive correlation with Y and X2 have the strongest correlation with Y"
   ]
  },
  {
   "cell_type": "markdown",
   "id": "ef083e9c",
   "metadata": {},
   "source": [
    "### C. For each of the two models, fit first-order regression model (6.5) with three predictor variable"
   ]
  },
  {
   "cell_type": "code",
   "execution_count": 50,
   "id": "a6a42800",
   "metadata": {},
   "outputs": [
    {
     "name": "stdout",
     "output_type": "stream",
     "text": [
      "Y=  [ 7.13  8.82  8.34  8.95 11.2   9.76  9.68 11.18  8.67  8.84 11.07  8.3\n",
      " 12.78  7.58  9.   11.08  8.28 11.62  9.06  9.35  7.53 10.24  9.78  9.84\n",
      "  9.2   8.28  9.31  8.19 11.65  9.89 11.03  9.84 11.77 13.59  9.74 10.33\n",
      "  9.97  7.84 10.47  8.16  8.48 10.72 11.2  10.12  8.37 10.16 19.56 10.9\n",
      "  7.67  8.88 11.48  9.23 11.41 12.07  8.63 11.15  7.14  7.65 10.73 11.46\n",
      " 10.42 11.18  7.93  9.66  7.78  9.42 10.02  8.58  9.61  8.03  7.39  7.08\n",
      "  9.53 10.05  8.45  6.7   8.9  10.23  8.88 10.3  10.79  7.94  7.63  8.77\n",
      "  8.09  9.05  7.91 10.39  9.36 11.41  8.86  8.93  8.92  8.15  9.77  8.54\n",
      "  8.66 12.01  7.95 10.15  9.76  9.89  7.14 13.95  9.44 10.8   7.14  8.02\n",
      " 11.8   9.5   7.7  17.94  9.41] \n",
      "\n"
     ]
    }
   ],
   "source": [
    "matY_1 = np.array(Y)\n",
    "print('Y= ',matY_1,'\\n')"
   ]
  },
  {
   "cell_type": "code",
   "execution_count": 51,
   "id": "191089f8",
   "metadata": {},
   "outputs": [],
   "source": [
    "col1 = np.array(X1)\n",
    "col2 = np.array(X2)\n",
    "col3 = np.array(X3)\n",
    "matJ = np.ones((len(X1)))\n",
    "matX = np.stack( (matJ,col1,col2,col3),axis = 1)"
   ]
  },
  {
   "cell_type": "code",
   "execution_count": 52,
   "id": "b1fc88ff",
   "metadata": {},
   "outputs": [
    {
     "name": "stdout",
     "output_type": "stream",
     "text": [
      "X'X=  [[1.1300000e+02 6.0152000e+03 4.9210000e+02 4.8770000e+03]\n",
      " [6.0152000e+03 3.2242974e+05 2.6196130e+04 2.5930451e+05]\n",
      " [4.9210000e+02 2.6196130e+04 2.3444100e+03 2.2180610e+04]\n",
      " [4.8770000e+03 2.5930451e+05 2.2180610e+04 2.3636728e+05]] \n",
      "\n"
     ]
    }
   ],
   "source": [
    "X_X1 = np.dot(matX.T,matX)\n",
    "print(\"X'X= \",X_X1,'\\n')"
   ]
  },
  {
   "cell_type": "code",
   "execution_count": 55,
   "id": "4e0df67a",
   "metadata": {},
   "outputs": [
    {
     "name": "stdout",
     "output_type": "stream",
     "text": [
      "X'Y=  [ 1090.26  58217.008  4901.071 48211.858] \n",
      "\n"
     ]
    }
   ],
   "source": [
    "X_Y1 = np.dot(matX.T,matY_1)\n",
    "print(\"X'Y= \",X_Y1, '\\n')"
   ]
  },
  {
   "cell_type": "code",
   "execution_count": 57,
   "id": "19e0fd2d",
   "metadata": {},
   "outputs": [],
   "source": [
    "Invert = np.linalg.pinv(X_X1) "
   ]
  },
  {
   "cell_type": "code",
   "execution_count": 58,
   "id": "1536cfd1",
   "metadata": {},
   "outputs": [],
   "source": [
    "b1=Invert.dot(X_Y1)"
   ]
  },
  {
   "cell_type": "code",
   "execution_count": 59,
   "id": "d8f80883",
   "metadata": {},
   "outputs": [
    {
     "data": {
      "text/plain": [
       "array([1.38646202, 0.08371448, 0.6584481 , 0.02173634])"
      ]
     },
     "execution_count": 59,
     "metadata": {},
     "output_type": "execute_result"
    }
   ],
   "source": [
    "b_trans_1 = np.transpose(b1)\n",
    "b_trans_1"
   ]
  },
  {
   "cell_type": "code",
   "execution_count": 80,
   "id": "d56bd6ea",
   "metadata": {},
   "outputs": [
    {
     "name": "stdout",
     "output_type": "stream",
     "text": [
      "Intercept:\n",
      " 1.386462024247324\n",
      "Coeficients:\n",
      " [0.         0.08371448 0.6584481  0.02173634]\n"
     ]
    }
   ],
   "source": [
    "# double check the results by OLS \n",
    "from sklearn import linear_model\n",
    "y=matY_1\n",
    "x=matX\n",
    "regr=linear_model.LinearRegression()\n",
    "regr.fit(x,y)\n",
    "print('Intercept:\\n',regr.intercept_)\n",
    "print('Coeficients:\\n',regr.coef_ )"
   ]
  },
  {
   "cell_type": "code",
   "execution_count": 95,
   "id": "fb9e7abb",
   "metadata": {},
   "outputs": [
    {
     "name": "stdout",
     "output_type": "stream",
     "text": [
      "                            OLS Regression Results                            \n",
      "==============================================================================\n",
      "Dep. Variable:                      y   R-squared:                       0.345\n",
      "Model:                            OLS   Adj. R-squared:                  0.327\n",
      "Method:                 Least Squares   F-statistic:                     19.12\n",
      "Date:                Sat, 12 Nov 2022   Prob (F-statistic):           4.93e-10\n",
      "Time:                        21:08:09   Log-Likelihood:                -209.16\n",
      "No. Observations:                 113   AIC:                             426.3\n",
      "Df Residuals:                     109   BIC:                             437.2\n",
      "Df Model:                           3                                         \n",
      "Covariance Type:            nonrobust                                         \n",
      "==============================================================================\n",
      "                 coef    std err          t      P>|t|      [0.025      0.975]\n",
      "------------------------------------------------------------------------------\n",
      "const          1.3865      1.866      0.743      0.459      -2.312       5.085\n",
      "x1             0.0837      0.033      2.518      0.013       0.018       0.150\n",
      "x2             0.6584      0.121      5.426      0.000       0.418       0.899\n",
      "x3             0.0217      0.011      2.029      0.045       0.001       0.043\n",
      "==============================================================================\n",
      "Omnibus:                       57.943   Durbin-Watson:                   2.181\n",
      "Prob(Omnibus):                  0.000   Jarque-Bera (JB):              273.953\n",
      "Skew:                           1.680   Prob(JB):                     3.25e-60\n",
      "Kurtosis:                       9.848   Cond. No.                         878.\n",
      "==============================================================================\n",
      "\n",
      "Notes:\n",
      "[1] Standard Errors assume that the covariance matrix of the errors is correctly specified.\n"
     ]
    }
   ],
   "source": [
    "# double check with statsmodels\n",
    "x = sm.add_constant(matX) \n",
    "model = sm.OLS(y, x).fit()\n",
    "predictions = model.predict(x) \n",
    "print_model = model.summary()\n",
    "print(print_model)"
   ]
  },
  {
   "cell_type": "code",
   "execution_count": 81,
   "id": "8f7f77a9",
   "metadata": {},
   "outputs": [],
   "source": [
    "X22=df2[\"X2\"]\n",
    "X33=df2[\"X3\"]\n",
    "X44=df2[\"X4\"]\n",
    "YY=df2[\"Y\"]"
   ]
  },
  {
   "cell_type": "code",
   "execution_count": 85,
   "id": "40e7552a",
   "metadata": {},
   "outputs": [],
   "source": [
    "col11 = np.array(X22)\n",
    "col22 = np.array(X33)\n",
    "col33 = np.array(X44)\n",
    "matJJ = np.ones((len(X22)))\n",
    "matXX = np.stack((matJJ,col11,col22,col33), axis=1)"
   ]
  },
  {
   "cell_type": "code",
   "execution_count": 86,
   "id": "d4cf7c85",
   "metadata": {},
   "outputs": [
    {
     "name": "stdout",
     "output_type": "stream",
     "text": [
      "X'X=  [[1.1300000e+02 6.0152000e+03 4.9210000e+02 4.8770000e+03]\n",
      " [6.0152000e+03 3.2242974e+05 2.6196130e+04 2.5930451e+05]\n",
      " [4.9210000e+02 2.6196130e+04 2.3444100e+03 2.2180610e+04]\n",
      " [4.8770000e+03 2.5930451e+05 2.2180610e+04 2.3636728e+05]] \n",
      "\n"
     ]
    }
   ],
   "source": [
    "X_X2 = np.dot(matX.T,matX)\n",
    "print(\"X'X= \",X_X2,'\\n')"
   ]
  },
  {
   "cell_type": "code",
   "execution_count": 88,
   "id": "3db5901e",
   "metadata": {},
   "outputs": [
    {
     "name": "stdout",
     "output_type": "stream",
     "text": [
      "X'Y=  [ 1090.26  58217.008  4901.071 48211.858] \n",
      "\n"
     ]
    }
   ],
   "source": [
    "X_Y2 = np.dot(matX.T,matY_1)\n",
    "print(\"X'Y= \",X_Y2, '\\n')"
   ]
  },
  {
   "cell_type": "code",
   "execution_count": 90,
   "id": "3eefe6b2",
   "metadata": {},
   "outputs": [],
   "source": [
    "Invertt = np.linalg.pinv(X_X2) "
   ]
  },
  {
   "cell_type": "code",
   "execution_count": 98,
   "id": "7337e2e2",
   "metadata": {},
   "outputs": [],
   "source": [
    "b2=Invertt.dot(X_Y2)"
   ]
  },
  {
   "cell_type": "code",
   "execution_count": 99,
   "id": "1f36fce0",
   "metadata": {},
   "outputs": [
    {
     "data": {
      "text/plain": [
       "array([1.38646202, 0.08371448, 0.6584481 , 0.02173634])"
      ]
     },
     "execution_count": 99,
     "metadata": {},
     "output_type": "execute_result"
    }
   ],
   "source": [
    "b_trans2 = np.transpose(b2)\n",
    "b_trans2"
   ]
  },
  {
   "cell_type": "code",
   "execution_count": 89,
   "id": "7fd328b0",
   "metadata": {},
   "outputs": [
    {
     "name": "stdout",
     "output_type": "stream",
     "text": [
      "Intercept:\n",
      " 6.467380133711325\n",
      "Coeficients:\n",
      " [ 0.          0.64770692 -0.00928519  0.00301784]\n"
     ]
    }
   ],
   "source": [
    "# double check \n",
    "from sklearn import linear_model\n",
    "y1=matY_1\n",
    "x1=matXX\n",
    "regr=linear_model.LinearRegression()\n",
    "regr.fit(x1,y1)\n",
    "print('Intercept:\\n',regr.intercept_)\n",
    "print('Coeficients:\\n',regr.coef_ )"
   ]
  },
  {
   "cell_type": "code",
   "execution_count": 94,
   "id": "27b06b43",
   "metadata": {},
   "outputs": [
    {
     "name": "stdout",
     "output_type": "stream",
     "text": [
      "                            OLS Regression Results                            \n",
      "==============================================================================\n",
      "Dep. Variable:                      y   R-squared:                       0.341\n",
      "Model:                            OLS   Adj. R-squared:                  0.323\n",
      "Method:                 Least Squares   F-statistic:                     18.78\n",
      "Date:                Sat, 12 Nov 2022   Prob (F-statistic):           6.85e-10\n",
      "Time:                        21:07:31   Log-Likelihood:                -209.51\n",
      "No. Observations:                 113   AIC:                             427.0\n",
      "Df Residuals:                     109   BIC:                             437.9\n",
      "Df Model:                           3                                         \n",
      "Covariance Type:            nonrobust                                         \n",
      "==============================================================================\n",
      "                 coef    std err          t      P>|t|      [0.025      0.975]\n",
      "------------------------------------------------------------------------------\n",
      "const          6.4674      0.615     10.513      0.000       5.248       7.687\n",
      "x1             0.6477      0.122      5.313      0.000       0.406       0.889\n",
      "x2            -0.0093      0.017     -0.562      0.575      -0.042       0.023\n",
      "x3             0.0030      0.001      2.373      0.019       0.000       0.006\n",
      "==============================================================================\n",
      "Omnibus:                       63.365   Durbin-Watson:                   2.109\n",
      "Prob(Omnibus):                  0.000   Jarque-Bera (JB):              329.279\n",
      "Skew:                           1.835   Prob(JB):                     3.15e-72\n",
      "Kurtosis:                      10.515   Cond. No.                     1.34e+03\n",
      "==============================================================================\n",
      "\n",
      "Notes:\n",
      "[1] Standard Errors assume that the covariance matrix of the errors is correctly specified.\n",
      "[2] The condition number is large, 1.34e+03. This might indicate that there are\n",
      "strong multicollinearity or other numerical problems.\n"
     ]
    }
   ],
   "source": [
    "# double check with statsmodels\n",
    "x1 = sm.add_constant(matXX) \n",
    "model = sm.OLS(y1, x1).fit()\n",
    "predictions = model.predict(x1) \n",
    "print_model = model.summary()\n",
    "print(print_model)"
   ]
  },
  {
   "cell_type": "markdown",
   "id": "32c06c9f",
   "metadata": {},
   "source": [
    "### d. Calculate R-squared, adjusted R-squared for each model. What do they indicate here? Is one model clearly preferable in terms of this measure\n"
   ]
  },
  {
   "cell_type": "code",
   "execution_count": 97,
   "id": "f07a293f",
   "metadata": {},
   "outputs": [
    {
     "name": "stdout",
     "output_type": "stream",
     "text": [
      "                            OLS Regression Results                            \n",
      "==============================================================================\n",
      "Dep. Variable:                      y   R-squared:                       0.345\n",
      "Model:                            OLS   Adj. R-squared:                  0.327\n",
      "Method:                 Least Squares   F-statistic:                     19.12\n",
      "Date:                Sat, 12 Nov 2022   Prob (F-statistic):           4.93e-10\n",
      "Time:                        21:08:59   Log-Likelihood:                -209.16\n",
      "No. Observations:                 113   AIC:                             426.3\n",
      "Df Residuals:                     109   BIC:                             437.2\n",
      "Df Model:                           3                                         \n",
      "Covariance Type:            nonrobust                                         \n",
      "==============================================================================\n",
      "                 coef    std err          t      P>|t|      [0.025      0.975]\n",
      "------------------------------------------------------------------------------\n",
      "const          1.3865      1.866      0.743      0.459      -2.312       5.085\n",
      "x1             0.0837      0.033      2.518      0.013       0.018       0.150\n",
      "x2             0.6584      0.121      5.426      0.000       0.418       0.899\n",
      "x3             0.0217      0.011      2.029      0.045       0.001       0.043\n",
      "==============================================================================\n",
      "Omnibus:                       57.943   Durbin-Watson:                   2.181\n",
      "Prob(Omnibus):                  0.000   Jarque-Bera (JB):              273.953\n",
      "Skew:                           1.680   Prob(JB):                     3.25e-60\n",
      "Kurtosis:                       9.848   Cond. No.                         878.\n",
      "==============================================================================\n",
      "\n",
      "Notes:\n",
      "[1] Standard Errors assume that the covariance matrix of the errors is correctly specified.\n"
     ]
    }
   ],
   "source": [
    "x = sm.add_constant(matX) \n",
    "model = sm.OLS(y, x).fit()\n",
    "predictions = model.predict(x) \n",
    "print_model = model.summary()\n",
    "print(print_model)"
   ]
  },
  {
   "cell_type": "code",
   "execution_count": 96,
   "id": "807d808a",
   "metadata": {},
   "outputs": [
    {
     "name": "stdout",
     "output_type": "stream",
     "text": [
      "                            OLS Regression Results                            \n",
      "==============================================================================\n",
      "Dep. Variable:                      y   R-squared:                       0.341\n",
      "Model:                            OLS   Adj. R-squared:                  0.323\n",
      "Method:                 Least Squares   F-statistic:                     18.78\n",
      "Date:                Sat, 12 Nov 2022   Prob (F-statistic):           6.85e-10\n",
      "Time:                        21:08:40   Log-Likelihood:                -209.51\n",
      "No. Observations:                 113   AIC:                             427.0\n",
      "Df Residuals:                     109   BIC:                             437.9\n",
      "Df Model:                           3                                         \n",
      "Covariance Type:            nonrobust                                         \n",
      "==============================================================================\n",
      "                 coef    std err          t      P>|t|      [0.025      0.975]\n",
      "------------------------------------------------------------------------------\n",
      "const          6.4674      0.615     10.513      0.000       5.248       7.687\n",
      "x1             0.6477      0.122      5.313      0.000       0.406       0.889\n",
      "x2            -0.0093      0.017     -0.562      0.575      -0.042       0.023\n",
      "x3             0.0030      0.001      2.373      0.019       0.000       0.006\n",
      "==============================================================================\n",
      "Omnibus:                       63.365   Durbin-Watson:                   2.109\n",
      "Prob(Omnibus):                  0.000   Jarque-Bera (JB):              329.279\n",
      "Skew:                           1.835   Prob(JB):                     3.15e-72\n",
      "Kurtosis:                      10.515   Cond. No.                     1.34e+03\n",
      "==============================================================================\n",
      "\n",
      "Notes:\n",
      "[1] Standard Errors assume that the covariance matrix of the errors is correctly specified.\n",
      "[2] The condition number is large, 1.34e+03. This might indicate that there are\n",
      "strong multicollinearity or other numerical problems.\n"
     ]
    }
   ],
   "source": [
    "x1 = sm.add_constant(matXX) \n",
    "model = sm.OLS(y1, x1).fit()\n",
    "predictions = model.predict(x1) \n",
    "print_model = model.summary()\n",
    "print(print_model)"
   ]
  },
  {
   "cell_type": "markdown",
   "id": "ce551d9a",
   "metadata": {},
   "source": [
    "### Conclusion: R-squared and Adjusted R-Square of Model 1 is 0.345 and 0.327 respectively, R-square and Adjusted R-square of Model 2 is 0.341 and 0,323 respectively"
   ]
  },
  {
   "cell_type": "markdown",
   "id": "d31a4227",
   "metadata": {},
   "source": [
    "### e. For each model, obtain the residuals and plot them against fitted values, each of the three predictor variables, and each of the two-factor interaction terms. Also prepare a normal probability plot of the residuals for each of the two fitted models. Interpret your plots and state your findings. Is one model clearly more appropriate than the other?"
   ]
  },
  {
   "cell_type": "code",
   "execution_count": 100,
   "id": "31002e2e",
   "metadata": {},
   "outputs": [],
   "source": [
    "b0=  1.386462024247324\n",
    "b1=   0.08371448\n",
    "b2= 0.6584481\n",
    "b3= 0.02173634\n",
    "Y_hat1= b0 -b1*X1 -b2*X2 - b3*X3\n",
    "resid= Y- Y_hat1"
   ]
  },
  {
   "cell_type": "code",
   "execution_count": 108,
   "id": "3b37db3f",
   "metadata": {},
   "outputs": [
    {
     "data": {
      "image/png": "[encoded data removed]",
      "text/plain": [
       "<Figure size 432x288 with 1 Axes>"
      ]
     },
     "metadata": {
      "needs_background": "light"
     },
     "output_type": "display_data"
    }
   ],
   "source": [
    "sns.residplot(x=X1*X2, y=resid, data=df1);"
   ]
  },
  {
   "cell_type": "code",
   "execution_count": 109,
   "id": "e9921a0f",
   "metadata": {},
   "outputs": [
    {
     "data": {
      "image/png": "[encoded data removed]",
      "text/plain": [
       "<Figure size 432x288 with 1 Axes>"
      ]
     },
     "metadata": {
      "needs_background": "light"
     },
     "output_type": "display_data"
    }
   ],
   "source": [
    "sns.residplot(x=X1*X3, y=resid, data=df1);"
   ]
  },
  {
   "cell_type": "code",
   "execution_count": 110,
   "id": "a90d4a2f",
   "metadata": {},
   "outputs": [
    {
     "data": {
      "image/png": "[encoded data removed]",
      "text/plain": [
       "<Figure size 432x288 with 1 Axes>"
      ]
     },
     "metadata": {
      "needs_background": "light"
     },
     "output_type": "display_data"
    }
   ],
   "source": [
    "sns.residplot(x=X2*X3, y=resid, data=df1);"
   ]
  },
  {
   "cell_type": "code",
   "execution_count": 112,
   "id": "1d354656",
   "metadata": {},
   "outputs": [
    {
     "data": {
      "image/png": "[encoded data removed]",
      "text/plain": [
       "<Figure size 432x288 with 1 Axes>"
      ]
     },
     "metadata": {
      "needs_background": "light"
     },
     "output_type": "display_data"
    }
   ],
   "source": [
    "sns.residplot(x=X2*X4, y=resid, data=df1);"
   ]
  },
  {
   "cell_type": "code",
   "execution_count": 113,
   "id": "b61f8734",
   "metadata": {},
   "outputs": [
    {
     "data": {
      "image/png": "[encoded data removed]",
      "text/plain": [
       "<Figure size 432x288 with 1 Axes>"
      ]
     },
     "metadata": {
      "needs_background": "light"
     },
     "output_type": "display_data"
    }
   ],
   "source": [
    "sns.residplot(x=X1*X4, y=resid, data=df1);"
   ]
  },
  {
   "cell_type": "code",
   "execution_count": 114,
   "id": "30a8f1cf",
   "metadata": {},
   "outputs": [
    {
     "data": {
      "image/png": "[encoded data removed]",
      "text/plain": [
       "<Figure size 432x288 with 1 Axes>"
      ]
     },
     "metadata": {
      "needs_background": "light"
     },
     "output_type": "display_data"
    }
   ],
   "source": [
    "sns.residplot(x=X3*X4, y=resid, data=df1);"
   ]
  },
  {
   "cell_type": "code",
   "execution_count": 111,
   "id": "60d4ff8a",
   "metadata": {},
   "outputs": [
    {
     "data": {
      "image/png": "[encoded data removed]",
      "text/plain": [
       "<Figure size 432x288 with 1 Axes>"
      ]
     },
     "metadata": {
      "needs_background": "light"
     },
     "output_type": "display_data"
    }
   ],
   "source": [
    "import statsmodels.api as sm\n",
    "import pylab as py\n",
    "sm.qqplot(resid)\n",
    "py.show()"
   ]
  },
  {
   "cell_type": "markdown",
   "id": "7dd03ec2",
   "metadata": {},
   "source": [
    "### Conclusion: From the given resid plots we can see that there is a systematic pattern in the plot,however, there are some outliers in the right top corner of the data set. From the normal probability plot we can see that residuals  are distributed symetrically for the symmetrical distribution in both X and Y axies. However, the two tails of the normal probability seems to be outliers. "
   ]
  },
  {
   "cell_type": "code",
   "execution_count": null,
   "id": "5ac9dc84",
   "metadata": {},
   "outputs": [],
   "source": []
  }
 ],
 "metadata": {
  "kernelspec": {
   "display_name": "Python 3 (ipykernel)",
   "language": "python",
   "name": "python3"
  },
  "language_info": {
   "codemirror_mode": {
    "name": "ipython",
    "version": 3
   },
   "file_extension": ".py",
   "mimetype": "text/x-python",
   "name": "python",
   "nbconvert_exporter": "python",
   "pygments_lexer": "ipython3",
   "version": "3.9.12"
  }
 },
 "nbformat": 4,
 "nbformat_minor": 5
}
