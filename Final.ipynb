{
 "cells": [
  {
   "cell_type": "markdown",
   "id": "1d4694eb",
   "metadata": {},
   "source": [
    "# $Nguyen$ $Hoang$ $Anh$ $Tu$\n",
    "# $ITDSIU20090$\n",
    "# $$FINAL$$"
   ]
  },
  {
   "cell_type": "markdown",
   "id": "5faf53de",
   "metadata": {},
   "source": [
    "# Problem 3:"
   ]
  },
  {
   "cell_type": "markdown",
   "id": "5e7d6c95",
   "metadata": {},
   "source": [
    "$Import$ $dataset$"
   ]
  },
  {
   "cell_type": "code",
   "execution_count": 64,
   "id": "47a22eb4",
   "metadata": {},
   "outputs": [
    {
     "data": {
      "text/html": [
       "<table>\n",
       "<thead><tr><th scope=col>Y</th><th scope=col>X</th></tr></thead>\n",
       "<tbody>\n",
       "\t<tr><td>106</td><td>43 </td></tr>\n",
       "\t<tr><td>106</td><td>41 </td></tr>\n",
       "\t<tr><td> 97</td><td>47 </td></tr>\n",
       "\t<tr><td>113</td><td>46 </td></tr>\n",
       "\t<tr><td> 96</td><td>45 </td></tr>\n",
       "\t<tr><td>119</td><td>41 </td></tr>\n",
       "</tbody>\n",
       "</table>\n"
      ],
      "text/latex": [
       "\\begin{tabular}{r|ll}\n",
       " Y & X\\\\\n",
       "\\hline\n",
       "\t 106 & 43 \\\\\n",
       "\t 106 & 41 \\\\\n",
       "\t  97 & 47 \\\\\n",
       "\t 113 & 46 \\\\\n",
       "\t  96 & 45 \\\\\n",
       "\t 119 & 41 \\\\\n",
       "\\end{tabular}\n"
      ],
      "text/markdown": [
       "\n",
       "| Y | X |\n",
       "|---|---|\n",
       "| 106 | 43  |\n",
       "| 106 | 41  |\n",
       "|  97 | 47  |\n",
       "| 113 | 46  |\n",
       "|  96 | 45  |\n",
       "| 119 | 41  |\n",
       "\n"
      ],
      "text/plain": [
       "  Y   X \n",
       "1 106 43\n",
       "2 106 41\n",
       "3  97 47\n",
       "4 113 46\n",
       "5  96 45\n",
       "6 119 41"
      ]
     },
     "metadata": {},
     "output_type": "display_data"
    }
   ],
   "source": [
    "mm = read.table('C:/Users/Admin/OneDrive/Máy tính/Sem 2/RA/pro3.txt', col.names = c('Y', 'X'))\n",
    "head(mm)"
   ]
  },
  {
   "cell_type": "code",
   "execution_count": 65,
   "id": "0dbf0d34",
   "metadata": {},
   "outputs": [
    {
     "name": "stderr",
     "output_type": "stream",
     "text": [
      "The following object is masked _by_ .GlobalEnv:\n",
      "\n",
      "    X\n",
      "\n",
      "The following objects are masked from mm (pos = 3):\n",
      "\n",
      "    X, Y\n",
      "\n",
      "The following objects are masked from mm (pos = 4):\n",
      "\n",
      "    X, Y\n",
      "\n",
      "The following object is masked from fs:\n",
      "\n",
      "    Y\n",
      "\n",
      "The following object is masked from jp (pos = 7):\n",
      "\n",
      "    Y\n",
      "\n",
      "The following objects are masked from mm (pos = 8):\n",
      "\n",
      "    X, Y\n",
      "\n",
      "The following object is masked from jp (pos = 9):\n",
      "\n",
      "    Y\n",
      "\n",
      "The following objects are masked from mm (pos = 10):\n",
      "\n",
      "    X, Y\n",
      "\n"
     ]
    }
   ],
   "source": [
    "attach(mm)"
   ]
  },
  {
   "cell_type": "markdown",
   "id": "b11300cd",
   "metadata": {},
   "source": [
    "## a. "
   ]
  },
  {
   "cell_type": "code",
   "execution_count": 4,
   "id": "27adbafc",
   "metadata": {},
   "outputs": [],
   "source": [
    "X_sq = (mm$X)^2\n",
    "data = cbind(mm, mm$X, X_sq)"
   ]
  },
  {
   "cell_type": "code",
   "execution_count": 66,
   "id": "92e41bdb",
   "metadata": {},
   "outputs": [
    {
     "data": {
      "text/plain": [
       "\n",
       "Call:\n",
       "lm(formula = Y ~ X + X_sq, data = data)\n",
       "\n",
       "Residuals:\n",
       "    Min      1Q  Median      3Q     Max \n",
       "-15.086  -6.154  -1.088   6.220  20.578 \n",
       "\n",
       "Coefficients:\n",
       "              Estimate Std. Error t value Pr(>|t|)    \n",
       "(Intercept) 207.349608  29.225118   7.095 2.21e-09 ***\n",
       "X            -2.964323   1.003031  -2.955  0.00453 ** \n",
       "X_sq          0.014840   0.008357   1.776  0.08109 .  \n",
       "---\n",
       "Signif. codes:  0 '***' 0.001 '**' 0.01 '*' 0.05 '.' 0.1 ' ' 1\n",
       "\n",
       "Residual standard error: 8.026 on 57 degrees of freedom\n",
       "Multiple R-squared:  0.7632,\tAdjusted R-squared:  0.7549 \n",
       "F-statistic: 91.84 on 2 and 57 DF,  p-value: < 2.2e-16\n"
      ]
     },
     "metadata": {},
     "output_type": "display_data"
    }
   ],
   "source": [
    "model = lm(Y ~ X + X_sq, data = data)\n",
    "summary(model)"
   ]
  },
  {
   "cell_type": "markdown",
   "id": "2297c78d",
   "metadata": {},
   "source": [
    "$$\\hat{Y} = 207.349608 - 2.964323*X + 0.014840*X^2$$"
   ]
  },
  {
   "cell_type": "code",
   "execution_count": 8,
   "id": "dd075931",
   "metadata": {},
   "outputs": [
    {
     "data": {
      "image/png": "[encoded data removed]",
      "text/plain": [
       "Plot with title \"Polynomial Model\""
      ]
     },
     "metadata": {},
     "output_type": "display_data"
    }
   ],
   "source": [
    "plot(X, Y, main=\"Polynomial Model\", xlab=\"Age (centered)\", ylab=\"Mass\", pch=19) \n",
    "x = sort(mm$X)\n",
    "y = 207.349608 - 2.964323*x + 0.014840*x^2\n",
    "lines( x, y , col=\"blue\") "
   ]
  },
  {
   "cell_type": "markdown",
   "id": "6a25795a",
   "metadata": {},
   "source": [
    "The quadratic function does appear to be a good fit."
   ]
  },
  {
   "cell_type": "code",
   "execution_count": 11,
   "id": "e5297d3f",
   "metadata": {},
   "outputs": [
    {
     "data": {
      "text/html": [
       "0.763170662074775"
      ],
      "text/latex": [
       "0.763170662074775"
      ],
      "text/markdown": [
       "0.763170662074775"
      ],
      "text/plain": [
       "[1] 0.7631707"
      ]
     },
     "metadata": {},
     "output_type": "display_data"
    }
   ],
   "source": [
    "R_sq = 1 - 3671.3126/(3671.3126 + 203.1349+11627.4858)\n",
    "R_sq"
   ]
  },
  {
   "cell_type": "code",
   "execution_count": 10,
   "id": "6a1d5071",
   "metadata": {},
   "outputs": [
    {
     "data": {
      "text/html": [
       "<table>\n",
       "<thead><tr><th></th><th scope=col>Df</th><th scope=col>Sum Sq</th><th scope=col>Mean Sq</th><th scope=col>F value</th><th scope=col>Pr(&gt;F)</th></tr></thead>\n",
       "<tbody>\n",
       "\t<tr><th scope=row>X</th><td> 1          </td><td>11627.4858  </td><td>11627.48584 </td><td>180.525814  </td><td>2.594561e-19</td></tr>\n",
       "\t<tr><th scope=row>X_sq</th><td> 1          </td><td>  203.1349  </td><td>  203.13491 </td><td>  3.153828  </td><td>8.108690e-02</td></tr>\n",
       "\t<tr><th scope=row>Residuals</th><td>57          </td><td> 3671.3126  </td><td>   64.40899 </td><td>        NA  </td><td>          NA</td></tr>\n",
       "</tbody>\n",
       "</table>\n"
      ],
      "text/latex": [
       "\\begin{tabular}{r|lllll}\n",
       "  & Df & Sum Sq & Mean Sq & F value & Pr(>F)\\\\\n",
       "\\hline\n",
       "\tX &  1           & 11627.4858   & 11627.48584  & 180.525814   & 2.594561e-19\\\\\n",
       "\tX\\_sq &  1           &   203.1349   &   203.13491  &   3.153828   & 8.108690e-02\\\\\n",
       "\tResiduals & 57           &  3671.3126   &    64.40899  &         NA   &           NA\\\\\n",
       "\\end{tabular}\n"
      ],
      "text/markdown": [
       "\n",
       "| <!--/--> | Df | Sum Sq | Mean Sq | F value | Pr(>F) |\n",
       "|---|---|---|---|---|---|\n",
       "| X |  1           | 11627.4858   | 11627.48584  | 180.525814   | 2.594561e-19 |\n",
       "| X_sq |  1           |   203.1349   |   203.13491  |   3.153828   | 8.108690e-02 |\n",
       "| Residuals | 57           |  3671.3126   |    64.40899  |         NA   |           NA |\n",
       "\n"
      ],
      "text/plain": [
       "          Df Sum Sq     Mean Sq     F value    Pr(>F)      \n",
       "X          1 11627.4858 11627.48584 180.525814 2.594561e-19\n",
       "X_sq       1   203.1349   203.13491   3.153828 8.108690e-02\n",
       "Residuals 57  3671.3126    64.40899         NA           NA"
      ]
     },
     "metadata": {},
     "output_type": "display_data"
    }
   ],
   "source": [
    "anova(model)"
   ]
  },
  {
   "cell_type": "markdown",
   "id": "16edd5c0",
   "metadata": {},
   "source": [
    "$R^2$ = .7632 or 76.32%"
   ]
  },
  {
   "cell_type": "markdown",
   "id": "a4b51725",
   "metadata": {},
   "source": [
    "## b."
   ]
  },
  {
   "cell_type": "markdown",
   "id": "a1a78d58",
   "metadata": {},
   "source": [
    "$Use$ $F$ $Test$"
   ]
  },
  {
   "cell_type": "code",
   "execution_count": 12,
   "id": "d37f530b",
   "metadata": {},
   "outputs": [],
   "source": [
    "p = 3\n",
    "n = nrow(mm)\n",
    "SSR = 11627.4858 + 203.1349\n",
    "SSE = 3671.3126\n",
    "MSR = SSR / (p - 1)\n",
    "MSE = SSE / (n - p)"
   ]
  },
  {
   "cell_type": "code",
   "execution_count": 13,
   "id": "6bc0c14b",
   "metadata": {},
   "outputs": [
    {
     "data": {
      "text/html": [
       "91.8398204364292"
      ],
      "text/latex": [
       "91.8398204364292"
      ],
      "text/markdown": [
       "91.8398204364292"
      ],
      "text/plain": [
       "[1] 91.83982"
      ]
     },
     "metadata": {},
     "output_type": "display_data"
    }
   ],
   "source": [
    "F_star = MSR/MSE\n",
    "F_star"
   ]
  },
  {
   "cell_type": "code",
   "execution_count": 14,
   "id": "291cd126",
   "metadata": {},
   "outputs": [
    {
     "data": {
      "text/html": [
       "4.19323096600993"
      ],
      "text/latex": [
       "4.19323096600993"
      ],
      "text/markdown": [
       "4.19323096600993"
      ],
      "text/plain": [
       "[1] 4.193231"
      ]
     },
     "metadata": {},
     "output_type": "display_data"
    }
   ],
   "source": [
    "alpha = 0.02\n",
    "F = qf(1 - alpha, p - 1, n - p)\n",
    "F"
   ]
  },
  {
   "cell_type": "markdown",
   "id": "8d079a33",
   "metadata": {},
   "source": [
    "We have $F^* > F(0.98, 2, 57)$, so we reject the null hypothesis and conclude the alternative hypothesis that $\\beta_1$ and $\\beta_{11} \\neq 0$"
   ]
  },
  {
   "cell_type": "markdown",
   "id": "8d0866bd",
   "metadata": {},
   "source": [
    "$P-value$"
   ]
  },
  {
   "cell_type": "code",
   "execution_count": 21,
   "id": "dd4d5828",
   "metadata": {},
   "outputs": [
    {
     "data": {
      "text/plain": [
       "\n",
       "Call:\n",
       "lm(formula = Y ~ X + X_sq, data = data)\n",
       "\n",
       "Residuals:\n",
       "    Min      1Q  Median      3Q     Max \n",
       "-15.086  -6.154  -1.088   6.220  20.578 \n",
       "\n",
       "Coefficients:\n",
       "              Estimate Std. Error t value Pr(>|t|)    \n",
       "(Intercept) 207.349608  29.225118   7.095 2.21e-09 ***\n",
       "X            -2.964323   1.003031  -2.955  0.00453 ** \n",
       "X_sq          0.014840   0.008357   1.776  0.08109 .  \n",
       "---\n",
       "Signif. codes:  0 '***' 0.001 '**' 0.01 '*' 0.05 '.' 0.1 ' ' 1\n",
       "\n",
       "Residual standard error: 8.026 on 57 degrees of freedom\n",
       "Multiple R-squared:  0.7632,\tAdjusted R-squared:  0.7549 \n",
       "F-statistic: 91.84 on 2 and 57 DF,  p-value: < 2.2e-16\n"
      ]
     },
     "metadata": {},
     "output_type": "display_data"
    }
   ],
   "source": [
    "summary(model)"
   ]
  },
  {
   "cell_type": "markdown",
   "id": "950c520c",
   "metadata": {},
   "source": [
    "We can see that the p-value < 2.2e-16 < $\\alpha = 0.05$. Therefore, we reject $H_0$ and conclude $H_a$"
   ]
  },
  {
   "cell_type": "markdown",
   "id": "9f3d0bb4",
   "metadata": {},
   "source": [
    "## c."
   ]
  },
  {
   "cell_type": "code",
   "execution_count": 67,
   "id": "b3778ecc",
   "metadata": {},
   "outputs": [],
   "source": [
    "xi_new = 48 \n",
    "xi_new_sq = (xi_new)^2"
   ]
  },
  {
   "cell_type": "code",
   "execution_count": 68,
   "id": "2c22d4f1",
   "metadata": {},
   "outputs": [
    {
     "data": {
      "text/html": [
       "<table>\n",
       "<thead><tr><th scope=col>fit</th><th scope=col>lwr</th><th scope=col>upr</th></tr></thead>\n",
       "<tbody>\n",
       "\t<tr><td>99.25461</td><td>96.28436</td><td>102.2249</td></tr>\n",
       "</tbody>\n",
       "</table>\n"
      ],
      "text/latex": [
       "\\begin{tabular}{r|lll}\n",
       " fit & lwr & upr\\\\\n",
       "\\hline\n",
       "\t 99.25461 & 96.28436 & 102.2249\\\\\n",
       "\\end{tabular}\n"
      ],
      "text/markdown": [
       "\n",
       "| fit | lwr | upr |\n",
       "|---|---|---|\n",
       "| 99.25461 | 96.28436 | 102.2249 |\n",
       "\n"
      ],
      "text/plain": [
       "  fit      lwr      upr     \n",
       "1 99.25461 96.28436 102.2249"
      ]
     },
     "metadata": {},
     "output_type": "display_data"
    }
   ],
   "source": [
    "Y_interval_est_1 = predict(model, data.frame(X = xi_new, X_sq = xi_new_sq), \n",
    "                           interval=\"confidence\", level=0.95)\n",
    "Y_interval_est_1"
   ]
  },
  {
   "cell_type": "markdown",
   "id": "417e7664",
   "metadata": {},
   "source": [
    "### The confident interval of the mean muscle mass for women aged 48 years with 95% confident is between 96.28436 and 102.2249"
   ]
  },
  {
   "cell_type": "markdown",
   "id": "a4431fb4",
   "metadata": {},
   "source": [
    "## d."
   ]
  },
  {
   "cell_type": "code",
   "execution_count": 69,
   "id": "7e0fcdad",
   "metadata": {},
   "outputs": [
    {
     "data": {
      "text/html": [
       "<table>\n",
       "<thead><tr><th scope=col>fit</th><th scope=col>lwr</th><th scope=col>upr</th></tr></thead>\n",
       "<tbody>\n",
       "\t<tr><td>99.25461</td><td>82.9116 </td><td>115.5976</td></tr>\n",
       "</tbody>\n",
       "</table>\n"
      ],
      "text/latex": [
       "\\begin{tabular}{r|lll}\n",
       " fit & lwr & upr\\\\\n",
       "\\hline\n",
       "\t 99.25461 & 82.9116  & 115.5976\\\\\n",
       "\\end{tabular}\n"
      ],
      "text/markdown": [
       "\n",
       "| fit | lwr | upr |\n",
       "|---|---|---|\n",
       "| 99.25461 | 82.9116  | 115.5976 |\n",
       "\n"
      ],
      "text/plain": [
       "  fit      lwr     upr     \n",
       "1 99.25461 82.9116 115.5976"
      ]
     },
     "metadata": {},
     "output_type": "display_data"
    }
   ],
   "source": [
    "Y_interval_est_2 = predict(model, data.frame(X = xi_new, X_sq = xi_new_sq), \n",
    "                           interval=\"prediction\", level=0.95)\n",
    "Y_interval_est_2"
   ]
  },
  {
   "cell_type": "markdown",
   "id": "f2ffe6ab",
   "metadata": {},
   "source": [
    "### The prediction interval of the muscle mass for women aged 48 years with 95% confident is between 82.9116\t and 115.5976"
   ]
  },
  {
   "cell_type": "markdown",
   "id": "9c98ebe2",
   "metadata": {},
   "source": [
    "## e."
   ]
  },
  {
   "cell_type": "code",
   "execution_count": 28,
   "id": "4dc9af9a",
   "metadata": {},
   "outputs": [
    {
     "data": {
      "text/html": [
       "<table>\n",
       "<thead><tr><th></th><th scope=col>(Intercept)</th><th scope=col>X</th><th scope=col>X_sq</th></tr></thead>\n",
       "<tbody>\n",
       "\t<tr><th scope=row>(Intercept)</th><td>854.1075094  </td><td>-29.164571446</td><td> 0.2399973719</td></tr>\n",
       "\t<tr><th scope=row>X</th><td>-29.1645714  </td><td>  1.006071636</td><td>-0.0083491864</td></tr>\n",
       "\t<tr><th scope=row>X_sq</th><td>  0.2399974  </td><td> -0.008349186</td><td> 0.0000698327</td></tr>\n",
       "</tbody>\n",
       "</table>\n"
      ],
      "text/latex": [
       "\\begin{tabular}{r|lll}\n",
       "  & (Intercept) & X & X\\_sq\\\\\n",
       "\\hline\n",
       "\t(Intercept) & 854.1075094   & -29.164571446 &  0.2399973719\\\\\n",
       "\tX & -29.1645714   &   1.006071636 & -0.0083491864\\\\\n",
       "\tX\\_sq &   0.2399974   &  -0.008349186 &  0.0000698327\\\\\n",
       "\\end{tabular}\n"
      ],
      "text/markdown": [
       "\n",
       "| <!--/--> | (Intercept) | X | X_sq |\n",
       "|---|---|---|---|\n",
       "| (Intercept) | 854.1075094   | -29.164571446 |  0.2399973719 |\n",
       "| X | -29.1645714   |   1.006071636 | -0.0083491864 |\n",
       "| X_sq |   0.2399974   |  -0.008349186 |  0.0000698327 |\n",
       "\n"
      ],
      "text/plain": [
       "            (Intercept) X             X_sq         \n",
       "(Intercept) 854.1075094 -29.164571446  0.2399973719\n",
       "X           -29.1645714   1.006071636 -0.0083491864\n",
       "X_sq          0.2399974  -0.008349186  0.0000698327"
      ]
     },
     "metadata": {},
     "output_type": "display_data"
    }
   ],
   "source": [
    "vcov(model)"
   ]
  },
  {
   "cell_type": "code",
   "execution_count": 29,
   "id": "01fb5309",
   "metadata": {},
   "outputs": [
    {
     "data": {
      "text/html": [
       "<strong>X_sq:</strong> 0.0148404968978553"
      ],
      "text/latex": [
       "\\textbf{X\\textbackslash{}\\_sq:} 0.0148404968978553"
      ],
      "text/markdown": [
       "**X_sq:** 0.0148404968978553"
      ],
      "text/plain": [
       "     X_sq \n",
       "0.0148405 "
      ]
     },
     "metadata": {},
     "output_type": "display_data"
    },
    {
     "data": {
      "text/html": [
       "0.00835659619701706"
      ],
      "text/latex": [
       "0.00835659619701706"
      ],
      "text/markdown": [
       "0.00835659619701706"
      ],
      "text/plain": [
       "[1] 0.008356596"
      ]
     },
     "metadata": {},
     "output_type": "display_data"
    }
   ],
   "source": [
    "b_xi_sq = coef(model)[3]\n",
    "b_xi_sq\n",
    "\n",
    "s_xi_sq = sqrt(0.0000698327)\n",
    "s_xi_sq"
   ]
  },
  {
   "cell_type": "code",
   "execution_count": 30,
   "id": "6cc48036",
   "metadata": {},
   "outputs": [
    {
     "data": {
      "text/html": [
       "<strong>X_sq:</strong> 1.77590211947212"
      ],
      "text/latex": [
       "\\textbf{X\\textbackslash{}\\_sq:} 1.77590211947212"
      ],
      "text/markdown": [
       "**X_sq:** 1.77590211947212"
      ],
      "text/plain": [
       "    X_sq \n",
       "1.775902 "
      ]
     },
     "metadata": {},
     "output_type": "display_data"
    }
   ],
   "source": [
    "t_star = b_xi_sq / s_xi_sq\n",
    "t_star"
   ]
  },
  {
   "cell_type": "code",
   "execution_count": 31,
   "id": "f6020fe9",
   "metadata": {},
   "outputs": [
    {
     "data": {
      "text/html": [
       "2.39356750994555"
      ],
      "text/latex": [
       "2.39356750994555"
      ],
      "text/markdown": [
       "2.39356750994555"
      ],
      "text/plain": [
       "[1] 2.393568"
      ]
     },
     "metadata": {},
     "output_type": "display_data"
    }
   ],
   "source": [
    "alpha = 0.02\n",
    "t = qt(1 - alpha/2, n - p)\n",
    "t"
   ]
  },
  {
   "cell_type": "markdown",
   "id": "8b4e42b0",
   "metadata": {},
   "source": [
    "### Conclude that the coefficient for the quadratic term is not statistically significantly different from 0, so the quadratic term can be dropped from the model without too much loss. Using the decision rule approach, Reject $H_0$ if $|t^*|$ ≥ 2.393567. Because $t^*$ < 2.393567, do not reject $H_0$. \n"
   ]
  },
  {
   "cell_type": "markdown",
   "id": "29f3b28e",
   "metadata": {},
   "source": [
    "## f."
   ]
  },
  {
   "cell_type": "code",
   "execution_count": 35,
   "id": "48dbb838",
   "metadata": {},
   "outputs": [],
   "source": [
    "X_sq = (mm$X)^2\n",
    "data = cbind(mm, mm$X, X_sq)"
   ]
  },
  {
   "cell_type": "code",
   "execution_count": 36,
   "id": "5b2f6183",
   "metadata": {},
   "outputs": [
    {
     "data": {
      "text/plain": [
       "\n",
       "Call:\n",
       "lm(formula = Y ~ X + X_sq, data = data)\n",
       "\n",
       "Residuals:\n",
       "    Min      1Q  Median      3Q     Max \n",
       "-15.086  -6.154  -1.088   6.220  20.578 \n",
       "\n",
       "Coefficients:\n",
       "              Estimate Std. Error t value Pr(>|t|)    \n",
       "(Intercept) 207.349608  29.225118   7.095 2.21e-09 ***\n",
       "X            -2.964323   1.003031  -2.955  0.00453 ** \n",
       "X_sq          0.014840   0.008357   1.776  0.08109 .  \n",
       "---\n",
       "Signif. codes:  0 '***' 0.001 '**' 0.01 '*' 0.05 '.' 0.1 ' ' 1\n",
       "\n",
       "Residual standard error: 8.026 on 57 degrees of freedom\n",
       "Multiple R-squared:  0.7632,\tAdjusted R-squared:  0.7549 \n",
       "F-statistic: 91.84 on 2 and 57 DF,  p-value: < 2.2e-16\n"
      ]
     },
     "metadata": {},
     "output_type": "display_data"
    }
   ],
   "source": [
    "model = lm(Y ~ X + X_sq, data = data)\n",
    "summary(model)"
   ]
  },
  {
   "cell_type": "markdown",
   "id": "0eb6a00a",
   "metadata": {},
   "source": [
    "# Problem 4:"
   ]
  },
  {
   "cell_type": "markdown",
   "id": "41e230b2",
   "metadata": {},
   "source": [
    "$Import$ $dataset$"
   ]
  },
  {
   "cell_type": "code",
   "execution_count": 37,
   "id": "5789cb6e",
   "metadata": {},
   "outputs": [
    {
     "data": {
      "text/html": [
       "<table>\n",
       "<thead><tr><th scope=col>Y</th><th scope=col>X1</th><th scope=col>X2</th><th scope=col>X3</th><th scope=col>X4</th></tr></thead>\n",
       "<tbody>\n",
       "\t<tr><td>88 </td><td> 86</td><td>110</td><td>100</td><td> 87</td></tr>\n",
       "\t<tr><td>80 </td><td> 62</td><td> 97</td><td> 99</td><td>100</td></tr>\n",
       "\t<tr><td>96 </td><td>110</td><td>107</td><td>103</td><td>103</td></tr>\n",
       "\t<tr><td>76 </td><td>101</td><td>117</td><td> 93</td><td> 95</td></tr>\n",
       "\t<tr><td>80 </td><td>100</td><td>101</td><td> 95</td><td> 88</td></tr>\n",
       "\t<tr><td>73 </td><td> 78</td><td> 85</td><td> 95</td><td> 84</td></tr>\n",
       "</tbody>\n",
       "</table>\n"
      ],
      "text/latex": [
       "\\begin{tabular}{r|lllll}\n",
       " Y & X1 & X2 & X3 & X4\\\\\n",
       "\\hline\n",
       "\t 88  &  86 & 110 & 100 &  87\\\\\n",
       "\t 80  &  62 &  97 &  99 & 100\\\\\n",
       "\t 96  & 110 & 107 & 103 & 103\\\\\n",
       "\t 76  & 101 & 117 &  93 &  95\\\\\n",
       "\t 80  & 100 & 101 &  95 &  88\\\\\n",
       "\t 73  &  78 &  85 &  95 &  84\\\\\n",
       "\\end{tabular}\n"
      ],
      "text/markdown": [
       "\n",
       "| Y | X1 | X2 | X3 | X4 |\n",
       "|---|---|---|---|---|\n",
       "| 88  |  86 | 110 | 100 |  87 |\n",
       "| 80  |  62 |  97 |  99 | 100 |\n",
       "| 96  | 110 | 107 | 103 | 103 |\n",
       "| 76  | 101 | 117 |  93 |  95 |\n",
       "| 80  | 100 | 101 |  95 |  88 |\n",
       "| 73  |  78 |  85 |  95 |  84 |\n",
       "\n"
      ],
      "text/plain": [
       "  Y  X1  X2  X3  X4 \n",
       "1 88  86 110 100  87\n",
       "2 80  62  97  99 100\n",
       "3 96 110 107 103 103\n",
       "4 76 101 117  93  95\n",
       "5 80 100 101  95  88\n",
       "6 73  78  85  95  84"
      ]
     },
     "metadata": {},
     "output_type": "display_data"
    }
   ],
   "source": [
    "jp = read.table('C:/Users/Admin/OneDrive/Máy tính/Sem 2/RA/pro4.txt', col.names = c('Y', 'X1', 'X2', 'X3', 'X4'))\n",
    "head(jp)"
   ]
  },
  {
   "cell_type": "code",
   "execution_count": 38,
   "id": "08ad64a7",
   "metadata": {},
   "outputs": [
    {
     "name": "stderr",
     "output_type": "stream",
     "text": [
      "The following object is masked from mm (pos = 3):\n",
      "\n",
      "    Y\n",
      "\n",
      "The following objects are masked from jp (pos = 4):\n",
      "\n",
      "    X1, X2, X3, X4, Y\n",
      "\n",
      "The following object is masked from mm (pos = 5):\n",
      "\n",
      "    Y\n",
      "\n"
     ]
    }
   ],
   "source": [
    "attach(jp)"
   ]
  },
  {
   "cell_type": "markdown",
   "id": "421eb9d4",
   "metadata": {},
   "source": [
    "## a."
   ]
  },
  {
   "cell_type": "code",
   "execution_count": 39,
   "id": "37430da1",
   "metadata": {},
   "outputs": [
    {
     "data": {
      "text/plain": [
       "\n",
       "Call:\n",
       "lm(formula = Y ~ ., data = jp)\n",
       "\n",
       "Residuals:\n",
       "    Min      1Q  Median      3Q     Max \n",
       "-5.9779 -3.4506  0.0941  2.4749  5.9959 \n",
       "\n",
       "Coefficients:\n",
       "              Estimate Std. Error t value Pr(>|t|)    \n",
       "(Intercept) -124.38182    9.94106 -12.512 6.48e-11 ***\n",
       "X1             0.29573    0.04397   6.725 1.52e-06 ***\n",
       "X2             0.04829    0.05662   0.853  0.40383    \n",
       "X3             1.30601    0.16409   7.959 1.26e-07 ***\n",
       "X4             0.51982    0.13194   3.940  0.00081 ***\n",
       "---\n",
       "Signif. codes:  0 '***' 0.001 '**' 0.01 '*' 0.05 '.' 0.1 ' ' 1\n",
       "\n",
       "Residual standard error: 4.099 on 20 degrees of freedom\n",
       "Multiple R-squared:  0.9629,\tAdjusted R-squared:  0.9555 \n",
       "F-statistic: 129.7 on 4 and 20 DF,  p-value: 5.262e-14\n"
      ]
     },
     "metadata": {},
     "output_type": "display_data"
    }
   ],
   "source": [
    "model = lm(Y~., jp)\n",
    "summary(model)"
   ]
  },
  {
   "cell_type": "markdown",
   "id": "cfedd6f9",
   "metadata": {},
   "source": [
    "$$\\hat{Y} = −124.38 + 0.29573X_1 + 0.04829X_2 + 1.30601X_3 + 0.51982X_4$$"
   ]
  },
  {
   "cell_type": "markdown",
   "id": "79e87864",
   "metadata": {},
   "source": [
    "Since only $\\beta_2$ isn’t significant (p-value > 0.05) and the F statistics of the overall model is significant, I think all predictor variables should be retained in the model except $\\beta_2$ should be considered."
   ]
  },
  {
   "cell_type": "markdown",
   "id": "aed68070",
   "metadata": {},
   "source": [
    "## b."
   ]
  },
  {
   "cell_type": "code",
   "execution_count": 41,
   "id": "156fa7ed",
   "metadata": {},
   "outputs": [
    {
     "name": "stderr",
     "output_type": "stream",
     "text": [
      "Warning message:\n",
      "\"package 'leaps' was built under R version 3.6.3\""
     ]
    }
   ],
   "source": [
    "X = cbind(jp$X1, jp$X2, jp$X3, jp$X4)\n",
    "library(leaps)"
   ]
  },
  {
   "cell_type": "code",
   "execution_count": 42,
   "id": "d3bf36bd",
   "metadata": {},
   "outputs": [
    {
     "data": {
      "text/html": [
       "<dl>\n",
       "\t<dt>$which</dt>\n",
       "\t\t<dd><table>\n",
       "<thead><tr><th></th><th scope=col>1</th><th scope=col>2</th><th scope=col>3</th><th scope=col>4</th></tr></thead>\n",
       "<tbody>\n",
       "\t<tr><th scope=row>1</th><td>FALSE</td><td>FALSE</td><td> TRUE</td><td>FALSE</td></tr>\n",
       "\t<tr><th scope=row>1</th><td>FALSE</td><td>FALSE</td><td>FALSE</td><td> TRUE</td></tr>\n",
       "\t<tr><th scope=row>1</th><td> TRUE</td><td>FALSE</td><td>FALSE</td><td>FALSE</td></tr>\n",
       "\t<tr><th scope=row>1</th><td>FALSE</td><td> TRUE</td><td>FALSE</td><td>FALSE</td></tr>\n",
       "\t<tr><th scope=row>2</th><td> TRUE</td><td>FALSE</td><td> TRUE</td><td>FALSE</td></tr>\n",
       "\t<tr><th scope=row>2</th><td>FALSE</td><td>FALSE</td><td> TRUE</td><td> TRUE</td></tr>\n",
       "\t<tr><th scope=row>2</th><td> TRUE</td><td>FALSE</td><td>FALSE</td><td> TRUE</td></tr>\n",
       "\t<tr><th scope=row>2</th><td>FALSE</td><td> TRUE</td><td> TRUE</td><td>FALSE</td></tr>\n",
       "\t<tr><th scope=row>2</th><td>FALSE</td><td> TRUE</td><td>FALSE</td><td> TRUE</td></tr>\n",
       "\t<tr><th scope=row>2</th><td> TRUE</td><td> TRUE</td><td>FALSE</td><td>FALSE</td></tr>\n",
       "\t<tr><th scope=row>3</th><td> TRUE</td><td>FALSE</td><td> TRUE</td><td> TRUE</td></tr>\n",
       "\t<tr><th scope=row>3</th><td> TRUE</td><td> TRUE</td><td> TRUE</td><td>FALSE</td></tr>\n",
       "\t<tr><th scope=row>3</th><td>FALSE</td><td> TRUE</td><td> TRUE</td><td> TRUE</td></tr>\n",
       "\t<tr><th scope=row>3</th><td> TRUE</td><td> TRUE</td><td>FALSE</td><td> TRUE</td></tr>\n",
       "\t<tr><th scope=row>4</th><td> TRUE</td><td> TRUE</td><td> TRUE</td><td> TRUE</td></tr>\n",
       "</tbody>\n",
       "</table>\n",
       "</dd>\n",
       "\t<dt>$label</dt>\n",
       "\t\t<dd><ol class=list-inline>\n",
       "\t<li>'(Intercept)'</li>\n",
       "\t<li>'1'</li>\n",
       "\t<li>'2'</li>\n",
       "\t<li>'3'</li>\n",
       "\t<li>'4'</li>\n",
       "</ol>\n",
       "</dd>\n",
       "\t<dt>$size</dt>\n",
       "\t\t<dd><ol class=list-inline>\n",
       "\t<li>2</li>\n",
       "\t<li>2</li>\n",
       "\t<li>2</li>\n",
       "\t<li>2</li>\n",
       "\t<li>3</li>\n",
       "\t<li>3</li>\n",
       "\t<li>3</li>\n",
       "\t<li>3</li>\n",
       "\t<li>3</li>\n",
       "\t<li>3</li>\n",
       "\t<li>4</li>\n",
       "\t<li>4</li>\n",
       "\t<li>4</li>\n",
       "\t<li>4</li>\n",
       "\t<li>5</li>\n",
       "</ol>\n",
       "</dd>\n",
       "\t<dt>$adjr2</dt>\n",
       "\t\t<dd><ol class=list-inline>\n",
       "\t<li>0.7962344370837</li>\n",
       "\t<li>0.745216968986486</li>\n",
       "\t<li>0.23264524812475</li>\n",
       "\t<li>0.214276183981299</li>\n",
       "\t<li>0.926904337908834</li>\n",
       "\t<li>0.866098849056532</li>\n",
       "\t<li>0.79847156364106</li>\n",
       "\t<li>0.788443562503307</li>\n",
       "\t<li>0.763591589343016</li>\n",
       "\t<li>0.415485278382781</li>\n",
       "\t<li>0.956048217657989</li>\n",
       "\t<li>0.924677876991158</li>\n",
       "\t<li>0.861679721457713</li>\n",
       "\t<li>0.823266429947636</li>\n",
       "\t<li>0.955470175923839</li>\n",
       "</ol>\n",
       "</dd>\n",
       "</dl>\n"
      ],
      "text/latex": [
       "\\begin{description}\n",
       "\\item[\\$which] \\begin{tabular}{r|llll}\n",
       "  & 1 & 2 & 3 & 4\\\\\n",
       "\\hline\n",
       "\t1 & FALSE & FALSE &  TRUE & FALSE\\\\\n",
       "\t1 & FALSE & FALSE & FALSE &  TRUE\\\\\n",
       "\t1 &  TRUE & FALSE & FALSE & FALSE\\\\\n",
       "\t1 & FALSE &  TRUE & FALSE & FALSE\\\\\n",
       "\t2 &  TRUE & FALSE &  TRUE & FALSE\\\\\n",
       "\t2 & FALSE & FALSE &  TRUE &  TRUE\\\\\n",
       "\t2 &  TRUE & FALSE & FALSE &  TRUE\\\\\n",
       "\t2 & FALSE &  TRUE &  TRUE & FALSE\\\\\n",
       "\t2 & FALSE &  TRUE & FALSE &  TRUE\\\\\n",
       "\t2 &  TRUE &  TRUE & FALSE & FALSE\\\\\n",
       "\t3 &  TRUE & FALSE &  TRUE &  TRUE\\\\\n",
       "\t3 &  TRUE &  TRUE &  TRUE & FALSE\\\\\n",
       "\t3 & FALSE &  TRUE &  TRUE &  TRUE\\\\\n",
       "\t3 &  TRUE &  TRUE & FALSE &  TRUE\\\\\n",
       "\t4 &  TRUE &  TRUE &  TRUE &  TRUE\\\\\n",
       "\\end{tabular}\n",
       "\n",
       "\\item[\\$label] \\begin{enumerate*}\n",
       "\\item '(Intercept)'\n",
       "\\item '1'\n",
       "\\item '2'\n",
       "\\item '3'\n",
       "\\item '4'\n",
       "\\end{enumerate*}\n",
       "\n",
       "\\item[\\$size] \\begin{enumerate*}\n",
       "\\item 2\n",
       "\\item 2\n",
       "\\item 2\n",
       "\\item 2\n",
       "\\item 3\n",
       "\\item 3\n",
       "\\item 3\n",
       "\\item 3\n",
       "\\item 3\n",
       "\\item 3\n",
       "\\item 4\n",
       "\\item 4\n",
       "\\item 4\n",
       "\\item 4\n",
       "\\item 5\n",
       "\\end{enumerate*}\n",
       "\n",
       "\\item[\\$adjr2] \\begin{enumerate*}\n",
       "\\item 0.7962344370837\n",
       "\\item 0.745216968986486\n",
       "\\item 0.23264524812475\n",
       "\\item 0.214276183981299\n",
       "\\item 0.926904337908834\n",
       "\\item 0.866098849056532\n",
       "\\item 0.79847156364106\n",
       "\\item 0.788443562503307\n",
       "\\item 0.763591589343016\n",
       "\\item 0.415485278382781\n",
       "\\item 0.956048217657989\n",
       "\\item 0.924677876991158\n",
       "\\item 0.861679721457713\n",
       "\\item 0.823266429947636\n",
       "\\item 0.955470175923839\n",
       "\\end{enumerate*}\n",
       "\n",
       "\\end{description}\n"
      ],
      "text/markdown": [
       "$which\n",
       ":   \n",
       "| <!--/--> | 1 | 2 | 3 | 4 |\n",
       "|---|---|---|---|---|\n",
       "| 1 | FALSE | FALSE |  TRUE | FALSE |\n",
       "| 1 | FALSE | FALSE | FALSE |  TRUE |\n",
       "| 1 |  TRUE | FALSE | FALSE | FALSE |\n",
       "| 1 | FALSE |  TRUE | FALSE | FALSE |\n",
       "| 2 |  TRUE | FALSE |  TRUE | FALSE |\n",
       "| 2 | FALSE | FALSE |  TRUE |  TRUE |\n",
       "| 2 |  TRUE | FALSE | FALSE |  TRUE |\n",
       "| 2 | FALSE |  TRUE |  TRUE | FALSE |\n",
       "| 2 | FALSE |  TRUE | FALSE |  TRUE |\n",
       "| 2 |  TRUE |  TRUE | FALSE | FALSE |\n",
       "| 3 |  TRUE | FALSE |  TRUE |  TRUE |\n",
       "| 3 |  TRUE |  TRUE |  TRUE | FALSE |\n",
       "| 3 | FALSE |  TRUE |  TRUE |  TRUE |\n",
       "| 3 |  TRUE |  TRUE | FALSE |  TRUE |\n",
       "| 4 |  TRUE |  TRUE |  TRUE |  TRUE |\n",
       "\n",
       "\n",
       "$label\n",
       ":   1. '(Intercept)'\n",
       "2. '1'\n",
       "3. '2'\n",
       "4. '3'\n",
       "5. '4'\n",
       "\n",
       "\n",
       "\n",
       "$size\n",
       ":   1. 2\n",
       "2. 2\n",
       "3. 2\n",
       "4. 2\n",
       "5. 3\n",
       "6. 3\n",
       "7. 3\n",
       "8. 3\n",
       "9. 3\n",
       "10. 3\n",
       "11. 4\n",
       "12. 4\n",
       "13. 4\n",
       "14. 4\n",
       "15. 5\n",
       "\n",
       "\n",
       "\n",
       "$adjr2\n",
       ":   1. 0.7962344370837\n",
       "2. 0.745216968986486\n",
       "3. 0.23264524812475\n",
       "4. 0.214276183981299\n",
       "5. 0.926904337908834\n",
       "6. 0.866098849056532\n",
       "7. 0.79847156364106\n",
       "8. 0.788443562503307\n",
       "9. 0.763591589343016\n",
       "10. 0.415485278382781\n",
       "11. 0.956048217657989\n",
       "12. 0.924677876991158\n",
       "13. 0.861679721457713\n",
       "14. 0.823266429947636\n",
       "15. 0.955470175923839\n",
       "\n",
       "\n",
       "\n",
       "\n",
       "\n"
      ],
      "text/plain": [
       "$which\n",
       "      1     2     3     4\n",
       "1 FALSE FALSE  TRUE FALSE\n",
       "1 FALSE FALSE FALSE  TRUE\n",
       "1  TRUE FALSE FALSE FALSE\n",
       "1 FALSE  TRUE FALSE FALSE\n",
       "2  TRUE FALSE  TRUE FALSE\n",
       "2 FALSE FALSE  TRUE  TRUE\n",
       "2  TRUE FALSE FALSE  TRUE\n",
       "2 FALSE  TRUE  TRUE FALSE\n",
       "2 FALSE  TRUE FALSE  TRUE\n",
       "2  TRUE  TRUE FALSE FALSE\n",
       "3  TRUE FALSE  TRUE  TRUE\n",
       "3  TRUE  TRUE  TRUE FALSE\n",
       "3 FALSE  TRUE  TRUE  TRUE\n",
       "3  TRUE  TRUE FALSE  TRUE\n",
       "4  TRUE  TRUE  TRUE  TRUE\n",
       "\n",
       "$label\n",
       "[1] \"(Intercept)\" \"1\"           \"2\"           \"3\"           \"4\"          \n",
       "\n",
       "$size\n",
       " [1] 2 2 2 2 3 3 3 3 3 3 4 4 4 4 5\n",
       "\n",
       "$adjr2\n",
       " [1] 0.7962344 0.7452170 0.2326452 0.2142762 0.9269043 0.8660988 0.7984716\n",
       " [8] 0.7884436 0.7635916 0.4154853 0.9560482 0.9246779 0.8616797 0.8232664\n",
       "[15] 0.9554702\n"
      ]
     },
     "metadata": {},
     "output_type": "display_data"
    }
   ],
   "source": [
    "suleaps_aR = leaps(X, jp$Y, method='adjr2')\n",
    "suleaps_aR"
   ]
  },
  {
   "cell_type": "markdown",
   "id": "54d10634",
   "metadata": {},
   "source": [
    "### Four best subset regression models according to the $R^2_{a,p}$ criterion:\n",
    "* The best: X1, X3, X4. ($R^2_{a,p}$ = 0.956)\n",
    "* The second: X1, X2, X3, X4. ($R^2_{a,p}$ = 0.955)\n",
    "* The third: X1, X3. ($R^2_{a,p}$ = 0.926)\n",
    "* The fourth: X1, X2, X3. ($R^2_{a,p}$ = 0.924)"
   ]
  },
  {
   "cell_type": "markdown",
   "id": "2fdf45ac",
   "metadata": {},
   "source": [
    "# Problem 5: "
   ]
  },
  {
   "cell_type": "markdown",
   "id": "39a6900a",
   "metadata": {},
   "source": [
    "$Import$ $dataset$"
   ]
  },
  {
   "cell_type": "code",
   "execution_count": 43,
   "id": "6fe3cfc0",
   "metadata": {},
   "outputs": [
    {
     "data": {
      "text/html": [
       "<table>\n",
       "<thead><tr><th scope=col>Y</th><th scope=col>X1</th><th scope=col>X2</th><th scope=col>X3</th></tr></thead>\n",
       "<tbody>\n",
       "\t<tr><td>0 </td><td>59</td><td>52</td><td>0 </td></tr>\n",
       "\t<tr><td>0 </td><td>61</td><td>55</td><td>1 </td></tr>\n",
       "\t<tr><td>1 </td><td>82</td><td>51</td><td>0 </td></tr>\n",
       "\t<tr><td>0 </td><td>51</td><td>70</td><td>0 </td></tr>\n",
       "\t<tr><td>0 </td><td>53</td><td>70</td><td>0 </td></tr>\n",
       "\t<tr><td>0 </td><td>62</td><td>49</td><td>1 </td></tr>\n",
       "</tbody>\n",
       "</table>\n"
      ],
      "text/latex": [
       "\\begin{tabular}{r|llll}\n",
       " Y & X1 & X2 & X3\\\\\n",
       "\\hline\n",
       "\t 0  & 59 & 52 & 0 \\\\\n",
       "\t 0  & 61 & 55 & 1 \\\\\n",
       "\t 1  & 82 & 51 & 0 \\\\\n",
       "\t 0  & 51 & 70 & 0 \\\\\n",
       "\t 0  & 53 & 70 & 0 \\\\\n",
       "\t 0  & 62 & 49 & 1 \\\\\n",
       "\\end{tabular}\n"
      ],
      "text/markdown": [
       "\n",
       "| Y | X1 | X2 | X3 |\n",
       "|---|---|---|---|\n",
       "| 0  | 59 | 52 | 0  |\n",
       "| 0  | 61 | 55 | 1  |\n",
       "| 1  | 82 | 51 | 0  |\n",
       "| 0  | 51 | 70 | 0  |\n",
       "| 0  | 53 | 70 | 0  |\n",
       "| 0  | 62 | 49 | 1  |\n",
       "\n"
      ],
      "text/plain": [
       "  Y X1 X2 X3\n",
       "1 0 59 52 0 \n",
       "2 0 61 55 1 \n",
       "3 1 82 51 0 \n",
       "4 0 51 70 0 \n",
       "5 0 53 70 0 \n",
       "6 0 62 49 1 "
      ]
     },
     "metadata": {},
     "output_type": "display_data"
    }
   ],
   "source": [
    "fs = read.table('C:/Users/Admin/OneDrive/Máy tính/Sem 2/RA/pro5.txt', col.names = c('Y', 'X1', 'X2', 'X3'))\n",
    "head(fs)"
   ]
  },
  {
   "cell_type": "code",
   "execution_count": 44,
   "id": "19c1837f",
   "metadata": {},
   "outputs": [
    {
     "name": "stderr",
     "output_type": "stream",
     "text": [
      "The following objects are masked from jp (pos = 4):\n",
      "\n",
      "    X1, X2, X3, Y\n",
      "\n",
      "The following object is masked from mm (pos = 5):\n",
      "\n",
      "    Y\n",
      "\n",
      "The following objects are masked from jp (pos = 6):\n",
      "\n",
      "    X1, X2, X3, Y\n",
      "\n",
      "The following object is masked from mm (pos = 7):\n",
      "\n",
      "    Y\n",
      "\n"
     ]
    }
   ],
   "source": [
    "attach(fs)"
   ]
  },
  {
   "cell_type": "markdown",
   "id": "3b888df2",
   "metadata": {},
   "source": [
    "## a."
   ]
  },
  {
   "cell_type": "code",
   "execution_count": 45,
   "id": "f77273d6",
   "metadata": {},
   "outputs": [
    {
     "data": {
      "text/plain": [
       "\n",
       "Call:\n",
       "glm(formula = Y ~ X1 + X2 + X3, family = binomial(), data = fs)\n",
       "\n",
       "Deviance Residuals: \n",
       "    Min       1Q   Median       3Q      Max  \n",
       "-1.4037  -0.5637  -0.3352  -0.1542   2.9394  \n",
       "\n",
       "Coefficients:\n",
       "            Estimate Std. Error z value Pr(>|z|)   \n",
       "(Intercept) -1.17716    2.98242  -0.395  0.69307   \n",
       "X1           0.07279    0.03038   2.396  0.01658 * \n",
       "X2          -0.09899    0.03348  -2.957  0.00311 **\n",
       "X3           0.43397    0.52179   0.832  0.40558   \n",
       "---\n",
       "Signif. codes:  0 '***' 0.001 '**' 0.01 '*' 0.05 '.' 0.1 ' ' 1\n",
       "\n",
       "(Dispersion parameter for binomial family taken to be 1)\n",
       "\n",
       "    Null deviance: 134.94  on 158  degrees of freedom\n",
       "Residual deviance: 105.09  on 155  degrees of freedom\n",
       "AIC: 113.09\n",
       "\n",
       "Number of Fisher Scoring iterations: 6\n"
      ]
     },
     "metadata": {},
     "output_type": "display_data"
    }
   ],
   "source": [
    "model = glm(Y ~ X1 + X2 + X3, data = fs,family = binomial())\n",
    "summary(model)"
   ]
  },
  {
   "cell_type": "code",
   "execution_count": 46,
   "id": "9b230901",
   "metadata": {},
   "outputs": [],
   "source": [
    "b0 = coef(model)[1]\n",
    "b1 = coef(model)[2]\n",
    "b2 = coef(model)[3]\n",
    "b3 = coef(model)[4]"
   ]
  },
  {
   "cell_type": "markdown",
   "id": "eb9b69ef",
   "metadata": {},
   "source": [
    "Fitted response function $P\\{Y = 1\\} = \\pi = \\frac{1}{(1 + exp(1.17716 - 0.07279X_1 + 0.09899X_2 - 0.43397X_3))}$"
   ]
  },
  {
   "cell_type": "code",
   "execution_count": 47,
   "id": "1ad63682",
   "metadata": {},
   "outputs": [
    {
     "data": {
      "text/html": [
       "<ol class=list-inline>\n",
       "\t<li>0.116092632636583</li>\n",
       "\t<li>0.148378917748216</li>\n",
       "\t<li>0.436137483856979</li>\n",
       "\t<li>0.0122002340798639</li>\n",
       "\t<li>0.0140851514464979</li>\n",
       "\t<li>0.253380106959712</li>\n",
       "\t<li>0.0206118169195549</li>\n",
       "\t<li>0.270261986283039</li>\n",
       "\t<li>0.11822397233307</li>\n",
       "\t<li>0.0771966552052976</li>\n",
       "\t<li>0.153578466665704</li>\n",
       "\t<li>0.067443718375758</li>\n",
       "\t<li>0.085446616650316</li>\n",
       "\t<li>0.0212044484369833</li>\n",
       "\t<li>0.00488392979028076</li>\n",
       "\t<li>0.117905956662533</li>\n",
       "\t<li>0.265084314707603</li>\n",
       "\t<li>0.0105648590208497</li>\n",
       "\t<li>0.0293941886149033</li>\n",
       "\t<li>0.00766984954193682</li>\n",
       "\t<li>0.0491899759384444</li>\n",
       "\t<li>0.0473269907229802</li>\n",
       "\t<li>0.035600345403639</li>\n",
       "\t<li>0.00487056698594909</li>\n",
       "\t<li>0.15322090654124</li>\n",
       "\t<li>0.00445134239554283</li>\n",
       "\t<li>0.247373204393785</li>\n",
       "\t<li>0.0292228378258194</li>\n",
       "\t<li>0.244104053245666</li>\n",
       "\t<li>0.172639164607468</li>\n",
       "\t<li>0.0608114953311781</li>\n",
       "\t<li>0.0856686995076069</li>\n",
       "\t<li>0.381360485729148</li>\n",
       "\t<li>0.146190858755049</li>\n",
       "\t<li>0.0418693499762462</li>\n",
       "\t<li>0.0102944823490113</li>\n",
       "\t<li>0.707732237963306</li>\n",
       "\t<li>0.317265074756227</li>\n",
       "\t<li>0.204690239329778</li>\n",
       "\t<li>0.098313422081004</li>\n",
       "\t<li>0.192192037314745</li>\n",
       "\t<li>0.0486495827037825</li>\n",
       "\t<li>0.195343833361353</li>\n",
       "\t<li>0.0447615744914188</li>\n",
       "\t<li>0.185477936557281</li>\n",
       "\t<li>0.0436546458440642</li>\n",
       "\t<li>0.013299328222346</li>\n",
       "\t<li>0.184155715688276</li>\n",
       "\t<li>0.00721955312277162</li>\n",
       "\t<li>0.0145365918230134</li>\n",
       "\t<li>0.0691102636711991</li>\n",
       "\t<li>0.0183845710027616</li>\n",
       "\t<li>0.195343833361353</li>\n",
       "\t<li>0.12472797314172</li>\n",
       "\t<li>0.0640386626683117</li>\n",
       "\t<li>0.0253642659530656</li>\n",
       "\t<li>0.0692876019127954</li>\n",
       "\t<li>0.0294728412936404</li>\n",
       "\t<li>0.626610285409453</li>\n",
       "\t<li>0.165704710449831</li>\n",
       "\t<li>0.582808370226976</li>\n",
       "\t<li>0.0100309550271025</li>\n",
       "\t<li>0.172639164607468</li>\n",
       "\t<li>0.061144023775398</li>\n",
       "\t<li>0.00414014262208845</li>\n",
       "\t<li>0.427609250892714</li>\n",
       "\t<li>0.00571051975062607</li>\n",
       "\t<li>0.0745456362108598</li>\n",
       "\t<li>0.208988151107435</li>\n",
       "\t<li>0.214328395061535</li>\n",
       "\t<li>0.0228985618067131</li>\n",
       "\t<li>0.0884482500834182</li>\n",
       "\t<li>0.0841015162443199</li>\n",
       "\t<li>0.21580994738142</li>\n",
       "\t<li>0.598946586060381</li>\n",
       "\t<li>0.253901317436742</li>\n",
       "\t<li>0.325559069041227</li>\n",
       "\t<li>0.0489190715128605</li>\n",
       "\t<li>0.18114379788037</li>\n",
       "\t<li>0.120052303287648</li>\n",
       "\t<li>0.0514153203015872</li>\n",
       "\t<li>0.165312659525258</li>\n",
       "\t<li>0.194432612616186</li>\n",
       "\t<li>0.105216170926322</li>\n",
       "\t<li>0.051132819302615</li>\n",
       "\t<li>0.520973395046794</li>\n",
       "\t<li>0.150203692723839</li>\n",
       "\t<li>0.158180190440889</li>\n",
       "\t<li>0.0767839653064786</li>\n",
       "\t<li>0.32236511232237</li>\n",
       "\t<li>0.570015851109004</li>\n",
       "\t<li>0.0185992901829511</li>\n",
       "\t<li>0.492593713359066</li>\n",
       "\t<li>0.127932669803657</li>\n",
       "\t<li>0.0922772642034571</li>\n",
       "\t<li>0.0546395904507779</li>\n",
       "\t<li>0.360267460569897</li>\n",
       "\t<li>0.187239069362356</li>\n",
       "\t<li>0.661963018787745</li>\n",
       "\t<li>0.0410589344933787</li>\n",
       "\t<li>0.233032452591021</li>\n",
       "\t<li>0.138001276852529</li>\n",
       "\t<li>0.120052303287648</li>\n",
       "\t<li>0.100135911665575</li>\n",
       "\t<li>0.00663766723951853</li>\n",
       "\t<li>0.0114524094666399</li>\n",
       "\t<li>0.0148316097358107</li>\n",
       "\t<li>0.0089122581440617</li>\n",
       "\t<li>0.211409238253058</li>\n",
       "\t<li>0.0428112185266471</li>\n",
       "\t<li>0.162114507118569</li>\n",
       "\t<li>0.00713525197228384</li>\n",
       "\t<li>0.196292292603006</li>\n",
       "\t<li>0.181552548682906</li>\n",
       "\t<li>0.0913089780362729</li>\n",
       "\t<li>0.147619447416806</li>\n",
       "\t<li>0.0166357177290014</li>\n",
       "\t<li>0.0102944823490113</li>\n",
       "\t<li>0.0096915988317533</li>\n",
       "\t<li>0.132576807608475</li>\n",
       "\t<li>0.0132632471335462</li>\n",
       "\t<li>0.0282527328070311</li>\n",
       "\t<li>0.164873727559459</li>\n",
       "\t<li>0.0889350599958461</li>\n",
       "\t<li>0.412707163452415</li>\n",
       "\t<li>0.0588443843216812</li>\n",
       "\t<li>0.0937653080464482</li>\n",
       "\t<li>0.0949933585540193</li>\n",
       "\t<li>0.141173560473494</li>\n",
       "\t<li>0.270261986283039</li>\n",
       "\t<li>0.0485223126131756</li>\n",
       "\t<li>0.12826425679998</li>\n",
       "\t<li>0.135618744999166</li>\n",
       "\t<li>0.55569577620668</li>\n",
       "\t<li>0.0394829314226612</li>\n",
       "\t<li>0.192192037314745</li>\n",
       "\t<li>0.0535958231727291</li>\n",
       "\t<li>0.247373204393785</li>\n",
       "\t<li>0.0175623862657996</li>\n",
       "\t<li>0.085901533469742</li>\n",
       "\t<li>0.190395231152566</li>\n",
       "\t<li>0.0497462479068485</li>\n",
       "\t<li>0.0952562481033818</li>\n",
       "\t<li>0.0884482500834182</li>\n",
       "\t<li>0.502788675771554</li>\n",
       "\t<li>0.0567848209819897</li>\n",
       "\t<li>0.0516992970360765</li>\n",
       "\t<li>0.0487911325807812</li>\n",
       "\t<li>0.271408853125253</li>\n",
       "\t<li>0.0175623862657996</li>\n",
       "\t<li>0.0932729956725502</li>\n",
       "\t<li>0.108002156388384</li>\n",
       "\t<li>0.0338374804607815</li>\n",
       "\t<li>0.0555420585838407</li>\n",
       "\t<li>0.0507190632480652</li>\n",
       "\t<li>0.0257272937728451</li>\n",
       "\t<li>0.931566310548005</li>\n",
       "\t<li>0.646766997564947</li>\n",
       "\t<li>0.274302308737105</li>\n",
       "</ol>\n"
      ],
      "text/latex": [
       "\\begin{enumerate*}\n",
       "\\item 0.116092632636583\n",
       "\\item 0.148378917748216\n",
       "\\item 0.436137483856979\n",
       "\\item 0.0122002340798639\n",
       "\\item 0.0140851514464979\n",
       "\\item 0.253380106959712\n",
       "\\item 0.0206118169195549\n",
       "\\item 0.270261986283039\n",
       "\\item 0.11822397233307\n",
       "\\item 0.0771966552052976\n",
       "\\item 0.153578466665704\n",
       "\\item 0.067443718375758\n",
       "\\item 0.085446616650316\n",
       "\\item 0.0212044484369833\n",
       "\\item 0.00488392979028076\n",
       "\\item 0.117905956662533\n",
       "\\item 0.265084314707603\n",
       "\\item 0.0105648590208497\n",
       "\\item 0.0293941886149033\n",
       "\\item 0.00766984954193682\n",
       "\\item 0.0491899759384444\n",
       "\\item 0.0473269907229802\n",
       "\\item 0.035600345403639\n",
       "\\item 0.00487056698594909\n",
       "\\item 0.15322090654124\n",
       "\\item 0.00445134239554283\n",
       "\\item 0.247373204393785\n",
       "\\item 0.0292228378258194\n",
       "\\item 0.244104053245666\n",
       "\\item 0.172639164607468\n",
       "\\item 0.0608114953311781\n",
       "\\item 0.0856686995076069\n",
       "\\item 0.381360485729148\n",
       "\\item 0.146190858755049\n",
       "\\item 0.0418693499762462\n",
       "\\item 0.0102944823490113\n",
       "\\item 0.707732237963306\n",
       "\\item 0.317265074756227\n",
       "\\item 0.204690239329778\n",
       "\\item 0.098313422081004\n",
       "\\item 0.192192037314745\n",
       "\\item 0.0486495827037825\n",
       "\\item 0.195343833361353\n",
       "\\item 0.0447615744914188\n",
       "\\item 0.185477936557281\n",
       "\\item 0.0436546458440642\n",
       "\\item 0.013299328222346\n",
       "\\item 0.184155715688276\n",
       "\\item 0.00721955312277162\n",
       "\\item 0.0145365918230134\n",
       "\\item 0.0691102636711991\n",
       "\\item 0.0183845710027616\n",
       "\\item 0.195343833361353\n",
       "\\item 0.12472797314172\n",
       "\\item 0.0640386626683117\n",
       "\\item 0.0253642659530656\n",
       "\\item 0.0692876019127954\n",
       "\\item 0.0294728412936404\n",
       "\\item 0.626610285409453\n",
       "\\item 0.165704710449831\n",
       "\\item 0.582808370226976\n",
       "\\item 0.0100309550271025\n",
       "\\item 0.172639164607468\n",
       "\\item 0.061144023775398\n",
       "\\item 0.00414014262208845\n",
       "\\item 0.427609250892714\n",
       "\\item 0.00571051975062607\n",
       "\\item 0.0745456362108598\n",
       "\\item 0.208988151107435\n",
       "\\item 0.214328395061535\n",
       "\\item 0.0228985618067131\n",
       "\\item 0.0884482500834182\n",
       "\\item 0.0841015162443199\n",
       "\\item 0.21580994738142\n",
       "\\item 0.598946586060381\n",
       "\\item 0.253901317436742\n",
       "\\item 0.325559069041227\n",
       "\\item 0.0489190715128605\n",
       "\\item 0.18114379788037\n",
       "\\item 0.120052303287648\n",
       "\\item 0.0514153203015872\n",
       "\\item 0.165312659525258\n",
       "\\item 0.194432612616186\n",
       "\\item 0.105216170926322\n",
       "\\item 0.051132819302615\n",
       "\\item 0.520973395046794\n",
       "\\item 0.150203692723839\n",
       "\\item 0.158180190440889\n",
       "\\item 0.0767839653064786\n",
       "\\item 0.32236511232237\n",
       "\\item 0.570015851109004\n",
       "\\item 0.0185992901829511\n",
       "\\item 0.492593713359066\n",
       "\\item 0.127932669803657\n",
       "\\item 0.0922772642034571\n",
       "\\item 0.0546395904507779\n",
       "\\item 0.360267460569897\n",
       "\\item 0.187239069362356\n",
       "\\item 0.661963018787745\n",
       "\\item 0.0410589344933787\n",
       "\\item 0.233032452591021\n",
       "\\item 0.138001276852529\n",
       "\\item 0.120052303287648\n",
       "\\item 0.100135911665575\n",
       "\\item 0.00663766723951853\n",
       "\\item 0.0114524094666399\n",
       "\\item 0.0148316097358107\n",
       "\\item 0.0089122581440617\n",
       "\\item 0.211409238253058\n",
       "\\item 0.0428112185266471\n",
       "\\item 0.162114507118569\n",
       "\\item 0.00713525197228384\n",
       "\\item 0.196292292603006\n",
       "\\item 0.181552548682906\n",
       "\\item 0.0913089780362729\n",
       "\\item 0.147619447416806\n",
       "\\item 0.0166357177290014\n",
       "\\item 0.0102944823490113\n",
       "\\item 0.0096915988317533\n",
       "\\item 0.132576807608475\n",
       "\\item 0.0132632471335462\n",
       "\\item 0.0282527328070311\n",
       "\\item 0.164873727559459\n",
       "\\item 0.0889350599958461\n",
       "\\item 0.412707163452415\n",
       "\\item 0.0588443843216812\n",
       "\\item 0.0937653080464482\n",
       "\\item 0.0949933585540193\n",
       "\\item 0.141173560473494\n",
       "\\item 0.270261986283039\n",
       "\\item 0.0485223126131756\n",
       "\\item 0.12826425679998\n",
       "\\item 0.135618744999166\n",
       "\\item 0.55569577620668\n",
       "\\item 0.0394829314226612\n",
       "\\item 0.192192037314745\n",
       "\\item 0.0535958231727291\n",
       "\\item 0.247373204393785\n",
       "\\item 0.0175623862657996\n",
       "\\item 0.085901533469742\n",
       "\\item 0.190395231152566\n",
       "\\item 0.0497462479068485\n",
       "\\item 0.0952562481033818\n",
       "\\item 0.0884482500834182\n",
       "\\item 0.502788675771554\n",
       "\\item 0.0567848209819897\n",
       "\\item 0.0516992970360765\n",
       "\\item 0.0487911325807812\n",
       "\\item 0.271408853125253\n",
       "\\item 0.0175623862657996\n",
       "\\item 0.0932729956725502\n",
       "\\item 0.108002156388384\n",
       "\\item 0.0338374804607815\n",
       "\\item 0.0555420585838407\n",
       "\\item 0.0507190632480652\n",
       "\\item 0.0257272937728451\n",
       "\\item 0.931566310548005\n",
       "\\item 0.646766997564947\n",
       "\\item 0.274302308737105\n",
       "\\end{enumerate*}\n"
      ],
      "text/markdown": [
       "1. 0.116092632636583\n",
       "2. 0.148378917748216\n",
       "3. 0.436137483856979\n",
       "4. 0.0122002340798639\n",
       "5. 0.0140851514464979\n",
       "6. 0.253380106959712\n",
       "7. 0.0206118169195549\n",
       "8. 0.270261986283039\n",
       "9. 0.11822397233307\n",
       "10. 0.0771966552052976\n",
       "11. 0.153578466665704\n",
       "12. 0.067443718375758\n",
       "13. 0.085446616650316\n",
       "14. 0.0212044484369833\n",
       "15. 0.00488392979028076\n",
       "16. 0.117905956662533\n",
       "17. 0.265084314707603\n",
       "18. 0.0105648590208497\n",
       "19. 0.0293941886149033\n",
       "20. 0.00766984954193682\n",
       "21. 0.0491899759384444\n",
       "22. 0.0473269907229802\n",
       "23. 0.035600345403639\n",
       "24. 0.00487056698594909\n",
       "25. 0.15322090654124\n",
       "26. 0.00445134239554283\n",
       "27. 0.247373204393785\n",
       "28. 0.0292228378258194\n",
       "29. 0.244104053245666\n",
       "30. 0.172639164607468\n",
       "31. 0.0608114953311781\n",
       "32. 0.0856686995076069\n",
       "33. 0.381360485729148\n",
       "34. 0.146190858755049\n",
       "35. 0.0418693499762462\n",
       "36. 0.0102944823490113\n",
       "37. 0.707732237963306\n",
       "38. 0.317265074756227\n",
       "39. 0.204690239329778\n",
       "40. 0.098313422081004\n",
       "41. 0.192192037314745\n",
       "42. 0.0486495827037825\n",
       "43. 0.195343833361353\n",
       "44. 0.0447615744914188\n",
       "45. 0.185477936557281\n",
       "46. 0.0436546458440642\n",
       "47. 0.013299328222346\n",
       "48. 0.184155715688276\n",
       "49. 0.00721955312277162\n",
       "50. 0.0145365918230134\n",
       "51. 0.0691102636711991\n",
       "52. 0.0183845710027616\n",
       "53. 0.195343833361353\n",
       "54. 0.12472797314172\n",
       "55. 0.0640386626683117\n",
       "56. 0.0253642659530656\n",
       "57. 0.0692876019127954\n",
       "58. 0.0294728412936404\n",
       "59. 0.626610285409453\n",
       "60. 0.165704710449831\n",
       "61. 0.582808370226976\n",
       "62. 0.0100309550271025\n",
       "63. 0.172639164607468\n",
       "64. 0.061144023775398\n",
       "65. 0.00414014262208845\n",
       "66. 0.427609250892714\n",
       "67. 0.00571051975062607\n",
       "68. 0.0745456362108598\n",
       "69. 0.208988151107435\n",
       "70. 0.214328395061535\n",
       "71. 0.0228985618067131\n",
       "72. 0.0884482500834182\n",
       "73. 0.0841015162443199\n",
       "74. 0.21580994738142\n",
       "75. 0.598946586060381\n",
       "76. 0.253901317436742\n",
       "77. 0.325559069041227\n",
       "78. 0.0489190715128605\n",
       "79. 0.18114379788037\n",
       "80. 0.120052303287648\n",
       "81. 0.0514153203015872\n",
       "82. 0.165312659525258\n",
       "83. 0.194432612616186\n",
       "84. 0.105216170926322\n",
       "85. 0.051132819302615\n",
       "86. 0.520973395046794\n",
       "87. 0.150203692723839\n",
       "88. 0.158180190440889\n",
       "89. 0.0767839653064786\n",
       "90. 0.32236511232237\n",
       "91. 0.570015851109004\n",
       "92. 0.0185992901829511\n",
       "93. 0.492593713359066\n",
       "94. 0.127932669803657\n",
       "95. 0.0922772642034571\n",
       "96. 0.0546395904507779\n",
       "97. 0.360267460569897\n",
       "98. 0.187239069362356\n",
       "99. 0.661963018787745\n",
       "100. 0.0410589344933787\n",
       "101. 0.233032452591021\n",
       "102. 0.138001276852529\n",
       "103. 0.120052303287648\n",
       "104. 0.100135911665575\n",
       "105. 0.00663766723951853\n",
       "106. 0.0114524094666399\n",
       "107. 0.0148316097358107\n",
       "108. 0.0089122581440617\n",
       "109. 0.211409238253058\n",
       "110. 0.0428112185266471\n",
       "111. 0.162114507118569\n",
       "112. 0.00713525197228384\n",
       "113. 0.196292292603006\n",
       "114. 0.181552548682906\n",
       "115. 0.0913089780362729\n",
       "116. 0.147619447416806\n",
       "117. 0.0166357177290014\n",
       "118. 0.0102944823490113\n",
       "119. 0.0096915988317533\n",
       "120. 0.132576807608475\n",
       "121. 0.0132632471335462\n",
       "122. 0.0282527328070311\n",
       "123. 0.164873727559459\n",
       "124. 0.0889350599958461\n",
       "125. 0.412707163452415\n",
       "126. 0.0588443843216812\n",
       "127. 0.0937653080464482\n",
       "128. 0.0949933585540193\n",
       "129. 0.141173560473494\n",
       "130. 0.270261986283039\n",
       "131. 0.0485223126131756\n",
       "132. 0.12826425679998\n",
       "133. 0.135618744999166\n",
       "134. 0.55569577620668\n",
       "135. 0.0394829314226612\n",
       "136. 0.192192037314745\n",
       "137. 0.0535958231727291\n",
       "138. 0.247373204393785\n",
       "139. 0.0175623862657996\n",
       "140. 0.085901533469742\n",
       "141. 0.190395231152566\n",
       "142. 0.0497462479068485\n",
       "143. 0.0952562481033818\n",
       "144. 0.0884482500834182\n",
       "145. 0.502788675771554\n",
       "146. 0.0567848209819897\n",
       "147. 0.0516992970360765\n",
       "148. 0.0487911325807812\n",
       "149. 0.271408853125253\n",
       "150. 0.0175623862657996\n",
       "151. 0.0932729956725502\n",
       "152. 0.108002156388384\n",
       "153. 0.0338374804607815\n",
       "154. 0.0555420585838407\n",
       "155. 0.0507190632480652\n",
       "156. 0.0257272937728451\n",
       "157. 0.931566310548005\n",
       "158. 0.646766997564947\n",
       "159. 0.274302308737105\n",
       "\n",
       "\n"
      ],
      "text/plain": [
       "  [1] 0.116092633 0.148378918 0.436137484 0.012200234 0.014085151 0.253380107\n",
       "  [7] 0.020611817 0.270261986 0.118223972 0.077196655 0.153578467 0.067443718\n",
       " [13] 0.085446617 0.021204448 0.004883930 0.117905957 0.265084315 0.010564859\n",
       " [19] 0.029394189 0.007669850 0.049189976 0.047326991 0.035600345 0.004870567\n",
       " [25] 0.153220907 0.004451342 0.247373204 0.029222838 0.244104053 0.172639165\n",
       " [31] 0.060811495 0.085668700 0.381360486 0.146190859 0.041869350 0.010294482\n",
       " [37] 0.707732238 0.317265075 0.204690239 0.098313422 0.192192037 0.048649583\n",
       " [43] 0.195343833 0.044761574 0.185477937 0.043654646 0.013299328 0.184155716\n",
       " [49] 0.007219553 0.014536592 0.069110264 0.018384571 0.195343833 0.124727973\n",
       " [55] 0.064038663 0.025364266 0.069287602 0.029472841 0.626610285 0.165704710\n",
       " [61] 0.582808370 0.010030955 0.172639165 0.061144024 0.004140143 0.427609251\n",
       " [67] 0.005710520 0.074545636 0.208988151 0.214328395 0.022898562 0.088448250\n",
       " [73] 0.084101516 0.215809947 0.598946586 0.253901317 0.325559069 0.048919072\n",
       " [79] 0.181143798 0.120052303 0.051415320 0.165312660 0.194432613 0.105216171\n",
       " [85] 0.051132819 0.520973395 0.150203693 0.158180190 0.076783965 0.322365112\n",
       " [91] 0.570015851 0.018599290 0.492593713 0.127932670 0.092277264 0.054639590\n",
       " [97] 0.360267461 0.187239069 0.661963019 0.041058934 0.233032453 0.138001277\n",
       "[103] 0.120052303 0.100135912 0.006637667 0.011452409 0.014831610 0.008912258\n",
       "[109] 0.211409238 0.042811219 0.162114507 0.007135252 0.196292293 0.181552549\n",
       "[115] 0.091308978 0.147619447 0.016635718 0.010294482 0.009691599 0.132576808\n",
       "[121] 0.013263247 0.028252733 0.164873728 0.088935060 0.412707163 0.058844384\n",
       "[127] 0.093765308 0.094993359 0.141173560 0.270261986 0.048522313 0.128264257\n",
       "[133] 0.135618745 0.555695776 0.039482931 0.192192037 0.053595823 0.247373204\n",
       "[139] 0.017562386 0.085901533 0.190395231 0.049746248 0.095256248 0.088448250\n",
       "[145] 0.502788676 0.056784821 0.051699297 0.048791133 0.271408853 0.017562386\n",
       "[151] 0.093272996 0.108002156 0.033837480 0.055542059 0.050719063 0.025727294\n",
       "[157] 0.931566311 0.646766998 0.274302309"
      ]
     },
     "metadata": {},
     "output_type": "display_data"
    }
   ],
   "source": [
    "# The fitted response function.\n",
    "pi = exp(b0 + b1*X1 + b2*X2 + b3*X3)/(1 + exp(b0 + b1*X1 + b2*X2 + b3*X3)) # or pi = (1 + exp(-b0 - b1*X1 - b2*X2 - b3*X3))^(-1)\n",
    "pi"
   ]
  },
  {
   "cell_type": "markdown",
   "id": "bb18b272",
   "metadata": {},
   "source": [
    "## b."
   ]
  },
  {
   "cell_type": "code",
   "execution_count": 48,
   "id": "f833dbec",
   "metadata": {},
   "outputs": [
    {
     "data": {
      "text/html": [
       "<strong>X1:</strong> 1.07550252553006"
      ],
      "text/latex": [
       "\\textbf{X1:} 1.07550252553006"
      ],
      "text/markdown": [
       "**X1:** 1.07550252553006"
      ],
      "text/plain": [
       "      X1 \n",
       "1.075503 "
      ]
     },
     "metadata": {},
     "output_type": "display_data"
    }
   ],
   "source": [
    "OR1 = exp(b1)\n",
    "OR1"
   ]
  },
  {
   "cell_type": "markdown",
   "id": "91a60d3a",
   "metadata": {},
   "source": [
    "The additional increase in odds ratio when increase X1 by one unit while X2, X3 unchange."
   ]
  },
  {
   "cell_type": "code",
   "execution_count": 50,
   "id": "89a7044b",
   "metadata": {},
   "outputs": [
    {
     "data": {
      "text/html": [
       "<strong>X2:</strong> 0.905754941189797"
      ],
      "text/latex": [
       "\\textbf{X2:} 0.905754941189797"
      ],
      "text/markdown": [
       "**X2:** 0.905754941189797"
      ],
      "text/plain": [
       "       X2 \n",
       "0.9057549 "
      ]
     },
     "metadata": {},
     "output_type": "display_data"
    }
   ],
   "source": [
    "OR2 = exp(b2)\n",
    "OR2"
   ]
  },
  {
   "cell_type": "markdown",
   "id": "542dde6e",
   "metadata": {},
   "source": [
    "The additional increase in odds ratio when increase X2 by one unit while X1, X3 unchange."
   ]
  },
  {
   "cell_type": "code",
   "execution_count": 51,
   "id": "6da7eebe",
   "metadata": {},
   "outputs": [
    {
     "data": {
      "text/html": [
       "<strong>X3:</strong> 1.54338005673624"
      ],
      "text/latex": [
       "\\textbf{X3:} 1.54338005673624"
      ],
      "text/markdown": [
       "**X3:** 1.54338005673624"
      ],
      "text/plain": [
       "     X3 \n",
       "1.54338 "
      ]
     },
     "metadata": {},
     "output_type": "display_data"
    }
   ],
   "source": [
    "OR3 = exp(b3)\n",
    "OR3"
   ]
  },
  {
   "cell_type": "markdown",
   "id": "641d62a6",
   "metadata": {},
   "source": [
    "The additional increase in odds ratio when increase X3 by one unit while X1, X2 unchange."
   ]
  },
  {
   "cell_type": "markdown",
   "id": "8c9687d9",
   "metadata": {},
   "source": [
    "## c."
   ]
  },
  {
   "cell_type": "code",
   "execution_count": 52,
   "id": "29fe4eb6",
   "metadata": {},
   "outputs": [
    {
     "data": {
      "text/html": [
       "<strong>(Intercept):</strong> 0.0642219656743988"
      ],
      "text/latex": [
       "\\textbf{(Intercept):} 0.0642219656743988"
      ],
      "text/markdown": [
       "**(Intercept):** 0.0642219656743988"
      ],
      "text/plain": [
       "(Intercept) \n",
       " 0.06422197 "
      ]
     },
     "metadata": {},
     "output_type": "display_data"
    }
   ],
   "source": [
    "est_p = 1/(1 + exp(-b0 - b1*55 - b2*60 - b3*1))\n",
    "est_p"
   ]
  },
  {
   "cell_type": "markdown",
   "id": "bc6e4f65",
   "metadata": {},
   "source": [
    "There is 6.4% that the male clients will receive a flu shot."
   ]
  },
  {
   "cell_type": "code",
   "execution_count": null,
   "id": "8a9786ca",
   "metadata": {},
   "outputs": [],
   "source": []
  }
 ],
 "metadata": {
  "kernelspec": {
   "display_name": "R",
   "language": "R",
   "name": "ir"
  },
  "language_info": {
   "codemirror_mode": "r",
   "file_extension": ".r",
   "mimetype": "text/x-r-source",
   "name": "R",
   "pygments_lexer": "r",
   "version": "3.6.1"
  }
 },
 "nbformat": 4,
 "nbformat_minor": 5
}
