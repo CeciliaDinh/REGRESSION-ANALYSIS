{
 "cells": [
  {
   "cell_type": "markdown",
   "id": "b700693f",
   "metadata": {},
   "source": [
    "### Đinh Thị Thanh Hằng - ITDSIU21083\n"
   ]
  },
  {
   "cell_type": "code",
   "execution_count": 6,
   "id": "02054b9e",
   "metadata": {},
   "outputs": [
    {
     "data": {
      "text/html": [
       "<div>\n",
       "<style scoped>\n",
       "    .dataframe tbody tr th:only-of-type {\n",
       "        vertical-align: middle;\n",
       "    }\n",
       "\n",
       "    .dataframe tbody tr th {\n",
       "        vertical-align: top;\n",
       "    }\n",
       "\n",
       "    .dataframe thead th {\n",
       "        text-align: right;\n",
       "    }\n",
       "</style>\n",
       "<table border=\"1\" class=\"dataframe\">\n",
       "  <thead>\n",
       "    <tr style=\"text-align: right;\">\n",
       "      <th></th>\n",
       "      <th>Muscle Mass</th>\n",
       "      <th>Age</th>\n",
       "    </tr>\n",
       "  </thead>\n",
       "  <tbody>\n",
       "    <tr>\n",
       "      <th>0</th>\n",
       "      <td>106</td>\n",
       "      <td>43</td>\n",
       "    </tr>\n",
       "    <tr>\n",
       "      <th>1</th>\n",
       "      <td>106</td>\n",
       "      <td>41</td>\n",
       "    </tr>\n",
       "    <tr>\n",
       "      <th>2</th>\n",
       "      <td>97</td>\n",
       "      <td>47</td>\n",
       "    </tr>\n",
       "    <tr>\n",
       "      <th>3</th>\n",
       "      <td>113</td>\n",
       "      <td>46</td>\n",
       "    </tr>\n",
       "    <tr>\n",
       "      <th>4</th>\n",
       "      <td>96</td>\n",
       "      <td>45</td>\n",
       "    </tr>\n",
       "  </tbody>\n",
       "</table>\n",
       "</div>"
      ],
      "text/plain": [
       "   Muscle Mass  Age\n",
       "0          106   43\n",
       "1          106   41\n",
       "2           97   47\n",
       "3          113   46\n",
       "4           96   45"
      ]
     },
     "execution_count": 6,
     "metadata": {},
     "output_type": "execute_result"
    }
   ],
   "source": [
    "#importing libraries\n",
    "# importing libraries\n",
    "import pandas as pd\n",
    "import numpy as np\n",
    "from sklearn.linear_model import LinearRegression\n",
    "from sklearn.model_selection import train_test_split\n",
    "import numpy as np\n",
    "from sklearn.linear_model import LinearRegression\n",
    "import statsmodels.api as sm\n",
    "import statsmodels.stats.api as sms\n",
    "from yellowbrick.regressor import ResidualsPlot\n",
    "import matplotlib.pyplot as plt\n",
    "import statsmodels.formula.api as smf\n",
    "from statsmodels.compat import lzip\n",
    "import scipy.stats as stats\n",
    "import seaborn as sns\n",
    "df = pd.read_csv('CH01PR27.txt',sep= '\\s+',header=None) # read the data set\n",
    "df.columns = (['Muscle Mass','Age'])\n",
    "df.head() # return top 10 values"
   ]
  },
  {
   "cell_type": "code",
   "execution_count": 3,
   "id": "9ce22bdf",
   "metadata": {
    "scrolled": true
   },
   "outputs": [
    {
     "name": "stdout",
     "output_type": "stream",
     "text": [
      "<class 'pandas.core.frame.DataFrame'>\n",
      "RangeIndex: 60 entries, 0 to 59\n",
      "Data columns (total 2 columns):\n",
      " #   Column  Non-Null Count  Dtype\n",
      "---  ------  --------------  -----\n",
      " 0   0       60 non-null     int64\n",
      " 1   1       60 non-null     int64\n",
      "dtypes: int64(2)\n",
      "memory usage: 1.1 KB\n"
     ]
    }
   ],
   "source": [
    "df.info()"
   ]
  },
  {
   "cell_type": "code",
   "execution_count": 9,
   "id": "0ff82162",
   "metadata": {},
   "outputs": [],
   "source": [
    "# naming variables\n",
    "X = df['Muscle Mass']\n",
    "Y = df['Age']"
   ]
  },
  {
   "cell_type": "code",
   "execution_count": 11,
   "id": "e817fc50",
   "metadata": {},
   "outputs": [
    {
     "name": "stdout",
     "output_type": "stream",
     "text": [
      "X_mean = 84.96666666666667\n",
      "Y_mean = 59.983333333333334\n"
     ]
    }
   ],
   "source": [
    "# sample nmean\n",
    "X_bar = np.mean(X)\n",
    "Y_bar = np.mean(Y)\n",
    "print('X_mean =',X_bar)\n",
    "print('Y_mean =',Y_bar)\n",
    "# difference from mean\n",
    "X_err = X - X_bar\n",
    "Y_err = Y - Y_bar\n"
   ]
  },
  {
   "cell_type": "code",
   "execution_count": 13,
   "id": "0b89c00a",
   "metadata": {},
   "outputs": [
    {
     "name": "stdout",
     "output_type": "stream",
     "text": [
      "A = -9771.033333333333\n",
      "B = 15501.933333333334\n"
     ]
    }
   ],
   "source": [
    "A = np.sum(X_err * Y_err)\n",
    "B = np.sum(X_err ** 2)\n",
    "print('A =',A)\n",
    "print('B =',B)\n"
   ]
  },
  {
   "cell_type": "code",
   "execution_count": 14,
   "id": "bc83a142",
   "metadata": {},
   "outputs": [
    {
     "name": "stdout",
     "output_type": "stream",
     "text": [
      "b1 = -0.6303106279216785\n",
      "b0 = 113.53872635241194\n"
     ]
    }
   ],
   "source": [
    "b1 = A/B\n",
    "b0 = Y_bar - b1 * X_bar\n",
    "print('b1 =',b1)\n",
    "print('b0 =',b0)"
   ]
  },
  {
   "cell_type": "code",
   "execution_count": 15,
   "id": "ef9f9920",
   "metadata": {},
   "outputs": [],
   "source": [
    "Y_hat= b0 + b1*X\n",
    "residual= Y- Y_hat"
   ]
  },
  {
   "cell_type": "code",
   "execution_count": 19,
   "id": "7aa1db45",
   "metadata": {},
   "outputs": [
    {
     "data": {
      "image/png": "[encoded data removed]",
      "text/plain": [
       "<Figure size 360x360 with 1 Axes>"
      ]
     },
     "metadata": {},
     "output_type": "display_data"
    }
   ],
   "source": [
    "import matplotlib.pyplot as plt\n",
    "import seaborn as sns\n",
    "sns.relplot(x='Muscle Mass', y='Age', data=df)\n",
    "x = np.linspace(2000000, 5000000, 80000000)\n",
    "sns.lineplot(x=X, y=b0+b1*X, color='red')\n",
    "plt.show()\n"
   ]
  },
  {
   "cell_type": "code",
   "execution_count": 20,
   "id": "998eb3ad",
   "metadata": {},
   "outputs": [
    {
     "data": {
      "text/html": [
       "<table class=\"simpletable\">\n",
       "<caption>OLS Regression Results</caption>\n",
       "<tr>\n",
       "  <th>Dep. Variable:</th>            <td>Y</td>        <th>  R-squared:         </th> <td>   0.750</td>\n",
       "</tr>\n",
       "<tr>\n",
       "  <th>Model:</th>                   <td>OLS</td>       <th>  Adj. R-squared:    </th> <td>   0.746</td>\n",
       "</tr>\n",
       "<tr>\n",
       "  <th>Method:</th>             <td>Least Squares</td>  <th>  F-statistic:       </th> <td>   174.1</td>\n",
       "</tr>\n",
       "<tr>\n",
       "  <th>Date:</th>             <td>Fri, 28 Oct 2022</td> <th>  Prob (F-statistic):</th> <td>4.12e-19</td>\n",
       "</tr>\n",
       "<tr>\n",
       "  <th>Time:</th>                 <td>13:40:38</td>     <th>  Log-Likelihood:    </th> <td> -191.11</td>\n",
       "</tr>\n",
       "<tr>\n",
       "  <th>No. Observations:</th>      <td>    60</td>      <th>  AIC:               </th> <td>   386.2</td>\n",
       "</tr>\n",
       "<tr>\n",
       "  <th>Df Residuals:</th>          <td>    58</td>      <th>  BIC:               </th> <td>   390.4</td>\n",
       "</tr>\n",
       "<tr>\n",
       "  <th>Df Model:</th>              <td>     1</td>      <th>                     </th>     <td> </td>   \n",
       "</tr>\n",
       "<tr>\n",
       "  <th>Covariance Type:</th>      <td>nonrobust</td>    <th>                     </th>     <td> </td>   \n",
       "</tr>\n",
       "</table>\n",
       "<table class=\"simpletable\">\n",
       "<tr>\n",
       "      <td></td>         <th>coef</th>     <th>std err</th>      <th>t</th>      <th>P>|t|</th>  <th>[0.025</th>    <th>0.975]</th>  \n",
       "</tr>\n",
       "<tr>\n",
       "  <th>Intercept</th> <td>  113.5387</td> <td>    4.131</td> <td>   27.483</td> <td> 0.000</td> <td>  105.269</td> <td>  121.808</td>\n",
       "</tr>\n",
       "<tr>\n",
       "  <th>X</th>         <td>   -0.6303</td> <td>    0.048</td> <td>  -13.193</td> <td> 0.000</td> <td>   -0.726</td> <td>   -0.535</td>\n",
       "</tr>\n",
       "</table>\n",
       "<table class=\"simpletable\">\n",
       "<tr>\n",
       "  <th>Omnibus:</th>       <td> 7.187</td> <th>  Durbin-Watson:     </th> <td>   1.819</td>\n",
       "</tr>\n",
       "<tr>\n",
       "  <th>Prob(Omnibus):</th> <td> 0.027</td> <th>  Jarque-Bera (JB):  </th> <td>   6.337</td>\n",
       "</tr>\n",
       "<tr>\n",
       "  <th>Skew:</th>          <td> 0.739</td> <th>  Prob(JB):          </th> <td>  0.0421</td>\n",
       "</tr>\n",
       "<tr>\n",
       "  <th>Kurtosis:</th>      <td> 3.591</td> <th>  Cond. No.          </th> <td>    465.</td>\n",
       "</tr>\n",
       "</table><br/><br/>Notes:<br/>[1] Standard Errors assume that the covariance matrix of the errors is correctly specified."
      ],
      "text/plain": [
       "<class 'statsmodels.iolib.summary.Summary'>\n",
       "\"\"\"\n",
       "                            OLS Regression Results                            \n",
       "==============================================================================\n",
       "Dep. Variable:                      Y   R-squared:                       0.750\n",
       "Model:                            OLS   Adj. R-squared:                  0.746\n",
       "Method:                 Least Squares   F-statistic:                     174.1\n",
       "Date:                Fri, 28 Oct 2022   Prob (F-statistic):           4.12e-19\n",
       "Time:                        13:40:38   Log-Likelihood:                -191.11\n",
       "No. Observations:                  60   AIC:                             386.2\n",
       "Df Residuals:                      58   BIC:                             390.4\n",
       "Df Model:                           1                                         \n",
       "Covariance Type:            nonrobust                                         \n",
       "==============================================================================\n",
       "                 coef    std err          t      P>|t|      [0.025      0.975]\n",
       "------------------------------------------------------------------------------\n",
       "Intercept    113.5387      4.131     27.483      0.000     105.269     121.808\n",
       "X             -0.6303      0.048    -13.193      0.000      -0.726      -0.535\n",
       "==============================================================================\n",
       "Omnibus:                        7.187   Durbin-Watson:                   1.819\n",
       "Prob(Omnibus):                  0.027   Jarque-Bera (JB):                6.337\n",
       "Skew:                           0.739   Prob(JB):                       0.0421\n",
       "Kurtosis:                       3.591   Cond. No.                         465.\n",
       "==============================================================================\n",
       "\n",
       "Notes:\n",
       "[1] Standard Errors assume that the covariance matrix of the errors is correctly specified.\n",
       "\"\"\""
      ]
     },
     "execution_count": 20,
     "metadata": {},
     "output_type": "execute_result"
    }
   ],
   "source": [
    "import statsmodels.api as sm\n",
    "import statsmodels.formula.api as smf\n",
    "# discuss the good fit of each model\n",
    "model = smf.ols('Y ~ X', data=df)\n",
    "results = model.fit()\n",
    "results.summary()"
   ]
  },
  {
   "cell_type": "code",
   "execution_count": 74,
   "id": "384c176d",
   "metadata": {},
   "outputs": [
    {
     "ename": "NameError",
     "evalue": "name 'y1' is not defined",
     "output_type": "error",
     "traceback": [
      "\u001b[1;31m---------------------------------------------------------------------------\u001b[0m",
      "\u001b[1;31mNameError\u001b[0m                                 Traceback (most recent call last)",
      "Input \u001b[1;32mIn [74]\u001b[0m, in \u001b[0;36m<cell line: 12>\u001b[1;34m()\u001b[0m\n\u001b[0;32m     10\u001b[0m MSR \u001b[38;5;241m=\u001b[39m SSR\n\u001b[0;32m     11\u001b[0m \u001b[38;5;28;01mfrom\u001b[39;00m \u001b[38;5;21;01msklearn\u001b[39;00m\u001b[38;5;21;01m.\u001b[39;00m\u001b[38;5;21;01mmetrics\u001b[39;00m \u001b[38;5;28;01mimport\u001b[39;00m r2_score\n\u001b[1;32m---> 12\u001b[0m r_sq1 \u001b[38;5;241m=\u001b[39m r2_score(Y,\u001b[43my1\u001b[49m)\n\u001b[0;32m     13\u001b[0m \u001b[38;5;28mprint\u001b[39m(MSE,SSR,SSTO, MSR,SSE)\n",
      "\u001b[1;31mNameError\u001b[0m: name 'y1' is not defined"
     ]
    }
   ],
   "source": [
    "# e\n",
    "alpha = 0.05\n",
    "n=len(X)\n",
    "Y_hat=(b0+b1*60)\n",
    "# caculate the MSE value\n",
    "SSE= sum((Y-Y_hat)**2)\n",
    "MSE= SSE/(n-2)\n",
    "SSR = np.sum((Y_hat - Y_bar)**2)\n",
    "SSTO = SSE + SSR\n",
    "MSR = SSR\n",
    "print(MSE,SSR,SSTO, MSR,SSE)"
   ]
  },
  {
   "cell_type": "code",
   "execution_count": 37,
   "id": "cf06da93",
   "metadata": {
    "scrolled": true
   },
   "outputs": [
    {
     "data": {
      "text/plain": [
       "0.04777521099767076"
      ]
     },
     "execution_count": 37,
     "metadata": {},
     "output_type": "execute_result"
    }
   ],
   "source": [
    "std_dev = MSE / B\n",
    "s = np.sqr\n",
    "t(std_dev)\n",
    "s"
   ]
  },
  {
   "cell_type": "code",
   "execution_count": 38,
   "id": "1b4b673e",
   "metadata": {},
   "outputs": [
    {
     "data": {
      "text/plain": [
       "2.0017174830120923"
      ]
     },
     "execution_count": 38,
     "metadata": {},
     "output_type": "execute_result"
    }
   ],
   "source": [
    "t = stats.t.ppf(q=1-alpha/2, df = n-2)\n",
    "t"
   ]
  },
  {
   "cell_type": "code",
   "execution_count": 39,
   "id": "cf4061b5",
   "metadata": {},
   "outputs": [
    {
     "data": {
      "text/plain": [
       "(-0.5346781528130493, -0.7259431030303076)"
      ]
     },
     "execution_count": 39,
     "metadata": {},
     "output_type": "execute_result"
    }
   ],
   "source": [
    "U = b1 + t*s\n",
    "L = b1 - t*s\n",
    "U,L"
   ]
  },
  {
   "cell_type": "code",
   "execution_count": 53,
   "id": "cc830175",
   "metadata": {},
   "outputs": [
    {
     "data": {
      "text/plain": [
       "2.3923774702828906"
      ]
     },
     "execution_count": 53,
     "metadata": {},
     "output_type": "execute_result"
    }
   ],
   "source": [
    "t1 = stats.t.ppf(q=1-0.02/2, df = n-2)\n",
    "t1"
   ]
  },
  {
   "cell_type": "code",
   "execution_count": 59,
   "id": "82005d13",
   "metadata": {},
   "outputs": [
    {
     "data": {
      "text/plain": [
       "75.72008867711124"
      ]
     },
     "execution_count": 59,
     "metadata": {},
     "output_type": "execute_result"
    }
   ],
   "source": [
    "Y_hat1= b0+ b1*60\n",
    "Y_hat1"
   ]
  },
  {
   "cell_type": "code",
   "execution_count": 70,
   "id": "cb842b33",
   "metadata": {},
   "outputs": [
    {
     "data": {
      "text/plain": [
       "397.753645833253"
      ]
     },
     "execution_count": 70,
     "metadata": {},
     "output_type": "execute_result"
    }
   ],
   "source": [
    "Residual = Y - Y_hat1\n",
    "SSE1 = np.sum(Residual**2)\n",
    "MSE1 = SSE1/(n - 2)\n",
    "MSE1"
   ]
  },
  {
   "cell_type": "code",
   "execution_count": 60,
   "id": "7f32290b",
   "metadata": {
    "scrolled": true
   },
   "outputs": [
    {
     "data": {
      "text/plain": [
       "1.2924697071141057e-26"
      ]
     },
     "execution_count": 60,
     "metadata": {},
     "output_type": "execute_result"
    }
   ],
   "source": [
    "Sxx = np.sum(X- X_bar)**2\n",
    "Sxx"
   ]
  },
  {
   "cell_type": "code",
   "execution_count": 63,
   "id": "12b61c6b",
   "metadata": {},
   "outputs": [
    {
     "data": {
      "text/plain": [
       "1306309011266142.5"
      ]
     },
     "execution_count": 63,
     "metadata": {},
     "output_type": "execute_result"
    }
   ],
   "source": [
    "SYh = np.sqrt(MSE*(1/n + ((60 - X_bar)**2)/Sxx))\n",
    "SYh"
   ]
  },
  {
   "cell_type": "code",
   "execution_count": 64,
   "id": "b0b82b9e",
   "metadata": {},
   "outputs": [
    {
     "name": "stdout",
     "output_type": "stream",
     "text": [
      "-3125184247780562.5 3125184247780713.5\n"
     ]
    }
   ],
   "source": [
    "U1 = Y_hat1+t1*SYh\n",
    "L1 = Y_hat1-t1*SYh\n",
    "print(L1,U1)\n"
   ]
  },
  {
   "cell_type": "code",
   "execution_count": 67,
   "id": "701ac2e3",
   "metadata": {},
   "outputs": [
    {
     "data": {
      "text/plain": [
       "1306309011266142.5"
      ]
     },
     "execution_count": 67,
     "metadata": {},
     "output_type": "execute_result"
    }
   ],
   "source": [
    "\n",
    "# standard error of prediction\n",
    "S_pred= np.sqrt(MSE*(1 + 1/n + ((60 - X_bar)**2)/Sxx))\n",
    "S_pred"
   ]
  },
  {
   "cell_type": "code",
   "execution_count": 69,
   "id": "8a155b80",
   "metadata": {},
   "outputs": [
    {
     "data": {
      "text/plain": [
       "(-3125184247780562.5, 3125184247780713.5)"
      ]
     },
     "execution_count": 69,
     "metadata": {},
     "output_type": "execute_result"
    }
   ],
   "source": [
    "# The following code calculates the predication interval.\n",
    "L2= Y_hat1 - t1*S_pred\n",
    "U2= Y_hat1 + t1*S_pred\n",
    "L2,U2"
   ]
  },
  {
   "cell_type": "code",
   "execution_count": null,
   "id": "ecf01211",
   "metadata": {},
   "outputs": [],
   "source": [
    "import statsmodels.api as sm\n",
    "import statsmodels.formula.api as smf\n",
    "import statsmodels.tools.tools as smt\n",
    "import statsmodels.stats.diagnostic as smd"
   ]
  },
  {
   "cell_type": "code",
   "execution_count": 32,
   "id": "441cdacd",
   "metadata": {},
   "outputs": [
    {
     "data": {
      "text/plain": [
       "[('Lagrange multiplier statistic', 4.42210593733162),\n",
       " ('p-value', 0.03547622638008991),\n",
       " ('f-value', 4.61482300995483),\n",
       " ('f p-value', 0.03588513598042569)]"
      ]
     },
     "execution_count": 32,
     "metadata": {},
     "output_type": "execute_result"
    }
   ],
   "source": [
    "#Breusch-Pagan test\n",
    "# Fit the regression model\n",
    "fit = smf.ols('X ~ Y', data=df).fit()\n",
    "# Conduct the Breusch-Pagan test\n",
    "names = ['Lagrange multiplier statistic', 'p-value',\n",
    "'f-value', 'f p-value']\n",
    "# Get the test result\n",
    "test_result = sms.het_breuschpagan(fit.resid, fit.model.exog)\n",
    "lzip(names, test_result)\n"
   ]
  },
  {
   "cell_type": "code",
   "execution_count": null,
   "id": "cc2dc643",
   "metadata": {},
   "outputs": [],
   "source": []
  },
  {
   "cell_type": "code",
   "execution_count": 78,
   "id": "9c563f93",
   "metadata": {},
   "outputs": [
    {
     "name": "stderr",
     "output_type": "stream",
     "text": [
      "C:\\Users\\tanvu\\anaconda3\\lib\\site-packages\\seaborn\\_decorators.py:36: FutureWarning: Pass the following variable as a keyword arg: x. From version 0.12, the only valid positional argument will be `data`, and passing other arguments without an explicit keyword will result in an error or misinterpretation.\n",
      "  warnings.warn(\n"
     ]
    },
    {
     "data": {
      "image/png": "[encoded data removed]",
      "text/plain": [
       "<Figure size 360x360 with 1 Axes>"
      ]
     },
     "metadata": {},
     "output_type": "display_data"
    }
   ],
   "source": [
    "X1=np.array([0,1,2,3,4,5,6,7,8,9])\n",
    "Y1=np.array([98,135,162,178,221,283,300,374,395])\n",
    "import matplotlib.pyplot as plt\n",
    "import seaborn as sns\n",
    "# plotting the graph of the relationship between X1= total population and y=␣number of active physicans\n",
    "sns.relplot(X1)\n",
    "sns\n",
    "x = np.linspace(2000000, 5000000, 80000000)\n",
    "plt.show()"
   ]
  },
  {
   "cell_type": "code",
   "execution_count": null,
   "id": "43b42261",
   "metadata": {},
   "outputs": [],
   "source": []
  }
 ],
 "metadata": {
  "kernelspec": {
   "display_name": "Python 3 (ipykernel)",
   "language": "python",
   "name": "python3"
  },
  "language_info": {
   "codemirror_mode": {
    "name": "ipython",
    "version": 3
   },
   "file_extension": ".py",
   "mimetype": "text/x-python",
   "name": "python",
   "nbconvert_exporter": "python",
   "pygments_lexer": "ipython3",
   "version": "3.9.12"
  }
 },
 "nbformat": 4,
 "nbformat_minor": 5
}
