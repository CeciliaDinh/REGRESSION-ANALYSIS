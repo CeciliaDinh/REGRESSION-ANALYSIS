{
 "cells": [
  {
   "cell_type": "markdown",
   "id": "2a668220",
   "metadata": {},
   "source": [
    "### Problem 4"
   ]
  },
  {
   "cell_type": "code",
   "execution_count": 2,
   "id": "73f1c0bd",
   "metadata": {},
   "outputs": [],
   "source": [
    "import numpy as np\n",
    "import pandas as pd\n",
    "import seaborn as sns\n",
    "import matplotlib.pyplot as plt\n",
    "import scipy.stats as stats\n",
    "import statsmodels.api as sm\n",
    "import statsmodels.formula.api as smf\n",
    "from statsmodels.formula.api import ols\n",
    "import math\n",
    "import statsmodels.api as sm\n",
    "import statsmodels.formula.api as smf\n",
    "from statsmodels.formula.api import ols"
   ]
  },
  {
   "cell_type": "code",
   "execution_count": 53,
   "id": "f21fa7c0",
   "metadata": {
    "scrolled": true
   },
   "outputs": [
    {
     "data": {
      "text/html": [
       "<div>\n",
       "<style scoped>\n",
       "    .dataframe tbody tr th:only-of-type {\n",
       "        vertical-align: middle;\n",
       "    }\n",
       "\n",
       "    .dataframe tbody tr th {\n",
       "        vertical-align: top;\n",
       "    }\n",
       "\n",
       "    .dataframe thead th {\n",
       "        text-align: right;\n",
       "    }\n",
       "</style>\n",
       "<table border=\"1\" class=\"dataframe\">\n",
       "  <thead>\n",
       "    <tr style=\"text-align: right;\">\n",
       "      <th></th>\n",
       "      <th>Y</th>\n",
       "      <th>X1</th>\n",
       "      <th>X2</th>\n",
       "      <th>X3</th>\n",
       "    </tr>\n",
       "  </thead>\n",
       "  <tbody>\n",
       "    <tr>\n",
       "      <th>0</th>\n",
       "      <td>48</td>\n",
       "      <td>50</td>\n",
       "      <td>51</td>\n",
       "      <td>2.3</td>\n",
       "    </tr>\n",
       "    <tr>\n",
       "      <th>1</th>\n",
       "      <td>57</td>\n",
       "      <td>36</td>\n",
       "      <td>46</td>\n",
       "      <td>2.3</td>\n",
       "    </tr>\n",
       "    <tr>\n",
       "      <th>2</th>\n",
       "      <td>66</td>\n",
       "      <td>40</td>\n",
       "      <td>48</td>\n",
       "      <td>2.2</td>\n",
       "    </tr>\n",
       "    <tr>\n",
       "      <th>3</th>\n",
       "      <td>70</td>\n",
       "      <td>41</td>\n",
       "      <td>44</td>\n",
       "      <td>1.8</td>\n",
       "    </tr>\n",
       "    <tr>\n",
       "      <th>4</th>\n",
       "      <td>89</td>\n",
       "      <td>28</td>\n",
       "      <td>43</td>\n",
       "      <td>1.8</td>\n",
       "    </tr>\n",
       "  </tbody>\n",
       "</table>\n",
       "</div>"
      ],
      "text/plain": [
       "    Y  X1  X2   X3\n",
       "0  48  50  51  2.3\n",
       "1  57  36  46  2.3\n",
       "2  66  40  48  2.2\n",
       "3  70  41  44  1.8\n",
       "4  89  28  43  1.8"
      ]
     },
     "execution_count": 53,
     "metadata": {},
     "output_type": "execute_result"
    }
   ],
   "source": [
    "df = pd.read_csv('problem4.txt',sep= '\\s+',header=None) # read the data set\n",
    "df.columns = (['Y','X1','X2','X3'])\n",
    "df.head() "
   ]
  },
  {
   "cell_type": "markdown",
   "id": "2fd03a4d",
   "metadata": {},
   "source": [
    "### a."
   ]
  },
  {
   "cell_type": "code",
   "execution_count": 6,
   "id": "0e7e8ab8",
   "metadata": {},
   "outputs": [],
   "source": [
    "\n",
    "X1 = df['X1']\n",
    "X2 = df['X2']\n",
    "X3 = df['X3']\n",
    "Y = df['Y']\n",
    "n=len(X1)"
   ]
  },
  {
   "cell_type": "code",
   "execution_count": 11,
   "id": "4d9f0d58",
   "metadata": {},
   "outputs": [
    {
     "name": "stdout",
     "output_type": "stream",
     "text": [
      "Y=  [48 57 66 70 89 36 46 54 26 77 89 67 47 51 57 66 79 88 60 49 77 52 60 86\n",
      " 43 34 63 72 57 55 59 83 76 47 36 80 82 64 37 42 66 83 37 68 59 92] \n",
      "\n"
     ]
    }
   ],
   "source": [
    "matY_1 = np.array(Y)\n",
    "print('Y= ',matY_1,'\\n')"
   ]
  },
  {
   "cell_type": "code",
   "execution_count": 12,
   "id": "95a05eac",
   "metadata": {},
   "outputs": [],
   "source": [
    "col1 = np.array(X1)\n",
    "col2 = np.array(X2)\n",
    "col3 = np.array(X3)\n",
    "matJ = np.ones((len(X1)))\n",
    "matX = np.stack( (matJ,col1,col2,col3),axis = 1)"
   ]
  },
  {
   "cell_type": "code",
   "execution_count": 13,
   "id": "b752401b",
   "metadata": {},
   "outputs": [
    {
     "name": "stdout",
     "output_type": "stream",
     "text": [
      "X'X=  [[4.60000e+01 1.76600e+03 2.32000e+03 1.05200e+02]\n",
      " [1.76600e+03 7.13780e+04 9.00510e+04 4.10720e+03]\n",
      " [2.32000e+03 9.00510e+04 1.17846e+05 5.34470e+03]\n",
      " [1.05200e+02 4.10720e+03 5.34470e+03 2.44620e+02]] \n",
      "\n"
     ]
    }
   ],
   "source": [
    "X_X1 = np.dot(matX.T,matX)\n",
    "print(\"X'X= \",X_X1,'\\n')"
   ]
  },
  {
   "cell_type": "code",
   "execution_count": 14,
   "id": "7f041d0b",
   "metadata": {
    "scrolled": true
   },
   "outputs": [
    {
     "name": "stdout",
     "output_type": "stream",
     "text": [
      "X'Y=  [  2832. 103282. 140814.   6327.] \n",
      "\n"
     ]
    }
   ],
   "source": [
    "X_Y1 = np.dot(matX.T,matY_1)\n",
    "print(\"X'Y= \",X_Y1, '\\n')"
   ]
  },
  {
   "cell_type": "code",
   "execution_count": 15,
   "id": "32e27e89",
   "metadata": {},
   "outputs": [],
   "source": [
    "Invert = np.linalg.pinv(X_X1) "
   ]
  },
  {
   "cell_type": "code",
   "execution_count": 16,
   "id": "1dc33316",
   "metadata": {},
   "outputs": [],
   "source": [
    "b1=Invert.dot(X_Y1)"
   ]
  },
  {
   "cell_type": "code",
   "execution_count": 17,
   "id": "5988f025",
   "metadata": {},
   "outputs": [
    {
     "data": {
      "text/plain": [
       "array([158.49125167,  -1.14161185,  -0.44200426, -13.47016319])"
      ]
     },
     "execution_count": 17,
     "metadata": {},
     "output_type": "execute_result"
    }
   ],
   "source": [
    "b_trans_1 = np.transpose(b1)\n",
    "b_trans_1"
   ]
  },
  {
   "cell_type": "code",
   "execution_count": 18,
   "id": "a9357b7e",
   "metadata": {},
   "outputs": [
    {
     "name": "stdout",
     "output_type": "stream",
     "text": [
      "Intercept:\n",
      " 158.49125166661733\n",
      "Coeficients:\n",
      " [  0.          -1.14161185  -0.44200426 -13.47016319]\n"
     ]
    }
   ],
   "source": [
    "# double check the results by OLS \n",
    "from sklearn import linear_model\n",
    "y=matY_1\n",
    "x=matX\n",
    "regr=linear_model.LinearRegression()\n",
    "regr.fit(x,y)\n",
    "print('Intercept:\\n',regr.intercept_)\n",
    "print('Coeficients:\\n',regr.coef_ )"
   ]
  },
  {
   "cell_type": "markdown",
   "id": "a3de0a1c",
   "metadata": {},
   "source": [
    "- b0= 158.4913 \n",
    "- b1= -1.1416\n",
    "- b2= -0.4420\n",
    "- b3= -13.47016319\n",
    "### Y= 158.4913 -1.1416X1-0.4420X2-13.47016319X3"
   ]
  },
  {
   "cell_type": "code",
   "execution_count": 25,
   "id": "da9e4894",
   "metadata": {},
   "outputs": [],
   "source": [
    "Y_hat= 158.4913 -1.1416*X1-0.4420*X2-13.47016319*X3"
   ]
  },
  {
   "cell_type": "code",
   "execution_count": 34,
   "id": "ed15fabf",
   "metadata": {},
   "outputs": [],
   "source": [
    "allX = [X1, X2, X3]"
   ]
  },
  {
   "cell_type": "code",
   "execution_count": 37,
   "id": "6122cd29",
   "metadata": {
    "scrolled": true
   },
   "outputs": [
    {
     "name": "stdout",
     "output_type": "stream",
     "text": [
      " R_square 0.6189842519960209\n",
      " MSE 115.77080673590463\n",
      " SSE 5093.915496379804\n",
      " SSTO 13369.304347826084\n",
      " SSR 8275.38885144628\n",
      " R_square 0.3635387359110574\n",
      " MSE 193.38737148198152\n",
      " SSE 8509.044345207187\n",
      " SSTO 13369.304347826084\n",
      " SSR 4860.260002618898\n",
      " R_square 0.41549754587804455\n",
      " MSE 177.59980002744717\n",
      " SSE 7814.391201207676\n",
      " SSTO 13369.304347826086\n",
      " SSR 5554.91314661841\n"
     ]
    }
   ],
   "source": [
    "for x in allX:\n",
    "    x_bar = np.mean(x)\n",
    "    Y_bar = np.mean(Y)\n",
    "    x_err = x - x_bar\n",
    "    Y_err = Y - Y_bar\n",
    "    A = np.sum(x_err*Y_err)\n",
    "    B = np.sum(x_err**2)\n",
    "    b1 = A / B\n",
    "    b0 = Y_bar - b1*x_bar\n",
    "    n = len(x)\n",
    "    Y_hat = b0 + b1*x\n",
    "    resid = Y - Y_hat\n",
    "    SSE = np.sum((Y - Y_hat)**2)\n",
    "    MSE = SSE / (n-2)\n",
    "    SSR = sum((Y_hat - Y_bar)**2)\n",
    "    SSTO = SSR + SSE\n",
    "    R_squared = SSR/SSTO\n",
    "    print(f' R_square {R_squared}')\n",
    "    print(f' MSE {MSE}')\n",
    "    print(f' SSE {SSE}')\n",
    "    print(f' SSTO {SSTO}')\n",
    "    print(f' SSR {SSR}')"
   ]
  },
  {
   "cell_type": "code",
   "execution_count": 39,
   "id": "e348b6b5",
   "metadata": {},
   "outputs": [
    {
     "name": "stdout",
     "output_type": "stream",
     "text": [
      "                sum_sq    df          F        PR(>F)\n",
      "Intercept  7579.172193   1.0  70.649120  1.273843e-10\n",
      "X1         3896.044142   1.0  36.316907  3.347580e-07\n",
      "X2          480.915294   1.0   4.482843  4.005967e-02\n",
      "Residual   4613.000203  43.0        NaN           NaN\n"
     ]
    }
   ],
   "source": [
    "import statsmodels.api as sm\n",
    "import statsmodels.formula.api as smf\n",
    "model0 = smf.ols('Y~ X1+X2',data=df).fit()\n",
    "table0 = sm.stats.anova_lm(model0, typ=3)\n",
    "print(table0)"
   ]
  },
  {
   "cell_type": "code",
   "execution_count": 41,
   "id": "ea8986e8",
   "metadata": {},
   "outputs": [
    {
     "name": "stdout",
     "output_type": "stream",
     "text": [
      "                sum_sq    df          F        PR(>F)\n",
      "Intercept  7734.515725   1.0  76.456070  5.260955e-11\n",
      "X1         2857.553377   1.0  28.247056  3.810252e-06\n",
      "X2           81.659053   1.0   0.807204  3.740702e-01\n",
      "X3          364.159521   1.0   3.599735  6.467813e-02\n",
      "Residual   4248.840682  42.0        NaN           NaN\n"
     ]
    }
   ],
   "source": [
    "import statsmodels.api as sm\n",
    "import statsmodels.formula.api as smf\n",
    "model1 = smf.ols('Y~ X1+X2+X3',data=df).fit()\n",
    "table1 = sm.stats.anova_lm(model1, typ=3)\n",
    "print(table1)"
   ]
  },
  {
   "cell_type": "code",
   "execution_count": 42,
   "id": "099fa5d1",
   "metadata": {},
   "outputs": [
    {
     "data": {
      "text/plain": [
       "3.5997348516255765"
      ]
     },
     "execution_count": 42,
     "metadata": {},
     "output_type": "execute_result"
    }
   ],
   "source": [
    "F_star123 = ((4613.000203-4248.840682)/(43-42))/(4248.840682  /42)\n",
    "F_star123"
   ]
  },
  {
   "cell_type": "code",
   "execution_count": 44,
   "id": "76463b70",
   "metadata": {},
   "outputs": [
    {
     "data": {
      "text/plain": [
       "4.300122750135479"
      ]
     },
     "execution_count": 44,
     "metadata": {},
     "output_type": "execute_result"
    }
   ],
   "source": [
    "F123 = stats.f.ppf(q = 1-0.02, dfn=2, dfd=len(X1)-4)\n",
    "F123"
   ]
  },
  {
   "cell_type": "markdown",
   "id": "b8637937",
   "metadata": {},
   "source": [
    "### Before jumping straight into the conclusion, I would like to state the decision rule.\n",
    "- H0 : β4 = 0\n",
    "- H1 : β4 != 0\n",
    "### Since the F-star= 3.59< F= 4.3 , we can reject H0 and conclude Ha, and conclude that the presence of X3 is not significant in the data set that already included X1 and X2 and can be excluded from the data"
   ]
  },
  {
   "cell_type": "markdown",
   "id": "2bfb21c7",
   "metadata": {},
   "source": [
    "### b"
   ]
  },
  {
   "cell_type": "markdown",
   "id": "3807b085",
   "metadata": {},
   "source": [
    "### Subset with two predictors"
   ]
  },
  {
   "cell_type": "code",
   "execution_count": 45,
   "id": "63f275ad",
   "metadata": {},
   "outputs": [],
   "source": [
    "X12 = df.iloc[:,1:3]\n",
    "X12 = sm.add_constant(X12)\n",
    "X13 = df.iloc[:,[1,3]]\n",
    "X13 = sm.add_constant(X13)\n",
    "X23 = df.iloc[:,2:4]\n",
    "X23 = sm.add_constant(X23)\n",
    "X_double = [X12, X23, X13]"
   ]
  },
  {
   "cell_type": "code",
   "execution_count": 48,
   "id": "5b306beb",
   "metadata": {},
   "outputs": [
    {
     "name": "stdout",
     "output_type": "stream",
     "text": [
      " Adj R_square 0.6012625892981616\n",
      " Adj R_square 0.3339358864185483\n",
      " Adj R_square 0.38831138522120934\n"
     ]
    }
   ],
   "source": [
    "for x in allX:\n",
    "    x_bar = np.mean(x)\n",
    "    Y_bar = np.mean(Y)\n",
    "    x_err = x - x_bar\n",
    "    Y_err = Y - Y_bar\n",
    "    A = np.sum(x_err*Y_err)\n",
    "    B = np.sum(x_err**2)\n",
    "    b1 = A / B\n",
    "    b0 = Y_bar - b1*x_bar\n",
    "    n = len(x)\n",
    "    Y_hat = b0 + b1*x\n",
    "    resid = Y - Y_hat\n",
    "    SSE = np.sum((Y - Y_hat)**2)\n",
    "    MSE = SSE / (n-2)\n",
    "    SSR = sum((Y_hat - Y_bar)**2)\n",
    "    SSTO = SSR + SSE\n",
    "    R_squared = SSR/SSTO\n",
    "    R_2a = 1 - (((n-1)/(n-3))*(SSE/SSTO))\n",
    "    print(f' Adj R_square {R_2a}')\n",
    "    "
   ]
  },
  {
   "cell_type": "markdown",
   "id": "f1378807",
   "metadata": {},
   "source": [
    "### Conclusion\n",
    "- With Ra_square : Model X12 has highest number = 0.601. So, The best subset of predictorvariable which is recommended is the one that contain X1 and X2"
   ]
  },
  {
   "cell_type": "markdown",
   "id": "14adaa72",
   "metadata": {},
   "source": [
    "### C"
   ]
  },
  {
   "cell_type": "code",
   "execution_count": 50,
   "id": "9667d73a",
   "metadata": {},
   "outputs": [],
   "source": [
    "X = df.iloc[:,1:4]\n",
    "X = sm.add_constant(X)"
   ]
  },
  {
   "cell_type": "code",
   "execution_count": 51,
   "id": "b254a5d9",
   "metadata": {},
   "outputs": [
    {
     "name": "stdout",
     "output_type": "stream",
     "text": [
      "[158.49125167  -1.14161185  -0.44200426 -13.47016319]\n"
     ]
    }
   ],
   "source": [
    "X_trans = np.transpose(X)\n",
    "X_transX = X_trans.dot(X)\n",
    "X_transY = X_trans.dot(Y)\n",
    "Invert = np.linalg.pinv(X_transX)\n",
    "bb = Invert.dot(X_transY)\n",
    "Y_hat = X.dot(bb)\n",
    "J = np.ones((len(X1), len(X1)))\n",
    "b_trans = np.transpose(bb)\n",
    "resid = Y - Y_hat\n",
    "Y_trans = np.transpose(Y)\n",
    "Y_transY = Y_trans.dot(Y)\n",
    "Y_transJ = Y_trans.dot(J)\n",
    "YJY = Y_transJ.dot(Y)\n",
    "b_transXY = b_trans.dot(X_transY)\n",
    "SSTO = Y_transY - ((1/len(X1))*YJY)\n",
    "SSE = Y_transY - b_transXY\n",
    "MSE = SSE / (len(X1)-4)\n",
    "print(bb)"
   ]
  },
  {
   "cell_type": "code",
   "execution_count": 54,
   "id": "1e169c21",
   "metadata": {},
   "outputs": [
    {
     "name": "stderr",
     "output_type": "stream",
     "text": [
      "C:\\Users\\tanvu\\anaconda3\\lib\\site-packages\\statsmodels\\base\\model.py:127: ValueWarning: unknown kwargs ['data']\n",
      "  warnings.warn(msg, ValueWarning)\n"
     ]
    }
   ],
   "source": [
    "\n",
    "from statsmodels.stats.outliers_influence import OLSInfluence\n",
    "model = sm.OLS(Y, X, data = df)\n",
    "results = model.fit()\n",
    "results.summary()\n",
    "test_class = OLSInfluence(results)\n",
    "dir(test_class)\n",
    "h = test_class.hat_matrix_diag\n",
    "aa = []"
   ]
  },
  {
   "cell_type": "code",
   "execution_count": 55,
   "id": "0a0ce273",
   "metadata": {
    "scrolled": true
   },
   "outputs": [
    {
     "data": {
      "text/plain": [
       "0     0.011555\n",
       "1    -0.933179\n",
       "2     0.403625\n",
       "3     0.214666\n",
       "4     0.594417\n",
       "5    -0.381671\n",
       "6    -1.306938\n",
       "7     0.043505\n",
       "8    -0.729007\n",
       "9     0.202832\n",
       "10    1.835846\n",
       "11    1.362219\n",
       "12   -1.498367\n",
       "13   -1.558052\n",
       "14    1.357623\n",
       "15   -0.281510\n",
       "16    1.806742\n",
       "17    0.874528\n",
       "18   -1.102377\n",
       "19    0.867553\n",
       "20    0.573154\n",
       "21    0.901148\n",
       "22    0.368162\n",
       "23   -0.409310\n",
       "24   -0.476760\n",
       "25   -0.432335\n",
       "26   -1.974202\n",
       "27    0.589891\n",
       "28   -0.988725\n",
       "29    0.347340\n",
       "30   -1.769416\n",
       "31    1.219938\n",
       "32    0.061648\n",
       "33   -1.542156\n",
       "34    0.095941\n",
       "35    1.176307\n",
       "36    1.227789\n",
       "37   -0.549421\n",
       "38   -0.986985\n",
       "39   -0.589772\n",
       "40    1.118953\n",
       "41   -0.095402\n",
       "42   -1.422228\n",
       "43    1.345415\n",
       "44   -0.567127\n",
       "45    1.044921\n",
       "dtype: float64"
      ]
     },
     "execution_count": 55,
     "metadata": {},
     "output_type": "execute_result"
    }
   ],
   "source": [
    "ti = resid * (((len(X1) - 4 - 1)/(SSE*(1-h)-(resid**2)))**(1/2))\n",
    "ti"
   ]
  },
  {
   "cell_type": "code",
   "execution_count": 69,
   "id": "672dbb60",
   "metadata": {},
   "outputs": [
    {
     "data": {
      "text/plain": [
       "3.5153486707360724"
      ]
     },
     "execution_count": 69,
     "metadata": {},
     "output_type": "execute_result"
    }
   ],
   "source": [
    "# Bonferroni outlier test procedure: t(1 − α/2n; n − p − 1)\n",
    "n = len(X1)\n",
    "p = 4\n",
    "alpha = 0.05\n",
    "t = stats.t.ppf(1 - alpha/(2*n), n - p - 1)\n",
    "t\n"
   ]
  },
  {
   "cell_type": "code",
   "execution_count": 71,
   "id": "0ff70373",
   "metadata": {},
   "outputs": [
    {
     "name": "stdout",
     "output_type": "stream",
     "text": [
      "|ti| always lower than t\n"
     ]
    }
   ],
   "source": [
    "for i in range(46):\n",
    " if ti[i] > t:\n",
    "    print(b[i])\n",
    "else:\n",
    " print('|ti| always lower than t')"
   ]
  },
  {
   "cell_type": "markdown",
   "id": "36b81296",
   "metadata": {},
   "source": [
    "### THERE IS OUTLIER IN THIS CASE AS Ti always lower than t"
   ]
  },
  {
   "cell_type": "markdown",
   "id": "12ba1187",
   "metadata": {},
   "source": [
    "### D"
   ]
  },
  {
   "cell_type": "code",
   "execution_count": 59,
   "id": "52f84385",
   "metadata": {
    "scrolled": true
   },
   "outputs": [
    {
     "name": "stdout",
     "output_type": "stream",
     "text": [
      "[0.07819669444566327, 0.06706793454478491, 0.03717097449286008, 0.1536108379033404, 0.09673692469196835, 0.12857668418008095, 0.03448499938222793, 0.07524431346919982, 0.18425851338615706, 0.05797909857306274, 0.08759237323467639, 0.030874655190255344, 0.09032064425107117, 0.03323759569283374, 0.1428903222948928, 0.04713297229132751, 0.11954225591636203, 0.0624173773647996, 0.03350766536337926, 0.12892850579463183, 0.07769552730248716, 0.13690056195089323, 0.03288050497795675, 0.13575135256026258, 0.043367319937463664, 0.10294630245201468, 0.08682305129329086, 0.18601918951143726, 0.05944210499883176, 0.08998055581822445, 0.11710546466583385, 0.10963099113639307, 0.04504471384292162, 0.03717097449286008, 0.10303976954311114, 0.027232297500199502, 0.121220910858725, 0.07058922949004309, 0.1809601031131856, 0.086895984622751, 0.03797571645008457, 0.15385909185944552, 0.06101915346885889, 0.050909576788637334, 0.07261644156528402, 0.08315176733522914]\n"
     ]
    }
   ],
   "source": [
    "for i in h:\n",
    " aa.append(i)\n",
    "print(aa)"
   ]
  },
  {
   "cell_type": "code",
   "execution_count": 72,
   "id": "de2b1778",
   "metadata": {},
   "outputs": [
    {
     "name": "stdout",
     "output_type": "stream",
     "text": [
      "0.08695652173913043 0.17391304347826086\n"
     ]
    }
   ],
   "source": [
    "mean_hatval = 4/46\n",
    "cutoff = 2 * mean_hatval\n",
    "print(mean_hatval, cutoff)"
   ]
  },
  {
   "cell_type": "code",
   "execution_count": 73,
   "id": "dc8ae100",
   "metadata": {},
   "outputs": [
    {
     "name": "stdout",
     "output_type": "stream",
     "text": [
      "9\n",
      "28\n",
      "39\n"
     ]
    }
   ],
   "source": [
    "for i in range(46):\n",
    "    if aa[i] > cutoff:\n",
    "       print(b[i])\n"
   ]
  },
  {
   "cell_type": "markdown",
   "id": "3e993760",
   "metadata": {},
   "source": [
    "### E"
   ]
  },
  {
   "cell_type": "code",
   "execution_count": 75,
   "id": "88fa3da7",
   "metadata": {},
   "outputs": [
    {
     "data": {
      "text/plain": [
       "0    0.000003\n",
       "1    0.015699\n",
       "2    0.001604\n",
       "3    0.002139\n",
       "4    0.009608\n",
       "dtype: float64"
      ]
     },
     "execution_count": 75,
     "metadata": {},
     "output_type": "execute_result"
    }
   ],
   "source": [
    "# Cook's distance\n",
    "Di = ((resid**2)/(4*MSE))*(h/((1-h)**2))\n",
    "Di.head(5)"
   ]
  },
  {
   "cell_type": "code",
   "execution_count": 76,
   "id": "e63d3e70",
   "metadata": {},
   "outputs": [
    {
     "name": "stdout",
     "output_type": "stream",
     "text": [
      "17\n",
      "31\n"
     ]
    }
   ],
   "source": [
    "for i in range(46):\n",
    "    if abs(Di[i]) > mean_hatval:\n",
    "       print(b[i])"
   ]
  },
  {
   "cell_type": "code",
   "execution_count": 78,
   "id": "492a87dd",
   "metadata": {},
   "outputs": [],
   "source": [
    "dffits = ti * ((h / (1 - h))**(1/2))"
   ]
  },
  {
   "cell_type": "code",
   "execution_count": 80,
   "id": "413089b3",
   "metadata": {},
   "outputs": [
    {
     "name": "stdout",
     "output_type": "stream",
     "text": [
      "17\n",
      "27\n",
      "31\n"
     ]
    }
   ],
   "source": [
    "cutoff1 = 2 * np.sqrt(mean_hatval)\n",
    "for i in range(46):\n",
    "    if abs(dffits[i]) > cutoff1:\n",
    "       print(b[i])"
   ]
  },
  {
   "cell_type": "code",
   "execution_count": null,
   "id": "36529eab",
   "metadata": {},
   "outputs": [],
   "source": []
  }
 ],
 "metadata": {
  "kernelspec": {
   "display_name": "Python 3 (ipykernel)",
   "language": "python",
   "name": "python3"
  },
  "language_info": {
   "codemirror_mode": {
    "name": "ipython",
    "version": 3
   },
   "file_extension": ".py",
   "mimetype": "text/x-python",
   "name": "python",
   "nbconvert_exporter": "python",
   "pygments_lexer": "ipython3",
   "version": "3.9.12"
  }
 },
 "nbformat": 4,
 "nbformat_minor": 5
}
