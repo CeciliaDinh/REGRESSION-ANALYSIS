{
 "cells": [
  {
   "cell_type": "code",
   "execution_count": 1,
   "id": "9e1a7fa2",
   "metadata": {},
   "outputs": [],
   "source": [
    "import matplotlib.pyplot as plt\n",
    "import numpy as np\n",
    "import pandas as pd\n",
    "import statsmodels.api as sm\n",
    "import seaborn as sns"
   ]
  },
  {
   "cell_type": "code",
   "execution_count": 19,
   "id": "afb6f1d2",
   "metadata": {},
   "outputs": [
    {
     "data": {
      "text/html": [
       "<div>\n",
       "<style scoped>\n",
       "    .dataframe tbody tr th:only-of-type {\n",
       "        vertical-align: middle;\n",
       "    }\n",
       "\n",
       "    .dataframe tbody tr th {\n",
       "        vertical-align: top;\n",
       "    }\n",
       "\n",
       "    .dataframe thead th {\n",
       "        text-align: right;\n",
       "    }\n",
       "</style>\n",
       "<table border=\"1\" class=\"dataframe\">\n",
       "  <thead>\n",
       "    <tr style=\"text-align: right;\">\n",
       "      <th></th>\n",
       "      <th>Y</th>\n",
       "      <th>X1</th>\n",
       "      <th>X2</th>\n",
       "      <th>X3</th>\n",
       "    </tr>\n",
       "  </thead>\n",
       "  <tbody>\n",
       "    <tr>\n",
       "      <th>0</th>\n",
       "      <td>0</td>\n",
       "      <td>59</td>\n",
       "      <td>52</td>\n",
       "      <td>0</td>\n",
       "    </tr>\n",
       "    <tr>\n",
       "      <th>1</th>\n",
       "      <td>0</td>\n",
       "      <td>61</td>\n",
       "      <td>55</td>\n",
       "      <td>1</td>\n",
       "    </tr>\n",
       "    <tr>\n",
       "      <th>2</th>\n",
       "      <td>1</td>\n",
       "      <td>82</td>\n",
       "      <td>51</td>\n",
       "      <td>0</td>\n",
       "    </tr>\n",
       "    <tr>\n",
       "      <th>3</th>\n",
       "      <td>0</td>\n",
       "      <td>51</td>\n",
       "      <td>70</td>\n",
       "      <td>0</td>\n",
       "    </tr>\n",
       "    <tr>\n",
       "      <th>4</th>\n",
       "      <td>0</td>\n",
       "      <td>53</td>\n",
       "      <td>70</td>\n",
       "      <td>0</td>\n",
       "    </tr>\n",
       "  </tbody>\n",
       "</table>\n",
       "</div>"
      ],
      "text/plain": [
       "   Y  X1  X2  X3\n",
       "0  0  59  52   0\n",
       "1  0  61  55   1\n",
       "2  1  82  51   0\n",
       "3  0  51  70   0\n",
       "4  0  53  70   0"
      ]
     },
     "execution_count": 19,
     "metadata": {},
     "output_type": "execute_result"
    }
   ],
   "source": [
    "df = pd.read_csv(\"CH14PR14.txt\", sep='\\s+', header=None, names=[ 'Y', 'X1', 'X2', 'X3'])\n",
    "df.head()"
   ]
  },
  {
   "cell_type": "code",
   "execution_count": 20,
   "id": "d66c7374",
   "metadata": {},
   "outputs": [],
   "source": [
    "X1= df['X1']\n",
    "X2= df['X2']\n",
    "X3= df['X3']\n",
    "Y=df['Y']"
   ]
  },
  {
   "cell_type": "markdown",
   "id": "f6d1d34b",
   "metadata": {},
   "source": [
    "### a. Find the maximum likelihood estimates of β0, β1, β2, and β3. State the fitted responsefunction."
   ]
  },
  {
   "cell_type": "code",
   "execution_count": 21,
   "id": "9c6aa3f5",
   "metadata": {},
   "outputs": [
    {
     "name": "stdout",
     "output_type": "stream",
     "text": [
      "   const  X1  X2  X3\n",
      "0    1.0  59  52   0\n",
      "1    1.0  61  55   1\n",
      "2    1.0  82  51   0\n",
      "3    1.0  51  70   0\n",
      "4    1.0  53  70   0\n",
      "                 Generalized Linear Model Regression Results                  \n",
      "==============================================================================\n",
      "Dep. Variable:                      Y   No. Observations:                  159\n",
      "Model:                            GLM   Df Residuals:                      155\n",
      "Model Family:                Binomial   Df Model:                            3\n",
      "Link Function:                  Logit   Scale:                          1.0000\n",
      "Method:                          IRLS   Log-Likelihood:                -52.547\n",
      "Date:                Sat, 10 Dec 2022   Deviance:                       105.09\n",
      "Time:                        16:23:13   Pearson chi2:                     180.\n",
      "No. Iterations:                     6   Pseudo R-squ. (CS):             0.1712\n",
      "Covariance Type:            nonrobust                                         \n",
      "==============================================================================\n",
      "                 coef    std err          z      P>|z|      [0.025      0.975]\n",
      "------------------------------------------------------------------------------\n",
      "const         -1.1772      2.982     -0.395      0.693      -7.023       4.668\n",
      "X1             0.0728      0.030      2.396      0.017       0.013       0.132\n",
      "X2            -0.0990      0.033     -2.957      0.003      -0.165      -0.033\n",
      "X3             0.4340      0.522      0.832      0.406      -0.589       1.457\n",
      "==============================================================================\n"
     ]
    }
   ],
   "source": [
    "import statsmodels.api as sm\n",
    "\n",
    "X = sm.add_constant(df[['X1', 'X2', 'X3']])\n",
    "print(X.head())\n",
    "Y = df['Y']\n",
    "\n",
    "logit_model = sm.GLM(Y, X, family=sm.families.Binomial())\n",
    "logit_results = logit_model.fit()\n",
    "print(logit_results.summary())"
   ]
  },
  {
   "cell_type": "code",
   "execution_count": 22,
   "id": "7c02831b",
   "metadata": {},
   "outputs": [
    {
     "data": {
      "text/plain": [
       "const   -1.177159\n",
       "X1       0.072788\n",
       "X2      -0.098986\n",
       "X3       0.433975\n",
       "dtype: float64"
      ]
     },
     "execution_count": 22,
     "metadata": {},
     "output_type": "execute_result"
    }
   ],
   "source": [
    "logit_results.params"
   ]
  },
  {
   "cell_type": "markdown",
   "id": "a3a4e91b",
   "metadata": {},
   "source": [
    "### Yi= -1.177159  +0.072788X1 + -0.098986X2 + 0.433975X3\n"
   ]
  },
  {
   "cell_type": "markdown",
   "id": "a0408212",
   "metadata": {},
   "source": [
    "### b. Obtain exp(b1), exp(b2), and exp(b3). Interpret these numbers."
   ]
  },
  {
   "cell_type": "code",
   "execution_count": 23,
   "id": "06e83c3d",
   "metadata": {},
   "outputs": [],
   "source": [
    "b1=  0.072788\n",
    "b2=  -0.098986\n",
    "b3= 0.433975\n",
    "betas=[b1,b2,b3]\n",
    "ORs=[]"
   ]
  },
  {
   "cell_type": "code",
   "execution_count": 24,
   "id": "bd03d268",
   "metadata": {},
   "outputs": [
    {
     "name": "stdout",
     "output_type": "stream",
     "text": [
      "[1.075502506212986, 0.905755388510224, 1.5433802831270984]\n"
     ]
    }
   ],
   "source": [
    "for b in betas: \n",
    "    OR= np.exp(b)\n",
    "    ORs.append(OR)\n",
    "print(ORs)"
   ]
  },
  {
   "cell_type": "markdown",
   "id": "5853904c",
   "metadata": {},
   "source": [
    "### Conclusion: \n",
    "- The odds of receiving flu shot will increase by 1.35 times if the age of patien increases (X1) increases, as the exp(b1) = 1.075502506212986> 1\n",
    "- The odds of recieving flu shot  will be less likely to happen by 0.905 times if the health awaréness (X2) increases, as the exp(b2)=  0.90575<1\n",
    "- The odds of recieving flu shot will increase by 1.54 times if X3 increases, as the exp(b3)= 1.543>1"
   ]
  },
  {
   "cell_type": "markdown",
   "id": "4f33ef74",
   "metadata": {},
   "source": [
    "### c. What is the estimated probability that male clients aged 55 with a health awarenessindex of 60 will receive a flu shot?"
   ]
  },
  {
   "cell_type": "code",
   "execution_count": 27,
   "id": "11955395",
   "metadata": {},
   "outputs": [
    {
     "name": "stdout",
     "output_type": "stream",
     "text": [
      "0.06422370905902704\n"
     ]
    }
   ],
   "source": [
    "# a= -1.177159 +0.072788X1 + -0.098986X2 + 0.433975X3\n",
    "# => X3=1, aged 55=>X1=55, X2= 60\n",
    "#calculate the probability corresponding to X\n",
    "def logistic(a):\n",
    "  return (np.exp(a) / (1 + np.exp(a)))\n",
    "\n",
    "a= -1.177159 +0.072788*55 + -0.098986*60 + 0.433975*1 \n",
    "pi = logistic(a)\n",
    "print(pi)"
   ]
  },
  {
   "cell_type": "markdown",
   "id": "58a10354",
   "metadata": {},
   "source": [
    "### The estimated probability that male clients age 55 with a health awareness index of 60 will recieve a flu shot= 0.06422370905902704"
   ]
  },
  {
   "cell_type": "markdown",
   "id": "d9c0fb1c",
   "metadata": {},
   "source": [
    "### d. Use the Wald test to determine whether X3, client gender, can be dropped from theregression model; use α = .05. State the alternatives, decision rule, and conclusion. Whatis the approximate P-value of the test?"
   ]
  },
  {
   "cell_type": "code",
   "execution_count": 31,
   "id": "ff7a08b7",
   "metadata": {},
   "outputs": [
    {
     "data": {
      "text/html": [
       "<table class=\"simpletable\">\n",
       "<caption>Generalized Linear Model Regression Results</caption>\n",
       "<tr>\n",
       "  <th>Dep. Variable:</th>           <td>Y</td>        <th>  No. Observations:  </th>  <td>   159</td> \n",
       "</tr>\n",
       "<tr>\n",
       "  <th>Model:</th>                  <td>GLM</td>       <th>  Df Residuals:      </th>  <td>   155</td> \n",
       "</tr>\n",
       "<tr>\n",
       "  <th>Model Family:</th>        <td>Binomial</td>     <th>  Df Model:          </th>  <td>     3</td> \n",
       "</tr>\n",
       "<tr>\n",
       "  <th>Link Function:</th>         <td>Logit</td>      <th>  Scale:             </th> <td>  1.0000</td>\n",
       "</tr>\n",
       "<tr>\n",
       "  <th>Method:</th>                <td>IRLS</td>       <th>  Log-Likelihood:    </th> <td> -52.547</td>\n",
       "</tr>\n",
       "<tr>\n",
       "  <th>Date:</th>            <td>Sat, 10 Dec 2022</td> <th>  Deviance:          </th> <td>  105.09</td>\n",
       "</tr>\n",
       "<tr>\n",
       "  <th>Time:</th>                <td>16:41:28</td>     <th>  Pearson chi2:      </th>  <td>  180.</td> \n",
       "</tr>\n",
       "<tr>\n",
       "  <th>No. Iterations:</th>          <td>6</td>        <th>  Pseudo R-squ. (CS):</th>  <td>0.1712</td> \n",
       "</tr>\n",
       "<tr>\n",
       "  <th>Covariance Type:</th>     <td>nonrobust</td>    <th>                     </th>     <td> </td>   \n",
       "</tr>\n",
       "</table>\n",
       "<table class=\"simpletable\">\n",
       "<tr>\n",
       "    <td></td>       <th>coef</th>     <th>std err</th>      <th>z</th>      <th>P>|z|</th>  <th>[0.025</th>    <th>0.975]</th>  \n",
       "</tr>\n",
       "<tr>\n",
       "  <th>const</th> <td>   -1.1772</td> <td>    2.982</td> <td>   -0.395</td> <td> 0.693</td> <td>   -7.023</td> <td>    4.668</td>\n",
       "</tr>\n",
       "<tr>\n",
       "  <th>X1</th>    <td>    0.0728</td> <td>    0.030</td> <td>    2.396</td> <td> 0.017</td> <td>    0.013</td> <td>    0.132</td>\n",
       "</tr>\n",
       "<tr>\n",
       "  <th>X2</th>    <td>   -0.0990</td> <td>    0.033</td> <td>   -2.957</td> <td> 0.003</td> <td>   -0.165</td> <td>   -0.033</td>\n",
       "</tr>\n",
       "<tr>\n",
       "  <th>X3</th>    <td>    0.4340</td> <td>    0.522</td> <td>    0.832</td> <td> 0.406</td> <td>   -0.589</td> <td>    1.457</td>\n",
       "</tr>\n",
       "</table>"
      ],
      "text/plain": [
       "<class 'statsmodels.iolib.summary.Summary'>\n",
       "\"\"\"\n",
       "                 Generalized Linear Model Regression Results                  \n",
       "==============================================================================\n",
       "Dep. Variable:                      Y   No. Observations:                  159\n",
       "Model:                            GLM   Df Residuals:                      155\n",
       "Model Family:                Binomial   Df Model:                            3\n",
       "Link Function:                  Logit   Scale:                          1.0000\n",
       "Method:                          IRLS   Log-Likelihood:                -52.547\n",
       "Date:                Sat, 10 Dec 2022   Deviance:                       105.09\n",
       "Time:                        16:41:28   Pearson chi2:                     180.\n",
       "No. Iterations:                     6   Pseudo R-squ. (CS):             0.1712\n",
       "Covariance Type:            nonrobust                                         \n",
       "==============================================================================\n",
       "                 coef    std err          z      P>|z|      [0.025      0.975]\n",
       "------------------------------------------------------------------------------\n",
       "const         -1.1772      2.982     -0.395      0.693      -7.023       4.668\n",
       "X1             0.0728      0.030      2.396      0.017       0.013       0.132\n",
       "X2            -0.0990      0.033     -2.957      0.003      -0.165      -0.033\n",
       "X3             0.4340      0.522      0.832      0.406      -0.589       1.457\n",
       "==============================================================================\n",
       "\"\"\""
      ]
     },
     "execution_count": 31,
     "metadata": {},
     "output_type": "execute_result"
    }
   ],
   "source": [
    "logit_results.summary()"
   ]
  },
  {
   "cell_type": "code",
   "execution_count": null,
   "id": "4e414195",
   "metadata": {},
   "outputs": [],
   "source": [
    "Z3=0.832"
   ]
  },
  {
   "cell_type": "code",
   "execution_count": 35,
   "id": "cab05fbc",
   "metadata": {},
   "outputs": [
    {
     "name": "stdout",
     "output_type": "stream",
     "text": [
      "1.959963984540054\n"
     ]
    }
   ],
   "source": [
    "import statsmodels.formula.api as smf\n",
    "import scipy.stats as stats\n",
    "z_val= stats.norm.ppf(1-(0.05/2))\n",
    "print(z_val)"
   ]
  },
  {
   "cell_type": "markdown",
   "id": "e40becb2",
   "metadata": {},
   "source": [
    "### Conclusion: As Z3=0.832< Z_val=1.95, we can conclude null hypothesis H0, and claim that X3 can be excluded from the dataset. Besides that, p-value= 0.406 < alpha=0.05 => X3 can be dropped from the dataset"
   ]
  },
  {
   "cell_type": "code",
   "execution_count": null,
   "id": "d47bc4e1",
   "metadata": {},
   "outputs": [],
   "source": []
  }
 ],
 "metadata": {
  "kernelspec": {
   "display_name": "Python 3 (ipykernel)",
   "language": "python",
   "name": "python3"
  },
  "language_info": {
   "codemirror_mode": {
    "name": "ipython",
    "version": 3
   },
   "file_extension": ".py",
   "mimetype": "text/x-python",
   "name": "python",
   "nbconvert_exporter": "python",
   "pygments_lexer": "ipython3",
   "version": "3.9.12"
  }
 },
 "nbformat": 4,
 "nbformat_minor": 5
}
