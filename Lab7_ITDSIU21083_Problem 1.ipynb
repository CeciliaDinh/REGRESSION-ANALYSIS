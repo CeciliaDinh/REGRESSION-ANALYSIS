{
 "cells": [
  {
   "cell_type": "code",
   "execution_count": 2,
   "id": "e0368ae1",
   "metadata": {},
   "outputs": [],
   "source": [
    "import numpy as np\n",
    "import pandas as pd\n",
    "import seaborn as sns\n",
    "import matplotlib.pyplot as plt\n",
    "import scipy.stats as stats\n",
    "import statsmodels.api as sm\n",
    "import statsmodels.formula.api as smf\n",
    "from statsmodels.formula.api import ols\n",
    "import math\n",
    "from sklearn.linear_model import LogisticRegression\n",
    "from sklearn.metrics import classification_report, confusion_matrix"
   ]
  },
  {
   "cell_type": "code",
   "execution_count": 3,
   "id": "27d07139",
   "metadata": {},
   "outputs": [
    {
     "name": "stdout",
     "output_type": "stream",
     "text": [
      "     Xj     Nj     Yj\n",
      "0   2.0  500.0   72.0\n",
      "1   5.0  500.0  103.0\n",
      "2  10.0  500.0  170.0\n",
      "3  20.0  500.0  296.0\n",
      "4  25.0  500.0  406.0\n",
      "5  30.0  500.0  449.0\n"
     ]
    }
   ],
   "source": [
    "df = pd.read_csv(\"CH14PR1_bottlereturn1.txt\", sep='\\s+', header=None,names=['Xj','Nj','Yj'])\n",
    "print(df)"
   ]
  },
  {
   "cell_type": "markdown",
   "id": "41dafb6a",
   "metadata": {},
   "source": [
    "### a. Plot the estimated proportions 𝑝𝑗 = 𝑌𝑗/𝑛𝑗 against 𝑋𝑗. Does the plot support theanalyst’s belief that the logistic response function is appropriate?"
   ]
  },
  {
   "cell_type": "code",
   "execution_count": 4,
   "id": "45d02987",
   "metadata": {},
   "outputs": [],
   "source": [
    "Xj = df['Xj']\n",
    "Nj = df['Nj']\n",
    "Yj = df['Yj']\n",
    "pj=[] #an empty list to hold values of Pj"
   ]
  },
  {
   "cell_type": "code",
   "execution_count": 5,
   "id": "5c0be696",
   "metadata": {},
   "outputs": [
    {
     "name": "stderr",
     "output_type": "stream",
     "text": [
      "C:\\Users\\tanvu\\anaconda3\\lib\\site-packages\\seaborn\\_decorators.py:36: FutureWarning: Pass the following variables as keyword args: x, y. From version 0.12, the only valid positional argument will be `data`, and passing other arguments without an explicit keyword will result in an error or misinterpretation.\n",
      "  warnings.warn(\n"
     ]
    },
    {
     "data": {
      "image/png": "[encoded data removed]",
      "text/plain": [
       "<Figure size 432x288 with 1 Axes>"
      ]
     },
     "metadata": {
      "needs_background": "light"
     },
     "output_type": "display_data"
    }
   ],
   "source": [
    "def logistic(x):\n",
    "  return (1 / (1 + np.exp(-1 - 0.2*x)))\n",
    "\n",
    "x = np.arange(start=-40, stop=40, step=0.1)\n",
    "sns.lineplot(x, logistic(x))\n",
    "plt.show()"
   ]
  },
  {
   "cell_type": "code",
   "execution_count": 6,
   "id": "d9b0c4af",
   "metadata": {},
   "outputs": [
    {
     "name": "stdout",
     "output_type": "stream",
     "text": [
      "[0    0.144\n",
      "1    0.206\n",
      "2    0.340\n",
      "3    0.592\n",
      "4    0.812\n",
      "5    0.898\n",
      "dtype: float64, 0    0.144\n",
      "1    0.206\n",
      "2    0.340\n",
      "3    0.592\n",
      "4    0.812\n",
      "5    0.898\n",
      "dtype: float64, 0    0.144\n",
      "1    0.206\n",
      "2    0.340\n",
      "3    0.592\n",
      "4    0.812\n",
      "5    0.898\n",
      "dtype: float64, 0    0.144\n",
      "1    0.206\n",
      "2    0.340\n",
      "3    0.592\n",
      "4    0.812\n",
      "5    0.898\n",
      "dtype: float64, 0    0.144\n",
      "1    0.206\n",
      "2    0.340\n",
      "3    0.592\n",
      "4    0.812\n",
      "5    0.898\n",
      "dtype: float64, 0    0.144\n",
      "1    0.206\n",
      "2    0.340\n",
      "3    0.592\n",
      "4    0.812\n",
      "5    0.898\n",
      "dtype: float64]\n"
     ]
    }
   ],
   "source": [
    "#estimate proportions pj\n",
    "Pj=Yj/Nj\n",
    "for i in Pj:\n",
    "    pj.append(Pj)\n",
    "print(pj)\n",
    "    "
   ]
  },
  {
   "cell_type": "code",
   "execution_count": 7,
   "id": "f6048d27",
   "metadata": {},
   "outputs": [
    {
     "data": {
      "text/plain": [
       "<AxesSubplot:xlabel='Xj'>"
      ]
     },
     "execution_count": 7,
     "metadata": {},
     "output_type": "execute_result"
    },
    {
     "data": {
      "image/png": "[encoded data removed]",
      "text/plain": [
       "<Figure size 432x288 with 1 Axes>"
      ]
     },
     "metadata": {
      "needs_background": "light"
     },
     "output_type": "display_data"
    }
   ],
   "source": [
    "sns.regplot(x= Xj, y=Pj,data=df, logistic= True)"
   ]
  },
  {
   "cell_type": "markdown",
   "id": "ca68a34c",
   "metadata": {},
   "source": [
    "### b. Find the maximum likelihood estimates of 𝛽0 and 𝛽1. State the fitted responsefunction"
   ]
  },
  {
   "cell_type": "code",
   "execution_count": 8,
   "id": "c317a742",
   "metadata": {
    "scrolled": true
   },
   "outputs": [
    {
     "name": "stdout",
     "output_type": "stream",
     "text": [
      "   const    Xj\n",
      "0    1.0   2.0\n",
      "1    1.0   5.0\n",
      "2    1.0  10.0\n",
      "3    1.0  20.0\n",
      "4    1.0  25.0\n",
      "                 Generalized Linear Model Regression Results                  \n",
      "==============================================================================\n",
      "Dep. Variable:                      y   No. Observations:                    6\n",
      "Model:                            GLM   Df Residuals:                        4\n",
      "Model Family:                Binomial   Df Model:                            1\n",
      "Link Function:                  Logit   Scale:                          1.0000\n",
      "Method:                          IRLS   Log-Likelihood:                -2.0908\n",
      "Date:                Sat, 10 Dec 2022   Deviance:                     0.024363\n",
      "Time:                        22:24:53   Pearson chi2:                   0.0246\n",
      "No. Iterations:                     4   Pseudo R-squ. (CS):             0.3060\n",
      "Covariance Type:            nonrobust                                         \n",
      "==============================================================================\n",
      "                 coef    std err          z      P>|z|      [0.025      0.975]\n",
      "------------------------------------------------------------------------------\n",
      "const         -2.0766      1.897     -1.095      0.274      -5.795       1.642\n",
      "Xj             0.1359      0.107      1.273      0.203      -0.073       0.345\n",
      "==============================================================================\n"
     ]
    }
   ],
   "source": [
    "import statsmodels.api as sm\n",
    "X = sm.add_constant(df['Xj'])\n",
    "print(X.head())\n",
    "logit_model = sm.GLM(Pj, X, family=sm.families.Binomial())\n",
    "logit_results = logit_model.fit()\n",
    "print(logit_results.summary())"
   ]
  },
  {
   "cell_type": "code",
   "execution_count": 9,
   "id": "e572bb24",
   "metadata": {},
   "outputs": [
    {
     "data": {
      "text/plain": [
       "const   -2.076565\n",
       "Xj       0.135851\n",
       "dtype: float64"
      ]
     },
     "execution_count": 9,
     "metadata": {},
     "output_type": "execute_result"
    }
   ],
   "source": [
    "logit_results.params"
   ]
  },
  {
   "cell_type": "markdown",
   "id": "58d94606",
   "metadata": {},
   "source": [
    "a =  -2.0766 + 0.1359 X1  \n",
    "\n",
    "Logistic regression model is: $\\pi = \\frac{exp(a)}{1 + exp(a)}$ "
   ]
  },
  {
   "cell_type": "markdown",
   "id": "5d64973e",
   "metadata": {},
   "source": [
    "### c. Obtain a scatter plot of the data with the estimated proportions from part (a), and superimpose the fitted logistic response function from part (b). Does the fitted logisticresponse function appear to fit well?"
   ]
  },
  {
   "cell_type": "code",
   "execution_count": 27,
   "id": "d8112dc5",
   "metadata": {},
   "outputs": [
    {
     "name": "stderr",
     "output_type": "stream",
     "text": [
      "C:\\Users\\tanvu\\anaconda3\\lib\\site-packages\\seaborn\\_decorators.py:36: FutureWarning: Pass the following variables as keyword args: x, y. From version 0.12, the only valid positional argument will be `data`, and passing other arguments without an explicit keyword will result in an error or misinterpretation.\n",
      "  warnings.warn(\n",
      "C:\\Users\\tanvu\\anaconda3\\lib\\site-packages\\seaborn\\_decorators.py:36: FutureWarning: Pass the following variables as keyword args: x, y. From version 0.12, the only valid positional argument will be `data`, and passing other arguments without an explicit keyword will result in an error or misinterpretation.\n",
      "  warnings.warn(\n"
     ]
    },
    {
     "data": {
      "text/plain": [
       "<AxesSubplot:xlabel='Xj', ylabel='Xj'>"
      ]
     },
     "execution_count": 27,
     "metadata": {},
     "output_type": "execute_result"
    },
    {
     "data": {
      "image/png": "[encoded data removed]",
      "text/plain": [
       "<Figure size 432x288 with 1 Axes>"
      ]
     },
     "metadata": {
      "needs_background": "light"
     },
     "output_type": "display_data"
    }
   ],
   "source": [
    "a = -2.0766 + 0.1359*Xj\n",
    "sns.scatterplot(Xj, Pj)\n",
    "sns.lineplot(Xj, a)"
   ]
  },
  {
   "cell_type": "markdown",
   "id": "7ee32d53",
   "metadata": {},
   "source": [
    "### d. Obtain 𝑒𝑥𝑝(𝑏1) and interpret this number"
   ]
  },
  {
   "cell_type": "code",
   "execution_count": 10,
   "id": "211f7bac",
   "metadata": {},
   "outputs": [],
   "source": [
    "beta0 = logit_results.params[0]\n",
    "beta1 = logit_results.params[1]"
   ]
  },
  {
   "cell_type": "code",
   "execution_count": 11,
   "id": "382748b3",
   "metadata": {},
   "outputs": [
    {
     "name": "stdout",
     "output_type": "stream",
     "text": [
      "1.1455109481658934\n"
     ]
    }
   ],
   "source": [
    "# odd ratio\n",
    "OR = np.exp(beta1)\n",
    "print(OR)"
   ]
  },
  {
   "cell_type": "markdown",
   "id": "27c90082",
   "metadata": {},
   "source": [
    "### As exp(b1) =1.14 >1, so for every time the deposit level increases (X1), the number of bottles returned by 1.145 times"
   ]
  },
  {
   "cell_type": "markdown",
   "id": "9b9d5dc0",
   "metadata": {},
   "source": [
    "### e. What is the estimated probability that a bottle will be returned when the deposit is 15cents?\n"
   ]
  },
  {
   "cell_type": "code",
   "execution_count": 12,
   "id": "cae0bd2e",
   "metadata": {},
   "outputs": [
    {
     "name": "stdout",
     "output_type": "stream",
     "text": [
      "0.4904761520482053\n"
     ]
    }
   ],
   "source": [
    "#  calculate the probability corresponding to X\n",
    "def logistic(a):\n",
    "  return (np.exp(a) / (1 + np.exp(a)))\n",
    "\n",
    "beta0 = logit_results.params[0]\n",
    "beta1 = logit_results.params[1]\n",
    "a =  -2.0766 + 0.1359*15 \n",
    "pi = logistic(a)\n",
    "\n",
    "print(pi)"
   ]
  },
  {
   "cell_type": "markdown",
   "id": "fa5c76c3",
   "metadata": {},
   "source": [
    "### The estimated probability that a bottle will be returned when the deposit is 15 cents= 0.4904761520482053"
   ]
  },
  {
   "cell_type": "markdown",
   "id": "d1d86e48",
   "metadata": {},
   "source": [
    "### f. Estimate the amount of deposit for which 75 cents of the bottles are expected to bereturned."
   ]
  },
  {
   "cell_type": "code",
   "execution_count": 14,
   "id": "eb8504b0",
   "metadata": {},
   "outputs": [
    {
     "data": {
      "text/plain": [
       "1.0986122886681098"
      ]
     },
     "execution_count": 14,
     "metadata": {},
     "output_type": "execute_result"
    }
   ],
   "source": [
    "b=np.log(3)\n",
    "b"
   ]
  },
  {
   "cell_type": "code",
   "execution_count": 15,
   "id": "b08574b8",
   "metadata": {},
   "outputs": [],
   "source": [
    "beta0 = logit_results.params[0]\n",
    "beta1 = logit_results.params[1]"
   ]
  },
  {
   "cell_type": "code",
   "execution_count": 17,
   "id": "8d8c4158",
   "metadata": {},
   "outputs": [
    {
     "data": {
      "text/plain": [
       "23.372533976602604"
      ]
     },
     "execution_count": 17,
     "metadata": {},
     "output_type": "execute_result"
    }
   ],
   "source": [
    "de=(b-beta0)/beta1\n",
    "de"
   ]
  },
  {
   "cell_type": "markdown",
   "id": "8c95aa91",
   "metadata": {},
   "source": [
    "### For 75 cents of the bottles to be returned, the amount of deposits must be 23.372"
   ]
  },
  {
   "cell_type": "code",
   "execution_count": null,
   "id": "cca4a06e",
   "metadata": {},
   "outputs": [],
   "source": []
  }
 ],
 "metadata": {
  "kernelspec": {
   "display_name": "Python 3 (ipykernel)",
   "language": "python",
   "name": "python3"
  },
  "language_info": {
   "codemirror_mode": {
    "name": "ipython",
    "version": 3
   },
   "file_extension": ".py",
   "mimetype": "text/x-python",
   "name": "python",
   "nbconvert_exporter": "python",
   "pygments_lexer": "ipython3",
   "version": "3.9.12"
  }
 },
 "nbformat": 4,
 "nbformat_minor": 5
}
