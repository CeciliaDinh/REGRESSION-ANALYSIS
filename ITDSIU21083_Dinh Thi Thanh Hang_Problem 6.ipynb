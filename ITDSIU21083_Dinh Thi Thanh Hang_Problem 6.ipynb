{
 "cells": [
  {
   "cell_type": "code",
   "execution_count": 1,
   "id": "d1265be5",
   "metadata": {},
   "outputs": [],
   "source": [
    "import numpy as np\n",
    "import pandas as pd\n",
    "import seaborn as sns\n",
    "import matplotlib.pyplot as plt\n",
    "import scipy.stats as stats\n",
    "import statsmodels.api as sm\n",
    "import statsmodels.formula.api as smf\n",
    "from statsmodels.formula.api import ols\n",
    "import math\n",
    "import statsmodels.api as sm\n",
    "import statsmodels.formula.api as smf\n",
    "from statsmodels.formula.api import ols"
   ]
  },
  {
   "cell_type": "code",
   "execution_count": 3,
   "id": "e421a6ce",
   "metadata": {},
   "outputs": [
    {
     "data": {
      "text/html": [
       "<div>\n",
       "<style scoped>\n",
       "    .dataframe tbody tr th:only-of-type {\n",
       "        vertical-align: middle;\n",
       "    }\n",
       "\n",
       "    .dataframe tbody tr th {\n",
       "        vertical-align: top;\n",
       "    }\n",
       "\n",
       "    .dataframe thead th {\n",
       "        text-align: right;\n",
       "    }\n",
       "</style>\n",
       "<table border=\"1\" class=\"dataframe\">\n",
       "  <thead>\n",
       "    <tr style=\"text-align: right;\">\n",
       "      <th></th>\n",
       "      <th>Y</th>\n",
       "      <th>X1</th>\n",
       "      <th>X2</th>\n",
       "    </tr>\n",
       "  </thead>\n",
       "  <tbody>\n",
       "    <tr>\n",
       "      <th>0</th>\n",
       "      <td>0.0</td>\n",
       "      <td>32.0</td>\n",
       "      <td>3.0</td>\n",
       "    </tr>\n",
       "    <tr>\n",
       "      <th>1</th>\n",
       "      <td>0.0</td>\n",
       "      <td>45.0</td>\n",
       "      <td>2.0</td>\n",
       "    </tr>\n",
       "    <tr>\n",
       "      <th>2</th>\n",
       "      <td>1.0</td>\n",
       "      <td>60.0</td>\n",
       "      <td>2.0</td>\n",
       "    </tr>\n",
       "    <tr>\n",
       "      <th>3</th>\n",
       "      <td>0.0</td>\n",
       "      <td>53.0</td>\n",
       "      <td>1.0</td>\n",
       "    </tr>\n",
       "    <tr>\n",
       "      <th>4</th>\n",
       "      <td>0.0</td>\n",
       "      <td>25.0</td>\n",
       "      <td>4.0</td>\n",
       "    </tr>\n",
       "  </tbody>\n",
       "</table>\n",
       "</div>"
      ],
      "text/plain": [
       "     Y    X1   X2\n",
       "0  0.0  32.0  3.0\n",
       "1  0.0  45.0  2.0\n",
       "2  1.0  60.0  2.0\n",
       "3  0.0  53.0  1.0\n",
       "4  0.0  25.0  4.0"
      ]
     },
     "execution_count": 3,
     "metadata": {},
     "output_type": "execute_result"
    }
   ],
   "source": [
    "df = pd.read_csv('problem6.txt',sep= '\\s+',header=None) # read the data set\n",
    "df.columns = (['Y','X1','X2'])\n",
    "df.head() "
   ]
  },
  {
   "cell_type": "code",
   "execution_count": 4,
   "id": "6dbcf176",
   "metadata": {},
   "outputs": [],
   "source": [
    "X1 = df['X1']\n",
    "X2 = df['X2']\n",
    "Y = df['Y']\n",
    "n=len(X1)"
   ]
  },
  {
   "cell_type": "markdown",
   "id": "694c2035",
   "metadata": {},
   "source": [
    "### a. Find the maximum likelihood estimates of β0, β1, β2,. State the fitted responsefunction."
   ]
  },
  {
   "cell_type": "code",
   "execution_count": 5,
   "id": "81aa4de3",
   "metadata": {},
   "outputs": [
    {
     "name": "stdout",
     "output_type": "stream",
     "text": [
      "   const    X1   X2\n",
      "0    1.0  32.0  3.0\n",
      "1    1.0  45.0  2.0\n",
      "2    1.0  60.0  2.0\n",
      "3    1.0  53.0  1.0\n",
      "4    1.0  25.0  4.0\n",
      "                 Generalized Linear Model Regression Results                  \n",
      "==============================================================================\n",
      "Dep. Variable:                      Y   No. Observations:                   33\n",
      "Model:                            GLM   Df Residuals:                       30\n",
      "Model Family:                Binomial   Df Model:                            2\n",
      "Link Function:                  Logit   Scale:                          1.0000\n",
      "Method:                          IRLS   Log-Likelihood:                -18.345\n",
      "Date:                Wed, 11 Jan 2023   Deviance:                       36.690\n",
      "Time:                        14:43:03   Pearson chi2:                     33.6\n",
      "No. Iterations:                     4   Pseudo R-squ. (CS):             0.2223\n",
      "Covariance Type:            nonrobust                                         \n",
      "==============================================================================\n",
      "                 coef    std err          z      P>|z|      [0.025      0.975]\n",
      "------------------------------------------------------------------------------\n",
      "const         -4.7393      2.102     -2.255      0.024      -8.859      -0.620\n",
      "X1             0.0677      0.028      2.414      0.016       0.013       0.123\n",
      "X2             0.5986      0.390      1.535      0.125      -0.166       1.363\n",
      "==============================================================================\n"
     ]
    }
   ],
   "source": [
    "import statsmodels.api as sm\n",
    "\n",
    "X = sm.add_constant(df[['X1', 'X2']])\n",
    "print(X.head())\n",
    "Y = df['Y']\n",
    "\n",
    "logit_model = sm.GLM(Y, X, family=sm.families.Binomial())\n",
    "logit_results = logit_model.fit()\n",
    "print(logit_results.summary())"
   ]
  },
  {
   "cell_type": "code",
   "execution_count": 6,
   "id": "436c21f8",
   "metadata": {},
   "outputs": [
    {
     "data": {
      "text/plain": [
       "const   -4.739309\n",
       "X1       0.067733\n",
       "X2       0.598632\n",
       "dtype: float64"
      ]
     },
     "execution_count": 6,
     "metadata": {},
     "output_type": "execute_result"
    }
   ],
   "source": [
    "logit_results.params"
   ]
  },
  {
   "cell_type": "markdown",
   "id": "9c45de4a",
   "metadata": {},
   "source": [
    "### Yi= -4.739309  + 0.067733X1 + 0.598632X2\n"
   ]
  },
  {
   "cell_type": "markdown",
   "id": "efc046eb",
   "metadata": {},
   "source": [
    "### b. Obtain exp(b1), exp(b2). Interpret these numbers."
   ]
  },
  {
   "cell_type": "code",
   "execution_count": 10,
   "id": "f6c15f46",
   "metadata": {},
   "outputs": [],
   "source": [
    "b1= 0.067733 \n",
    "b2=  0.598632\n",
    "betas=[b1,b2]\n",
    "ORs=[]"
   ]
  },
  {
   "cell_type": "code",
   "execution_count": 11,
   "id": "bcf4487a",
   "metadata": {},
   "outputs": [
    {
     "name": "stdout",
     "output_type": "stream",
     "text": [
      "[1.0700795590906513, 1.8196278460727975]\n"
     ]
    }
   ],
   "source": [
    "for b in betas: \n",
    "    OR= np.exp(b)\n",
    "    ORs.append(OR)\n",
    "print(ORs)"
   ]
  },
  {
   "cell_type": "markdown",
   "id": "7de3b02e",
   "metadata": {},
   "source": [
    "### Conclusion: \n",
    "- Y will increase by 1.07 times if X1 increases, as the exp(b1) = 1.075502506212986> 1\n",
    "-Y will increase by 1.81 times if X2 increases, as the exp(b2) = 1.81> 1"
   ]
  },
  {
   "cell_type": "markdown",
   "id": "077bc932",
   "metadata": {},
   "source": [
    "### c. What is the estimated probability that X1=50, X2=3?"
   ]
  },
  {
   "cell_type": "code",
   "execution_count": 16,
   "id": "9809750b",
   "metadata": {},
   "outputs": [
    {
     "name": "stdout",
     "output_type": "stream",
     "text": [
      "0.609030072176333\n"
     ]
    }
   ],
   "source": [
    "# a= -4.739309  + 0.067733X1 + 0.598632X2\n",
    "# X1=50, X2= 3\n",
    "#calculate the probability corresponding to X\n",
    "def logistic(a):\n",
    "  return (np.exp(a) / (1 + np.exp(a)))\n",
    "\n",
    "a= -4.739309  + 0.067733*50 + 0.598632*3\n",
    "pi = logistic(a)\n",
    "print(pi)"
   ]
  },
  {
   "cell_type": "code",
   "execution_count": null,
   "id": "1bf979ba",
   "metadata": {},
   "outputs": [],
   "source": []
  }
 ],
 "metadata": {
  "kernelspec": {
   "display_name": "Python 3 (ipykernel)",
   "language": "python",
   "name": "python3"
  },
  "language_info": {
   "codemirror_mode": {
    "name": "ipython",
    "version": 3
   },
   "file_extension": ".py",
   "mimetype": "text/x-python",
   "name": "python",
   "nbconvert_exporter": "python",
   "pygments_lexer": "ipython3",
   "version": "3.9.12"
  }
 },
 "nbformat": 4,
 "nbformat_minor": 5
}
