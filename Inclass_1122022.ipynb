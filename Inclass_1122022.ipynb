{
 "cells": [
  {
   "cell_type": "code",
   "execution_count": 6,
   "id": "d1713fa2",
   "metadata": {},
   "outputs": [],
   "source": [
    "import numpy as np\n",
    "import pandas as pd\n",
    "import seaborn as sns\n",
    "import matplotlib.pyplot as plt\n",
    "import scipy.stats as stats\n",
    "import statsmodels.api as sm\n",
    "import statsmodels.formula.api as smf\n",
    "from statsmodels.formula.api import ols\n"
   ]
  },
  {
   "cell_type": "code",
   "execution_count": 13,
   "id": "bda38569",
   "metadata": {},
   "outputs": [],
   "source": [
    "df = pd.read_csv(\"life_insurance.txt\", sep='\\s+', header=None,names=['X1','X2','Y'])"
   ]
  },
  {
   "cell_type": "code",
   "execution_count": 14,
   "id": "65878a16",
   "metadata": {},
   "outputs": [],
   "source": [
    "X1 = df['X1']\n",
    "X2 = df['X2']\n",
    "Y = df['Y']"
   ]
  },
  {
   "cell_type": "code",
   "execution_count": 15,
   "id": "02fb3f33",
   "metadata": {},
   "outputs": [
    {
     "data": {
      "text/html": [
       "<div>\n",
       "<style scoped>\n",
       "    .dataframe tbody tr th:only-of-type {\n",
       "        vertical-align: middle;\n",
       "    }\n",
       "\n",
       "    .dataframe tbody tr th {\n",
       "        vertical-align: top;\n",
       "    }\n",
       "\n",
       "    .dataframe thead th {\n",
       "        text-align: right;\n",
       "    }\n",
       "</style>\n",
       "<table border=\"1\" class=\"dataframe\">\n",
       "  <thead>\n",
       "    <tr style=\"text-align: right;\">\n",
       "      <th></th>\n",
       "      <th>X1</th>\n",
       "      <th>X2</th>\n",
       "      <th>Y</th>\n",
       "    </tr>\n",
       "  </thead>\n",
       "  <tbody>\n",
       "    <tr>\n",
       "      <th>0</th>\n",
       "      <td>45.010</td>\n",
       "      <td>6</td>\n",
       "      <td>91</td>\n",
       "    </tr>\n",
       "    <tr>\n",
       "      <th>1</th>\n",
       "      <td>57.204</td>\n",
       "      <td>4</td>\n",
       "      <td>162</td>\n",
       "    </tr>\n",
       "    <tr>\n",
       "      <th>2</th>\n",
       "      <td>26.852</td>\n",
       "      <td>5</td>\n",
       "      <td>11</td>\n",
       "    </tr>\n",
       "    <tr>\n",
       "      <th>3</th>\n",
       "      <td>66.290</td>\n",
       "      <td>7</td>\n",
       "      <td>240</td>\n",
       "    </tr>\n",
       "    <tr>\n",
       "      <th>4</th>\n",
       "      <td>40.964</td>\n",
       "      <td>5</td>\n",
       "      <td>73</td>\n",
       "    </tr>\n",
       "  </tbody>\n",
       "</table>\n",
       "</div>"
      ],
      "text/plain": [
       "       X1  X2    Y\n",
       "0  45.010   6   91\n",
       "1  57.204   4  162\n",
       "2  26.852   5   11\n",
       "3  66.290   7  240\n",
       "4  40.964   5   73"
      ]
     },
     "execution_count": 15,
     "metadata": {},
     "output_type": "execute_result"
    }
   ],
   "source": [
    "df.head()"
   ]
  },
  {
   "cell_type": "code",
   "execution_count": 20,
   "id": "c1d688ca",
   "metadata": {},
   "outputs": [
    {
     "name": "stdout",
     "output_type": "stream",
     "text": [
      "Y=  [ 91 162  11 240  73 311 316 154 164  54  53 326  55 130 112  91  14  63] \n",
      "\n"
     ]
    }
   ],
   "source": [
    "matY = np.array(Y)\n",
    "print('Y= ',matY,'\\n')"
   ]
  },
  {
   "cell_type": "code",
   "execution_count": 21,
   "id": "165f7abe",
   "metadata": {},
   "outputs": [],
   "source": [
    "col1 = np.array(X1)\n",
    "col2 = np.array(X2)\n",
    "matX = np.stack( (matJ,col1,col2),axis = 1)"
   ]
  },
  {
   "cell_type": "code",
   "execution_count": 22,
   "id": "0b064c8d",
   "metadata": {},
   "outputs": [
    {
     "name": "stdout",
     "output_type": "stream",
     "text": [
      "X'X=  [[1.80000000e+01 9.00662000e+02 9.70000000e+01]\n",
      " [9.00662000e+02 4.91799262e+04 5.00865400e+03]\n",
      " [9.70000000e+01 5.00865400e+03 6.13000000e+02]] \n",
      "\n"
     ]
    }
   ],
   "source": [
    "X_X = np.dot(matX.T,matX)\n",
    "print(\"X'X= \",X_X,'\\n')"
   ]
  },
  {
   "cell_type": "code",
   "execution_count": 23,
   "id": "20d9ca4f",
   "metadata": {},
   "outputs": [
    {
     "name": "stdout",
     "output_type": "stream",
     "text": [
      "X'Y=  [  2420.    147690.816  14444.   ] \n",
      "\n"
     ]
    }
   ],
   "source": [
    "X_Y = np.dot(matX.T,matY)\n",
    "print(\"X'Y= \",X_Y, '\\n')"
   ]
  },
  {
   "cell_type": "code",
   "execution_count": 24,
   "id": "727900eb",
   "metadata": {},
   "outputs": [],
   "source": [
    "Invert = np.linalg.pinv(X_X) "
   ]
  },
  {
   "cell_type": "code",
   "execution_count": 25,
   "id": "f43bb2c2",
   "metadata": {},
   "outputs": [],
   "source": [
    "b=Invert.dot(X_Y)"
   ]
  },
  {
   "cell_type": "code",
   "execution_count": 26,
   "id": "15862824",
   "metadata": {
    "scrolled": true
   },
   "outputs": [
    {
     "data": {
      "text/plain": [
       "array([-205.71865941,    6.28802867,    4.73760202])"
      ]
     },
     "execution_count": 26,
     "metadata": {},
     "output_type": "execute_result"
    }
   ],
   "source": [
    "b_trans = np.transpose(b)\n",
    "b_trans"
   ]
  },
  {
   "cell_type": "code",
   "execution_count": 27,
   "id": "1e0ed18f",
   "metadata": {},
   "outputs": [
    {
     "name": "stdout",
     "output_type": "stream",
     "text": [
      "Intercept:\n",
      " -205.71865940662974\n",
      "Coeficients:\n",
      " [0.         6.28802867 4.73760202]\n"
     ]
    }
   ],
   "source": [
    "# double check the results by OLS \n",
    "from sklearn import linear_model\n",
    "regr=linear_model.LinearRegression()\n",
    "regr.fit(matX,matY)\n",
    "print('Intercept:\\n',regr.intercept_)\n",
    "print('Coeficients:\\n',regr.coef_ )"
   ]
  },
  {
   "attachments": {
    "image.png": {
     "image/png": "[encoded data removed]"
    }
   },
   "cell_type": "markdown",
   "id": "72f5773e",
   "metadata": {},
   "source": [
    "![image.png](attachment:image.png)\n"
   ]
  },
  {
   "cell_type": "code",
   "execution_count": 18,
   "id": "8a1ee2cc",
   "metadata": {},
   "outputs": [
    {
     "name": "stdout",
     "output_type": "stream",
     "text": [
      "[[  1.  91.]\n",
      " [  1. 162.]\n",
      " [  1.  11.]\n",
      " [  1. 240.]\n",
      " [  1.  73.]\n",
      " [  1. 311.]\n",
      " [  1. 316.]\n",
      " [  1. 154.]\n",
      " [  1. 164.]\n",
      " [  1.  54.]\n",
      " [  1.  53.]\n",
      " [  1. 326.]\n",
      " [  1.  55.]\n",
      " [  1. 130.]\n",
      " [  1. 112.]\n",
      " [  1.  91.]\n",
      " [  1.  14.]\n",
      " [  1.  63.]]\n"
     ]
    }
   ],
   "source": [
    "from numpy import *\n",
    "XY = df.values\n",
    "a = np.ones((len(X1), 1))\n",
    "X = insert(XY[:,2:5],[0],a,1)\n",
    "print(X)\n",
    "allX = [X1, X2]"
   ]
  },
  {
   "cell_type": "code",
   "execution_count": 19,
   "id": "7ed7431d",
   "metadata": {},
   "outputs": [
    {
     "name": "stdout",
     "output_type": "stream",
     "text": [
      " R_square 0.975612054030271\n",
      " R_square 0.12363834035548296\n"
     ]
    }
   ],
   "source": [
    "for x in allX:\n",
    "    x_bar = np.mean(x)\n",
    "    Y_bar = np.mean(Y)\n",
    "    x_err = x - x_bar\n",
    "    Y_err = Y - Y_bar\n",
    "    A = np.sum(x_err*Y_err)\n",
    "    B = np.sum(x_err**2)\n",
    "    b1 = A / B\n",
    "    b0 = Y_bar - b1*x_bar\n",
    "    n = len(x)\n",
    "    Y_hat = b0 + b1*x\n",
    "    resid = Y - Y_hat\n",
    "    SSE = np.sum((Y - Y_hat)**2)\n",
    "    MSE = SSE / (n-2)\n",
    "    SSR = sum((Y_hat - Y_bar)**2)\n",
    "    SSTO = SSR + SSE\n",
    "    R_squared = SSR/SSTO\n",
    "    print(f' R_square {R_squared}')"
   ]
  },
  {
   "cell_type": "code",
   "execution_count": 28,
   "id": "4e597b87",
   "metadata": {},
   "outputs": [
    {
     "name": "stdout",
     "output_type": "stream",
     "text": [
      "                            OLS Regression Results                            \n",
      "==============================================================================\n",
      "Dep. Variable:                      y   R-squared:                       0.986\n",
      "Model:                            OLS   Adj. R-squared:                  0.985\n",
      "Method:                 Least Squares   F-statistic:                     542.3\n",
      "Date:                Thu, 01 Dec 2022   Prob (F-statistic):           1.03e-14\n",
      "Time:                        12:05:55   Log-Likelihood:                -69.596\n",
      "No. Observations:                  18   AIC:                             145.2\n",
      "Df Residuals:                      15   BIC:                             147.9\n",
      "Df Model:                           2                                         \n",
      "Covariance Type:            nonrobust                                         \n",
      "==============================================================================\n",
      "                 coef    std err          t      P>|t|      [0.025      0.975]\n",
      "------------------------------------------------------------------------------\n",
      "const       -205.7187     11.393    -18.057      0.000    -230.002    -181.436\n",
      "x1             6.2880      0.204     30.801      0.000       5.853       6.723\n",
      "x2             4.7376      1.378      3.438      0.004       1.800       7.675\n",
      "==============================================================================\n",
      "Omnibus:                        1.516   Durbin-Watson:                   1.982\n",
      "Prob(Omnibus):                  0.469   Jarque-Bera (JB):                1.244\n",
      "Skew:                           0.485   Prob(JB):                        0.537\n",
      "Kurtosis:                       2.153   Cond. No.                         201.\n",
      "==============================================================================\n",
      "\n",
      "Notes:\n",
      "[1] Standard Errors assume that the covariance matrix of the errors is correctly specified.\n"
     ]
    },
    {
     "name": "stderr",
     "output_type": "stream",
     "text": [
      "C:\\Users\\tanvu\\anaconda3\\lib\\site-packages\\scipy\\stats\\stats.py:1541: UserWarning: kurtosistest only valid for n>=20 ... continuing anyway, n=18\n",
      "  warnings.warn(\"kurtosistest only valid for n>=20 ... continuing \"\n"
     ]
    }
   ],
   "source": []
  },
  {
   "cell_type": "code",
   "execution_count": null,
   "id": "f9dd7511",
   "metadata": {},
   "outputs": [],
   "source": []
  }
 ],
 "metadata": {
  "kernelspec": {
   "display_name": "Python 3 (ipykernel)",
   "language": "python",
   "name": "python3"
  },
  "language_info": {
   "codemirror_mode": {
    "name": "ipython",
    "version": 3
   },
   "file_extension": ".py",
   "mimetype": "text/x-python",
   "name": "python",
   "nbconvert_exporter": "python",
   "pygments_lexer": "ipython3",
   "version": "3.9.12"
  }
 },
 "nbformat": 4,
 "nbformat_minor": 5
}
