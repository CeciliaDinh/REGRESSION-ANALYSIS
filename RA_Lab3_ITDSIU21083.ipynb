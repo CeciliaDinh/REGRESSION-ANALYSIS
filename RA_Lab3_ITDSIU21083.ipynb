{
 "cells": [
  {
   "cell_type": "code",
   "execution_count": 82,
   "id": "82211459",
   "metadata": {},
   "outputs": [
    {
     "name": "stdout",
     "output_type": "stream",
     "text": [
      "Requirement already satisfied: yellowbrick in c:\\users\\tanvu\\anaconda3\\lib\\site-packages (1.5)\n",
      "Requirement already satisfied: numpy>=1.16.0 in c:\\users\\tanvu\\anaconda3\\lib\\site-packages (from yellowbrick) (1.21.5)\n",
      "Requirement already satisfied: scipy>=1.0.0 in c:\\users\\tanvu\\anaconda3\\lib\\site-packages (from yellowbrick) (1.7.3)\n",
      "Requirement already satisfied: cycler>=0.10.0 in c:\\users\\tanvu\\anaconda3\\lib\\site-packages (from yellowbrick) (0.11.0)\n",
      "Requirement already satisfied: scikit-learn>=1.0.0 in c:\\users\\tanvu\\anaconda3\\lib\\site-packages (from yellowbrick) (1.0.2)\n",
      "Requirement already satisfied: matplotlib!=3.0.0,>=2.0.2 in c:\\users\\tanvu\\anaconda3\\lib\\site-packages (from yellowbrick) (3.5.1)\n",
      "Requirement already satisfied: packaging>=20.0 in c:\\users\\tanvu\\anaconda3\\lib\\site-packages (from matplotlib!=3.0.0,>=2.0.2->yellowbrick) (21.3)\n",
      "Requirement already satisfied: fonttools>=4.22.0 in c:\\users\\tanvu\\anaconda3\\lib\\site-packages (from matplotlib!=3.0.0,>=2.0.2->yellowbrick) (4.25.0)\n",
      "Requirement already satisfied: pyparsing>=2.2.1 in c:\\users\\tanvu\\anaconda3\\lib\\site-packages (from matplotlib!=3.0.0,>=2.0.2->yellowbrick) (3.0.4)\n",
      "Requirement already satisfied: pillow>=6.2.0 in c:\\users\\tanvu\\anaconda3\\lib\\site-packages (from matplotlib!=3.0.0,>=2.0.2->yellowbrick) (9.0.1)\n",
      "Requirement already satisfied: python-dateutil>=2.7 in c:\\users\\tanvu\\anaconda3\\lib\\site-packages (from matplotlib!=3.0.0,>=2.0.2->yellowbrick) (2.8.2)\n",
      "Requirement already satisfied: kiwisolver>=1.0.1 in c:\\users\\tanvu\\anaconda3\\lib\\site-packages (from matplotlib!=3.0.0,>=2.0.2->yellowbrick) (1.3.2)\n",
      "Requirement already satisfied: six>=1.5 in c:\\users\\tanvu\\anaconda3\\lib\\site-packages (from python-dateutil>=2.7->matplotlib!=3.0.0,>=2.0.2->yellowbrick) (1.16.0)\n",
      "Requirement already satisfied: joblib>=0.11 in c:\\users\\tanvu\\anaconda3\\lib\\site-packages (from scikit-learn>=1.0.0->yellowbrick) (1.1.0)\n",
      "Requirement already satisfied: threadpoolctl>=2.0.0 in c:\\users\\tanvu\\anaconda3\\lib\\site-packages (from scikit-learn>=1.0.0->yellowbrick) (2.2.0)\n",
      "Note: you may need to restart the kernel to use updated packages.\n"
     ]
    }
   ],
   "source": [
    "pip install yellowbrick"
   ]
  },
  {
   "cell_type": "markdown",
   "id": "6dc5b1ee",
   "metadata": {},
   "source": [
    "# Question 1"
   ]
  },
  {
   "cell_type": "code",
   "execution_count": 83,
   "id": "12bb21a7",
   "metadata": {},
   "outputs": [],
   "source": [
    "# importing libraries\n",
    "import pandas as pd\n",
    "import numpy as np\n",
    "from sklearn.linear_model import LinearRegression\n",
    "from sklearn.model_selection import train_test_split\n",
    "import numpy as np\n",
    "from sklearn.linear_model import LinearRegression \n",
    "import statsmodels.api as sm\n",
    "import statsmodels.stats.api as sms\n",
    "from yellowbrick.regressor import ResidualsPlot\n",
    "import matplotlib.pyplot as plt\n",
    "import statsmodels.formula.api as smf\n",
    "from statsmodels.compat import lzip\n",
    "import scipy.stats as stats\n",
    "import seaborn as sns"
   ]
  },
  {
   "cell_type": "code",
   "execution_count": 84,
   "id": "c804d5b4",
   "metadata": {},
   "outputs": [
    {
     "data": {
      "text/html": [
       "<div>\n",
       "<style scoped>\n",
       "    .dataframe tbody tr th:only-of-type {\n",
       "        vertical-align: middle;\n",
       "    }\n",
       "\n",
       "    .dataframe tbody tr th {\n",
       "        vertical-align: top;\n",
       "    }\n",
       "\n",
       "    .dataframe thead th {\n",
       "        text-align: right;\n",
       "    }\n",
       "</style>\n",
       "<table border=\"1\" class=\"dataframe\">\n",
       "  <thead>\n",
       "    <tr style=\"text-align: right;\">\n",
       "      <th></th>\n",
       "      <th>Muscle Mass</th>\n",
       "      <th>Age</th>\n",
       "    </tr>\n",
       "  </thead>\n",
       "  <tbody>\n",
       "    <tr>\n",
       "      <th>0</th>\n",
       "      <td>106</td>\n",
       "      <td>43</td>\n",
       "    </tr>\n",
       "    <tr>\n",
       "      <th>1</th>\n",
       "      <td>106</td>\n",
       "      <td>41</td>\n",
       "    </tr>\n",
       "    <tr>\n",
       "      <th>2</th>\n",
       "      <td>97</td>\n",
       "      <td>47</td>\n",
       "    </tr>\n",
       "    <tr>\n",
       "      <th>3</th>\n",
       "      <td>113</td>\n",
       "      <td>46</td>\n",
       "    </tr>\n",
       "    <tr>\n",
       "      <th>4</th>\n",
       "      <td>96</td>\n",
       "      <td>45</td>\n",
       "    </tr>\n",
       "  </tbody>\n",
       "</table>\n",
       "</div>"
      ],
      "text/plain": [
       "   Muscle Mass  Age\n",
       "0          106   43\n",
       "1          106   41\n",
       "2           97   47\n",
       "3          113   46\n",
       "4           96   45"
      ]
     },
     "execution_count": 84,
     "metadata": {},
     "output_type": "execute_result"
    }
   ],
   "source": [
    "df1 = pd.read_csv('CH01PR27.txt',sep= '\\s+',header=None) # read the data set\n",
    "df1.columns = (['Muscle Mass','Age'])\n",
    "df1.head() # return top 10 values"
   ]
  },
  {
   "cell_type": "code",
   "execution_count": 85,
   "id": "a19bd0fa",
   "metadata": {},
   "outputs": [
    {
     "name": "stdout",
     "output_type": "stream",
     "text": [
      "<class 'pandas.core.frame.DataFrame'>\n",
      "RangeIndex: 60 entries, 0 to 59\n",
      "Data columns (total 2 columns):\n",
      " #   Column       Non-Null Count  Dtype\n",
      "---  ------       --------------  -----\n",
      " 0   Muscle Mass  60 non-null     int64\n",
      " 1   Age          60 non-null     int64\n",
      "dtypes: int64(2)\n",
      "memory usage: 1.1 KB\n"
     ]
    }
   ],
   "source": [
    "df1.info() # describe the data set"
   ]
  },
  {
   "cell_type": "code",
   "execution_count": 86,
   "id": "276d54c9",
   "metadata": {},
   "outputs": [],
   "source": [
    "# naming variables \n",
    "X = df1['Muscle Mass']\n",
    "Y = df1['Age']"
   ]
  },
  {
   "cell_type": "markdown",
   "id": "1b1f05cc",
   "metadata": {},
   "source": [
    "### a. Prepare a histogram for the ages X_i. What information does your plot provide? Is this plot consistent with the random selection of women from each 10-year age group? Explain."
   ]
  },
  {
   "cell_type": "code",
   "execution_count": 87,
   "id": "b403aec8",
   "metadata": {},
   "outputs": [
    {
     "data": {
      "text/plain": [
       "[Text(0.5, 1.0, 'The frequency of 40-79 women')]"
      ]
     },
     "execution_count": 87,
     "metadata": {},
     "output_type": "execute_result"
    },
    {
     "data": {
      "image/png": "[encoded data removed]",
      "text/plain": [
       "<Figure size 576x396 with 1 Axes>"
      ]
     },
     "metadata": {},
     "output_type": "display_data"
    }
   ],
   "source": [
    "# Plotting the variable X\n",
    "sns.histplot(data=df1['Age']).set(title=\"The frequency of 40-79 women\")"
   ]
  },
  {
   "cell_type": "markdown",
   "id": "0000335f",
   "metadata": {},
   "source": [
    "> ### Conclusion: \n",
    "The given plot demonstrate the frequency of 15 randomly selected women. This group of age consists of 10-year groups, beginning with age 40 and ending with age 79. According to the plot,  when we divide these women into eight different group, we can notice a slightly unequal distribution between these groups. However, I would say that this plot still remains consistent with the random selection of women from each 10-year age group, as the difference is rather minor and acceptable "
   ]
  },
  {
   "cell_type": "markdown",
   "id": "f46a5538",
   "metadata": {},
   "source": [
    "### b. Obtain the residuals e_i and prepare a normal probability plot of the residuals. Does the distribution of the residuals appear to be symmetrical?"
   ]
  },
  {
   "cell_type": "code",
   "execution_count": 88,
   "id": "b0604a87",
   "metadata": {},
   "outputs": [
    {
     "data": {
      "text/plain": [
       "(84.96666666666667, 59.983333333333334)"
      ]
     },
     "execution_count": 88,
     "metadata": {},
     "output_type": "execute_result"
    }
   ],
   "source": [
    "# excel the function to caculate the mean of X and Y\n",
    "X_bar = np.mean(X)\n",
    "Y_bar = np.mean(Y)\n",
    "X_bar, Y_bar"
   ]
  },
  {
   "cell_type": "code",
   "execution_count": 89,
   "id": "aa73a914",
   "metadata": {},
   "outputs": [
    {
     "data": {
      "text/plain": [
       "0    21.033333\n",
       "1    21.033333\n",
       "2    12.033333\n",
       "3    28.033333\n",
       "4    11.033333\n",
       "Name: Muscle Mass, dtype: float64"
      ]
     },
     "execution_count": 89,
     "metadata": {},
     "output_type": "execute_result"
    }
   ],
   "source": [
    "Y_err = Y - Y_bar \n",
    "X_err = X - X_bar\n",
    "X_err.head()"
   ]
  },
  {
   "cell_type": "code",
   "execution_count": 152,
   "id": "05cb8304",
   "metadata": {},
   "outputs": [
    {
     "data": {
      "text/plain": [
       "(5.729869021754162, 0.6385264532551491)"
      ]
     },
     "execution_count": 152,
     "metadata": {},
     "output_type": "execute_result"
    }
   ],
   "source": [
    "A = np.sum(X_err*Y_err)\n",
    "B = np.sum(X_err**2)\n",
    "b1 = A/B\n",
    "b0 = Y_bar- b1*X_bar\n",
    "b0,b1"
   ]
  },
  {
   "cell_type": "code",
   "execution_count": 91,
   "id": "4b6f1b5b",
   "metadata": {},
   "outputs": [],
   "source": [
    "Y_hat = b0 + b1*X\n",
    "residual = Y - Y_hat"
   ]
  },
  {
   "cell_type": "code",
   "execution_count": 92,
   "id": "daef7e0f",
   "metadata": {},
   "outputs": [
    {
     "data": {
      "text/plain": [
       "460.126582770074"
      ]
     },
     "execution_count": 92,
     "metadata": {},
     "output_type": "execute_result"
    }
   ],
   "source": [
    "SSE = np.sum((Y_bar- Y_hat)**2)\n",
    "MSE = SSE/ (len(Y)-2)\n",
    "MSE"
   ]
  },
  {
   "cell_type": "code",
   "execution_count": 93,
   "id": "36d8a6b6",
   "metadata": {
    "scrolled": false
   },
   "outputs": [
    {
     "data": {
      "image/png": "[encoded data removed]",
      "text/plain": [
       "<Figure size 576x396 with 1 Axes>"
      ]
     },
     "metadata": {},
     "output_type": "display_data"
    }
   ],
   "source": [
    "import statsmodels.api as sm\n",
    "import pylab as py\n",
    "sm.qqplot(residual)\n",
    "py.show()"
   ]
  },
  {
   "cell_type": "markdown",
   "id": "9f2f2606",
   "metadata": {},
   "source": [
    "> #### Conclusion: \n",
    "residuals are distributed symetrically for the symmetrical distribution in both X and Y axies. However, data points in the right top corner remains quite far from the other data points. Because of that, it is likely that these data points may be outliers"
   ]
  },
  {
   "cell_type": "markdown",
   "id": "03f999fe",
   "metadata": {},
   "source": [
    "### c. Plot the residuals e_i against (Y_i ) ̂ and also against X_i on separate graphs to ascertain whether any departures from regression model (2.1) are evident. Do the two plots provide the same information? State your conclusions."
   ]
  },
  {
   "cell_type": "code",
   "execution_count": 94,
   "id": "efc07777",
   "metadata": {},
   "outputs": [
    {
     "data": {
      "text/plain": [
       "<AxesSubplot:>"
      ]
     },
     "execution_count": 94,
     "metadata": {},
     "output_type": "execute_result"
    },
    {
     "data": {
      "image/png": "[encoded data removed]",
      "text/plain": [
       "<Figure size 576x396 with 1 Axes>"
      ]
     },
     "metadata": {},
     "output_type": "display_data"
    }
   ],
   "source": [
    "# plotting residuals against Y hat\n",
    "sns.residplot(x=Y_hat, y= residual,data=df1,color='red')"
   ]
  },
  {
   "cell_type": "code",
   "execution_count": 95,
   "id": "991ecf22",
   "metadata": {
    "scrolled": true
   },
   "outputs": [
    {
     "data": {
      "text/plain": [
       "<AxesSubplot:xlabel='Age'>"
      ]
     },
     "execution_count": 95,
     "metadata": {},
     "output_type": "execute_result"
    },
    {
     "data": {
      "image/png": "[encoded data removed]",
      "text/plain": [
       "<Figure size 576x396 with 1 Axes>"
      ]
     },
     "metadata": {},
     "output_type": "display_data"
    }
   ],
   "source": [
    "# plotting residuals against age\n",
    "sns.residplot(x=df['Age'], y= residual,data=df1,color='red')"
   ]
  },
  {
   "cell_type": "markdown",
   "id": "bba29ea9",
   "metadata": {},
   "source": [
    "> #### Conclusion: \n",
    "These two plots give out the same information. However, there is an outlier in the left top corner in plot 1 and in the right top corner in plot 2"
   ]
  },
  {
   "cell_type": "markdown",
   "id": "dfdc29f7",
   "metadata": {},
   "source": [
    "### d. Assume that (3.10) is applicable and conduct the Breusch-Pagan test to determine whether or not the error variance varies with the level of X. Use α = .01. State the alternatives, decision rule, and conclusion. Is your conclusion consistent with your preliminary findings in part (c)?"
   ]
  },
  {
   "cell_type": "code",
   "execution_count": 96,
   "id": "b61c38b2",
   "metadata": {},
   "outputs": [],
   "source": [
    "import statsmodels.api as sm\n",
    "import statsmodels.formula.api as smf\n",
    "import statsmodels.tools.tools as smt\n",
    "import statsmodels.stats.diagnostic as smd"
   ]
  },
  {
   "cell_type": "code",
   "execution_count": 97,
   "id": "66fbf5b7",
   "metadata": {},
   "outputs": [
    {
     "data": {
      "text/plain": [
       "[('Lagrange multiplier statistic', 4.42210593733162),\n",
       " ('p-value', 0.03547622638008991),\n",
       " ('f-value', 4.61482300995483),\n",
       " ('f p-value', 0.03588513598042569)]"
      ]
     },
     "execution_count": 97,
     "metadata": {},
     "output_type": "execute_result"
    }
   ],
   "source": [
    "#Breusch-Pagan test\n",
    "# Fit the regression model\n",
    "fit = smf.ols('X ~ Y', data=df).fit()\n",
    " \n",
    "# Conduct the Breusch-Pagan test\n",
    "names = ['Lagrange multiplier statistic', 'p-value',\n",
    "         'f-value', 'f p-value']\n",
    "# Get the test result\n",
    "test_result = sms.het_breuschpagan(fit.resid, fit.model.exog)\n",
    "lzip(names, test_result)"
   ]
  },
  {
   "cell_type": "code",
   "execution_count": 98,
   "id": "e6b0d1e5",
   "metadata": {},
   "outputs": [
    {
     "name": "stdout",
     "output_type": "stream",
     "text": [
      "                            OLS Regression Results                            \n",
      "==============================================================================\n",
      "Dep. Variable:                      X   R-squared:                       0.750\n",
      "Model:                            OLS   Adj. R-squared:                  0.746\n",
      "Method:                 Least Squares   F-statistic:                     174.1\n",
      "Date:                Sat, 15 Oct 2022   Prob (F-statistic):           4.12e-19\n",
      "Time:                        10:25:06   Log-Likelihood:                -210.17\n",
      "No. Observations:                  60   AIC:                             424.3\n",
      "Df Residuals:                      58   BIC:                             428.5\n",
      "Df Model:                           1                                         \n",
      "Covariance Type:            nonrobust                                         \n",
      "==============================================================================\n",
      "                 coef    std err          t      P>|t|      [0.025      0.975]\n",
      "------------------------------------------------------------------------------\n",
      "Intercept    156.3466      5.512     28.363      0.000     145.313     167.381\n",
      "Y             -1.1900      0.090    -13.193      0.000      -1.371      -1.009\n",
      "==============================================================================\n",
      "Omnibus:                        1.213   Durbin-Watson:                   2.416\n",
      "Prob(Omnibus):                  0.545   Jarque-Bera (JB):                1.208\n",
      "Skew:                           0.319   Prob(JB):                        0.547\n",
      "Kurtosis:                       2.726   Cond. No.                         319.\n",
      "==============================================================================\n",
      "\n",
      "Notes:\n",
      "[1] Standard Errors assume that the covariance matrix of the errors is correctly specified.\n"
     ]
    }
   ],
   "source": [
    "print(fit.summary())"
   ]
  },
  {
   "cell_type": "markdown",
   "id": "c432134f",
   "metadata": {},
   "source": [
    ">### Conclusion: \n",
    " Before jumping straight into the conclusion, I would like to explain brieftly about the decision rule\n",
    " Null Hypothesis (H0): Homoscedasticity is present (the residuals are distributed with equal variance)\n",
    " Alternative Hypothesis (HA): Heteroscedasticity is present (the residuals are not distributed with equal variance)\n",
    " If the p-value of the test is less than some significance level ( α = .01) then we don't accept the null hypothesis and conclude that heteroscedasticity is present in the regression model.\n",
    " From the table we can conclude that p-value= 0.03 > alpha= 0.01, so we accept the null hypothesis, and conclude that homoscedasticity is present = the residuals are distributed with equal variance\n",
    " Moreover, the plot that we make in part (C) also suggests the points are about the same distance from the line,which simply states that homoscedasiticity exists. So that, our conclusion is consistent with what we find out in part C"
   ]
  },
  {
   "cell_type": "markdown",
   "id": "365b6eec",
   "metadata": {},
   "source": [
    "# Question 2:\n"
   ]
  },
  {
   "cell_type": "code",
   "execution_count": 99,
   "id": "aa9686e1",
   "metadata": {},
   "outputs": [],
   "source": [
    "# importing libraries\n",
    "import pandas as pd\n",
    "import numpy as np\n",
    "from sklearn.linear_model import LinearRegression\n",
    "from sklearn.model_selection import train_test_split\n",
    "import numpy as np\n",
    "from sklearn.linear_model import LinearRegression \n",
    "import statsmodels.api as sm\n",
    "import statsmodels.stats.api as sms\n",
    "from yellowbrick.regressor import ResidualsPlot\n",
    "import matplotlib.pyplot as plt\n",
    "import statsmodels.formula.api as smf\n",
    "from statsmodels.compat import lzip\n",
    "import scipy.stats as stats\n",
    "import seaborn as sns"
   ]
  },
  {
   "cell_type": "code",
   "execution_count": 102,
   "id": "5e468783",
   "metadata": {},
   "outputs": [
    {
     "data": {
      "text/html": [
       "<div>\n",
       "<style scoped>\n",
       "    .dataframe tbody tr th:only-of-type {\n",
       "        vertical-align: middle;\n",
       "    }\n",
       "\n",
       "    .dataframe tbody tr th {\n",
       "        vertical-align: top;\n",
       "    }\n",
       "\n",
       "    .dataframe thead th {\n",
       "        text-align: right;\n",
       "    }\n",
       "</style>\n",
       "<table border=\"1\" class=\"dataframe\">\n",
       "  <thead>\n",
       "    <tr style=\"text-align: right;\">\n",
       "      <th></th>\n",
       "      <th>Hours</th>\n",
       "      <th>Lotsize</th>\n",
       "    </tr>\n",
       "  </thead>\n",
       "  <tbody>\n",
       "    <tr>\n",
       "      <th>0</th>\n",
       "      <td>14.28</td>\n",
       "      <td>15</td>\n",
       "    </tr>\n",
       "    <tr>\n",
       "      <th>1</th>\n",
       "      <td>8.80</td>\n",
       "      <td>9</td>\n",
       "    </tr>\n",
       "    <tr>\n",
       "      <th>2</th>\n",
       "      <td>12.49</td>\n",
       "      <td>7</td>\n",
       "    </tr>\n",
       "    <tr>\n",
       "      <th>3</th>\n",
       "      <td>9.38</td>\n",
       "      <td>4</td>\n",
       "    </tr>\n",
       "    <tr>\n",
       "      <th>4</th>\n",
       "      <td>10.89</td>\n",
       "      <td>9</td>\n",
       "    </tr>\n",
       "  </tbody>\n",
       "</table>\n",
       "</div>"
      ],
      "text/plain": [
       "   Hours  Lotsize\n",
       "0  14.28       15\n",
       "1   8.80        9\n",
       "2  12.49        7\n",
       "3   9.38        4\n",
       "4  10.89        9"
      ]
     },
     "execution_count": 102,
     "metadata": {},
     "output_type": "execute_result"
    }
   ],
   "source": [
    "df2 = pd.read_csv('CH03PR18.txt',sep= '\\s+',header=None) # read the data set\n",
    "df2.columns = (['Hours','Lotsize'])\n",
    "df2.head() # return top 10 values"
   ]
  },
  {
   "cell_type": "code",
   "execution_count": 106,
   "id": "30e1c471",
   "metadata": {},
   "outputs": [],
   "source": [
    "X1= df2['Lotsize']\n",
    "Y1=df2['Hours']"
   ]
  },
  {
   "cell_type": "markdown",
   "id": "d44582cd",
   "metadata": {},
   "source": [
    "### a. Prepare a scatter plot of the data. Does a linear relation appear adequate here? Would a transformation on X or Y be more appropriate here? Why?"
   ]
  },
  {
   "cell_type": "code",
   "execution_count": 109,
   "id": "b258b254",
   "metadata": {},
   "outputs": [
    {
     "data": {
      "image/png": "[encoded data removed]",
      "text/plain": [
       "<Figure size 576x396 with 1 Axes>"
      ]
     },
     "metadata": {},
     "output_type": "display_data"
    }
   ],
   "source": [
    "import matplotlib.pyplot as plt\n",
    "plt.scatter(X1, Y1,color='red')\n",
    "plt.show()"
   ]
  },
  {
   "cell_type": "code",
   "execution_count": 112,
   "id": "059694cb",
   "metadata": {},
   "outputs": [
    {
     "data": {
      "text/html": [
       "<table class=\"simpletable\">\n",
       "<caption>OLS Regression Results</caption>\n",
       "<tr>\n",
       "  <th>Dep. Variable:</th>            <td>X</td>        <th>  R-squared:         </th> <td>   0.750</td>\n",
       "</tr>\n",
       "<tr>\n",
       "  <th>Model:</th>                   <td>OLS</td>       <th>  Adj. R-squared:    </th> <td>   0.746</td>\n",
       "</tr>\n",
       "<tr>\n",
       "  <th>Method:</th>             <td>Least Squares</td>  <th>  F-statistic:       </th> <td>   174.1</td>\n",
       "</tr>\n",
       "<tr>\n",
       "  <th>Date:</th>             <td>Sat, 15 Oct 2022</td> <th>  Prob (F-statistic):</th> <td>4.12e-19</td>\n",
       "</tr>\n",
       "<tr>\n",
       "  <th>Time:</th>                 <td>10:43:57</td>     <th>  Log-Likelihood:    </th> <td> -210.17</td>\n",
       "</tr>\n",
       "<tr>\n",
       "  <th>No. Observations:</th>      <td>    60</td>      <th>  AIC:               </th> <td>   424.3</td>\n",
       "</tr>\n",
       "<tr>\n",
       "  <th>Df Residuals:</th>          <td>    58</td>      <th>  BIC:               </th> <td>   428.5</td>\n",
       "</tr>\n",
       "<tr>\n",
       "  <th>Df Model:</th>              <td>     1</td>      <th>                     </th>     <td> </td>   \n",
       "</tr>\n",
       "<tr>\n",
       "  <th>Covariance Type:</th>      <td>nonrobust</td>    <th>                     </th>     <td> </td>   \n",
       "</tr>\n",
       "</table>\n",
       "<table class=\"simpletable\">\n",
       "<tr>\n",
       "      <td></td>         <th>coef</th>     <th>std err</th>      <th>t</th>      <th>P>|t|</th>  <th>[0.025</th>    <th>0.975]</th>  \n",
       "</tr>\n",
       "<tr>\n",
       "  <th>Intercept</th> <td>  156.3466</td> <td>    5.512</td> <td>   28.363</td> <td> 0.000</td> <td>  145.313</td> <td>  167.381</td>\n",
       "</tr>\n",
       "<tr>\n",
       "  <th>Y</th>         <td>   -1.1900</td> <td>    0.090</td> <td>  -13.193</td> <td> 0.000</td> <td>   -1.371</td> <td>   -1.009</td>\n",
       "</tr>\n",
       "</table>\n",
       "<table class=\"simpletable\">\n",
       "<tr>\n",
       "  <th>Omnibus:</th>       <td> 1.213</td> <th>  Durbin-Watson:     </th> <td>   2.416</td>\n",
       "</tr>\n",
       "<tr>\n",
       "  <th>Prob(Omnibus):</th> <td> 0.545</td> <th>  Jarque-Bera (JB):  </th> <td>   1.208</td>\n",
       "</tr>\n",
       "<tr>\n",
       "  <th>Skew:</th>          <td> 0.319</td> <th>  Prob(JB):          </th> <td>   0.547</td>\n",
       "</tr>\n",
       "<tr>\n",
       "  <th>Kurtosis:</th>      <td> 2.726</td> <th>  Cond. No.          </th> <td>    319.</td>\n",
       "</tr>\n",
       "</table><br/><br/>Notes:<br/>[1] Standard Errors assume that the covariance matrix of the errors is correctly specified."
      ],
      "text/plain": [
       "<class 'statsmodels.iolib.summary.Summary'>\n",
       "\"\"\"\n",
       "                            OLS Regression Results                            \n",
       "==============================================================================\n",
       "Dep. Variable:                      X   R-squared:                       0.750\n",
       "Model:                            OLS   Adj. R-squared:                  0.746\n",
       "Method:                 Least Squares   F-statistic:                     174.1\n",
       "Date:                Sat, 15 Oct 2022   Prob (F-statistic):           4.12e-19\n",
       "Time:                        10:43:57   Log-Likelihood:                -210.17\n",
       "No. Observations:                  60   AIC:                             424.3\n",
       "Df Residuals:                      58   BIC:                             428.5\n",
       "Df Model:                           1                                         \n",
       "Covariance Type:            nonrobust                                         \n",
       "==============================================================================\n",
       "                 coef    std err          t      P>|t|      [0.025      0.975]\n",
       "------------------------------------------------------------------------------\n",
       "Intercept    156.3466      5.512     28.363      0.000     145.313     167.381\n",
       "Y             -1.1900      0.090    -13.193      0.000      -1.371      -1.009\n",
       "==============================================================================\n",
       "Omnibus:                        1.213   Durbin-Watson:                   2.416\n",
       "Prob(Omnibus):                  0.545   Jarque-Bera (JB):                1.208\n",
       "Skew:                           0.319   Prob(JB):                        0.547\n",
       "Kurtosis:                       2.726   Cond. No.                         319.\n",
       "==============================================================================\n",
       "\n",
       "Notes:\n",
       "[1] Standard Errors assume that the covariance matrix of the errors is correctly specified.\n",
       "\"\"\""
      ]
     },
     "execution_count": 112,
     "metadata": {},
     "output_type": "execute_result"
    }
   ],
   "source": [
    "fit.summary()"
   ]
  },
  {
   "cell_type": "markdown",
   "id": "5f868589",
   "metadata": {},
   "source": [
    "> ### CONCLUSION: \n",
    "A scatterplot can identify several different types of relationships between two variables\n",
    "  A relationship has no correlation when the points on a scatterplot do not show any pattern\n",
    "  A relationship is non-linear when the points on a scatterplot follow a pattern but not a straight line.\n",
    "  A relationship is linear when the points on a scatterplot follow a somewhat straight line pattern.\n",
    "  A linear relation does not appear to be adequate here as the regression relation in the scatter-plot appears to be curvilinear. \n",
    "  Because visual examinations are largely subjective, we need a more precise and objective measure to define the correlation between the two variables. To quantify the strength and direction of the relationship between two variables, we use the linear correlation coefficient:\n",
    " Besides that, We can see from the summary, that the value of r= 0.746 ( which still runs from -1, and 1), and this encourages an moderate positive linear relationship of the two variables, however this is not adequate\n",
    "The variability across different X levels appears to be fairly constant, thus a transformation to X is more suitable. "
   ]
  },
  {
   "cell_type": "markdown",
   "id": "3e050c02",
   "metadata": {},
   "source": [
    " ### b. Use the transformation X^'=√X and obtain the estimated linear regression function for the transformed data."
   ]
  },
  {
   "cell_type": "code",
   "execution_count": 120,
   "id": "6289f8c3",
   "metadata": {},
   "outputs": [
    {
     "data": {
      "text/html": [
       "<table class=\"simpletable\">\n",
       "<caption>OLS Regression Results</caption>\n",
       "<tr>\n",
       "  <th>Dep. Variable:</th>        <td>X_new~ Y</td>     <th>  R-squared:         </th> <td>   0.750</td>\n",
       "</tr>\n",
       "<tr>\n",
       "  <th>Model:</th>                   <td>OLS</td>       <th>  Adj. R-squared:    </th> <td>   0.746</td>\n",
       "</tr>\n",
       "<tr>\n",
       "  <th>Method:</th>             <td>Least Squares</td>  <th>  F-statistic:       </th> <td>   174.1</td>\n",
       "</tr>\n",
       "<tr>\n",
       "  <th>Date:</th>             <td>Sat, 15 Oct 2022</td> <th>  Prob (F-statistic):</th> <td>4.12e-19</td>\n",
       "</tr>\n",
       "<tr>\n",
       "  <th>Time:</th>                 <td>11:14:30</td>     <th>  Log-Likelihood:    </th> <td> -210.17</td>\n",
       "</tr>\n",
       "<tr>\n",
       "  <th>No. Observations:</th>      <td>    60</td>      <th>  AIC:               </th> <td>   424.3</td>\n",
       "</tr>\n",
       "<tr>\n",
       "  <th>Df Residuals:</th>          <td>    58</td>      <th>  BIC:               </th> <td>   428.5</td>\n",
       "</tr>\n",
       "<tr>\n",
       "  <th>Df Model:</th>              <td>     1</td>      <th>                     </th>     <td> </td>   \n",
       "</tr>\n",
       "<tr>\n",
       "  <th>Covariance Type:</th>      <td>nonrobust</td>    <th>                     </th>     <td> </td>   \n",
       "</tr>\n",
       "</table>\n",
       "<table class=\"simpletable\">\n",
       "<tr>\n",
       "      <td></td>         <th>coef</th>     <th>std err</th>      <th>t</th>      <th>P>|t|</th>  <th>[0.025</th>    <th>0.975]</th>  \n",
       "</tr>\n",
       "<tr>\n",
       "  <th>Intercept</th> <td>  156.3466</td> <td>    5.512</td> <td>   28.363</td> <td> 0.000</td> <td>  145.313</td> <td>  167.381</td>\n",
       "</tr>\n",
       "<tr>\n",
       "  <th>Y</th>         <td>   -1.1900</td> <td>    0.090</td> <td>  -13.193</td> <td> 0.000</td> <td>   -1.371</td> <td>   -1.009</td>\n",
       "</tr>\n",
       "</table>\n",
       "<table class=\"simpletable\">\n",
       "<tr>\n",
       "  <th>Omnibus:</th>       <td> 1.213</td> <th>  Durbin-Watson:     </th> <td>   2.416</td>\n",
       "</tr>\n",
       "<tr>\n",
       "  <th>Prob(Omnibus):</th> <td> 0.545</td> <th>  Jarque-Bera (JB):  </th> <td>   1.208</td>\n",
       "</tr>\n",
       "<tr>\n",
       "  <th>Skew:</th>          <td> 0.319</td> <th>  Prob(JB):          </th> <td>   0.547</td>\n",
       "</tr>\n",
       "<tr>\n",
       "  <th>Kurtosis:</th>      <td> 2.726</td> <th>  Cond. No.          </th> <td>    319.</td>\n",
       "</tr>\n",
       "</table><br/><br/>Notes:<br/>[1] Standard Errors assume that the covariance matrix of the errors is correctly specified."
      ],
      "text/plain": [
       "<class 'statsmodels.iolib.summary.Summary'>\n",
       "\"\"\"\n",
       "                            OLS Regression Results                            \n",
       "==============================================================================\n",
       "Dep. Variable:               X_new~ Y   R-squared:                       0.750\n",
       "Model:                            OLS   Adj. R-squared:                  0.746\n",
       "Method:                 Least Squares   F-statistic:                     174.1\n",
       "Date:                Sat, 15 Oct 2022   Prob (F-statistic):           4.12e-19\n",
       "Time:                        11:14:30   Log-Likelihood:                -210.17\n",
       "No. Observations:                  60   AIC:                             424.3\n",
       "Df Residuals:                      58   BIC:                             428.5\n",
       "Df Model:                           1                                         \n",
       "Covariance Type:            nonrobust                                         \n",
       "==============================================================================\n",
       "                 coef    std err          t      P>|t|      [0.025      0.975]\n",
       "------------------------------------------------------------------------------\n",
       "Intercept    156.3466      5.512     28.363      0.000     145.313     167.381\n",
       "Y             -1.1900      0.090    -13.193      0.000      -1.371      -1.009\n",
       "==============================================================================\n",
       "Omnibus:                        1.213   Durbin-Watson:                   2.416\n",
       "Prob(Omnibus):                  0.545   Jarque-Bera (JB):                1.208\n",
       "Skew:                           0.319   Prob(JB):                        0.547\n",
       "Kurtosis:                       2.726   Cond. No.                         319.\n",
       "==============================================================================\n",
       "\n",
       "Notes:\n",
       "[1] Standard Errors assume that the covariance matrix of the errors is correctly specified.\n",
       "\"\"\""
      ]
     },
     "execution_count": 120,
     "metadata": {},
     "output_type": "execute_result"
    }
   ],
   "source": [
    "fit.summary('X_new~ Y')"
   ]
  },
  {
   "cell_type": "markdown",
   "id": "5e634907",
   "metadata": {},
   "source": [
    "> ### Conclusion: \n",
    "  After the transformation of X, the value of R - squared = 0.750 is slightly higher than that of the orginal X= 0.746"
   ]
  },
  {
   "cell_type": "markdown",
   "id": "d4d5981c",
   "metadata": {},
   "source": [
    "### c. Plot the estimated regression line and the transformed data. Does the regression line appear to be a good fit for the transformed data?"
   ]
  },
  {
   "cell_type": "code",
   "execution_count": 159,
   "id": "b9ee324a",
   "metadata": {},
   "outputs": [
    {
     "name": "stdout",
     "output_type": "stream",
     "text": [
      "X_mean = 11.36936936936937\n",
      "Y_mean = 12.926486486486487\n"
     ]
    }
   ],
   "source": [
    "# sample nmean\n",
    "X_bar1 = np.mean(X1)\n",
    "Y_bar1 = np.mean(Y1)\n",
    "print('X_mean =',X_bar1)\n",
    "print('Y_mean =',Y_bar1)\n",
    "\n",
    "# difference from mean\n",
    "X_err1 = X1 - X_bar1\n",
    "Y_err1 = Y1 - Y_bar1"
   ]
  },
  {
   "cell_type": "code",
   "execution_count": 160,
   "id": "c7eb1a2c",
   "metadata": {},
   "outputs": [
    {
     "name": "stdout",
     "output_type": "stream",
     "text": [
      "A = 2608.7040540540543\n",
      "B = 4891.855855855856\n"
     ]
    }
   ],
   "source": [
    "A1 = np.sum(X_err1 * Y_err1)\n",
    "B1 = np.sum(X_err1 ** 2)\n",
    "print('A =',A1)\n",
    "print('B =',B1)"
   ]
  },
  {
   "cell_type": "code",
   "execution_count": 161,
   "id": "887676f3",
   "metadata": {},
   "outputs": [
    {
     "name": "stdout",
     "output_type": "stream",
     "text": [
      "b1 = 0.5332749228355274\n",
      "b0 = 6.863486913347429\n"
     ]
    }
   ],
   "source": [
    "b1_1 = A1/B1\n",
    "b0_1 = Y_bar1 - b1_1 * X_bar1\n",
    "print('b1 =',b1_1)\n",
    "print('b0 =',b0_1)"
   ]
  },
  {
   "cell_type": "code",
   "execution_count": 176,
   "id": "1b0a6b71",
   "metadata": {},
   "outputs": [],
   "source": [
    "Y_hat_new = b0 + b1*X_new\n",
    "Y_hat1= b0 + b1*X1\n",
    "residual_new= Y- Y_hat_new"
   ]
  },
  {
   "cell_type": "code",
   "execution_count": 177,
   "id": "96742d22",
   "metadata": {},
   "outputs": [
    {
     "data": {
      "image/png": "[encoded data removed]",
      "text/plain": [
       "<Figure size 576x396 with 1 Axes>"
      ]
     },
     "metadata": {},
     "output_type": "display_data"
    }
   ],
   "source": [
    "X_new=np.sqrt(X1)\n",
    "import matplotlib.pyplot as plt\n",
    "plt.scatter(X_new, Y1,color='red')\n",
    "x = np.linspace(20, 120, 20)\n",
    "sns.lineplot(X = X_new, Y = Y_hat_new, color='red')\n",
    "plt.show()"
   ]
  },
  {
   "cell_type": "markdown",
   "id": "fa432d6c",
   "metadata": {},
   "source": [
    "> ### Conclusion: \n",
    "  The scatter-plot shows a reasonably linear relation, the estimated regression line appears to\n",
    "be a good fit to the transformed data. "
   ]
  },
  {
   "cell_type": "markdown",
   "id": "8b635700",
   "metadata": {},
   "source": [
    "### d. Obtain the residuals and plot them against the fitted values. Also prepare a normal probability plot. What do your plots show?"
   ]
  },
  {
   "cell_type": "code",
   "execution_count": 178,
   "id": "be489dc1",
   "metadata": {},
   "outputs": [
    {
     "data": {
      "text/plain": [
       "<AxesSubplot:xlabel='Lotsize'>"
      ]
     },
     "execution_count": 178,
     "metadata": {},
     "output_type": "execute_result"
    },
    {
     "data": {
      "image/png": "[encoded data removed]",
      "text/plain": [
       "<Figure size 576x396 with 1 Axes>"
      ]
     },
     "metadata": {},
     "output_type": "display_data"
    }
   ],
   "source": [
    "# plotting residuals against the fitted values\n",
    "sns.residplot(x=Y_hat_new, y= residual_new,data=df1,color='red')"
   ]
  },
  {
   "cell_type": "code",
   "execution_count": 180,
   "id": "7d871e35",
   "metadata": {},
   "outputs": [
    {
     "data": {
      "image/png": "[encoded data removed]",
      "text/plain": [
       "<Figure size 576x396 with 1 Axes>"
      ]
     },
     "metadata": {},
     "output_type": "display_data"
    }
   ],
   "source": [
    "import statsmodels.api as sm\n",
    "import pylab as py\n",
    "sm.qqplot(residual_new)\n",
    "py.show()"
   ]
  },
  {
   "cell_type": "markdown",
   "id": "bdcc048d",
   "metadata": {},
   "source": [
    "> ### Conclusion\n",
    "The normal probability plot shows that points fall reasonably close to a straight line, with very small tails deviating from the line, suggesting that the distribution of the error terms is\n",
    "approximately normal. These two plots above show a good fit between model and data points. Q - Q plot show the distribution of the residuals appear to be symmetrical."
   ]
  },
  {
   "cell_type": "markdown",
   "id": "536810d5",
   "metadata": {},
   "source": [
    "### e. Express the estimated regression function in the original units."
   ]
  },
  {
   "cell_type": "markdown",
   "id": "5698df93",
   "metadata": {},
   "source": [
    ">The estimated regression line expressed in original units is Y = 6.863486913347429 + 0.5333 X"
   ]
  },
  {
   "cell_type": "code",
   "execution_count": null,
   "id": "4f55e45b",
   "metadata": {},
   "outputs": [],
   "source": []
  }
 ],
 "metadata": {
  "kernelspec": {
   "display_name": "Python 3 (ipykernel)",
   "language": "python",
   "name": "python3"
  },
  "language_info": {
   "codemirror_mode": {
    "name": "ipython",
    "version": 3
   },
   "file_extension": ".py",
   "mimetype": "text/x-python",
   "name": "python",
   "nbconvert_exporter": "python",
   "pygments_lexer": "ipython3",
   "version": "3.9.12"
  }
 },
 "nbformat": 4,
 "nbformat_minor": 5
}
